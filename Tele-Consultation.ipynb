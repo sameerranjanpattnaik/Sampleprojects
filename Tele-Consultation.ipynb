{
 "cells": [
  {
   "cell_type": "code",
   "execution_count": 76,
   "metadata": {},
   "outputs": [],
   "source": [
    "import pandas as pd\n",
    "import matplotlib.pyplot as plt\n",
    "import seaborn as sns\n",
    "%matplotlib inline"
   ]
  },
  {
   "cell_type": "code",
   "execution_count": 77,
   "metadata": {
    "execution": {
     "iopub.execute_input": "2021-07-15T19:05:50.149418Z",
     "iopub.status.busy": "2021-07-15T19:05:50.148792Z",
     "iopub.status.idle": "2021-07-15T19:05:50.552671Z",
     "shell.execute_reply": "2021-07-15T19:05:50.552152Z",
     "shell.execute_reply.started": "2021-07-15T19:02:54.333702Z"
    },
    "papermill": {
     "duration": 0.449963,
     "end_time": "2021-07-15T19:05:50.552808",
     "exception": false,
     "start_time": "2021-07-15T19:05:50.102845",
     "status": "completed"
    },
    "tags": []
   },
   "outputs": [],
   "source": [
    "df = pd.read_csv('NoShow.csv')"
   ]
  },
  {
   "cell_type": "code",
   "execution_count": 78,
   "metadata": {
    "execution": {
     "iopub.execute_input": "2021-07-15T19:05:50.821231Z",
     "iopub.status.busy": "2021-07-15T19:05:50.820757Z",
     "iopub.status.idle": "2021-07-15T19:05:50.853197Z",
     "shell.execute_reply": "2021-07-15T19:05:50.853646Z",
     "shell.execute_reply.started": "2021-07-15T19:02:54.766714Z"
    },
    "papermill": {
     "duration": 0.091336,
     "end_time": "2021-07-15T19:05:50.853799",
     "exception": false,
     "start_time": "2021-07-15T19:05:50.762463",
     "status": "completed"
    },
    "tags": []
   },
   "outputs": [
    {
     "data": {
      "text/html": [
       "<div>\n",
       "<style scoped>\n",
       "    .dataframe tbody tr th:only-of-type {\n",
       "        vertical-align: middle;\n",
       "    }\n",
       "\n",
       "    .dataframe tbody tr th {\n",
       "        vertical-align: top;\n",
       "    }\n",
       "\n",
       "    .dataframe thead th {\n",
       "        text-align: right;\n",
       "    }\n",
       "</style>\n",
       "<table border=\"1\" class=\"dataframe\">\n",
       "  <thead>\n",
       "    <tr style=\"text-align: right;\">\n",
       "      <th></th>\n",
       "      <th>Gender</th>\n",
       "      <th>ScheduledDay</th>\n",
       "      <th>AppointmentDay</th>\n",
       "      <th>Age</th>\n",
       "      <th>Neighbourhood</th>\n",
       "      <th>Scholarship</th>\n",
       "      <th>Hypertension</th>\n",
       "      <th>Diabetes</th>\n",
       "      <th>Alcoholism</th>\n",
       "      <th>Handicape</th>\n",
       "      <th>SMS_received</th>\n",
       "      <th>No-show</th>\n",
       "    </tr>\n",
       "  </thead>\n",
       "  <tbody>\n",
       "    <tr>\n",
       "      <td>0</td>\n",
       "      <td>F</td>\n",
       "      <td>2016-04-29T18:38:08Z</td>\n",
       "      <td>2016-04-29T00:00:00Z</td>\n",
       "      <td>62</td>\n",
       "      <td>JARDIM DA PENHA</td>\n",
       "      <td>0</td>\n",
       "      <td>1</td>\n",
       "      <td>0</td>\n",
       "      <td>0</td>\n",
       "      <td>0</td>\n",
       "      <td>0</td>\n",
       "      <td>No</td>\n",
       "    </tr>\n",
       "    <tr>\n",
       "      <td>1</td>\n",
       "      <td>M</td>\n",
       "      <td>2016-04-29T16:08:27Z</td>\n",
       "      <td>2016-04-29T00:00:00Z</td>\n",
       "      <td>56</td>\n",
       "      <td>JARDIM DA PENHA</td>\n",
       "      <td>0</td>\n",
       "      <td>0</td>\n",
       "      <td>0</td>\n",
       "      <td>0</td>\n",
       "      <td>0</td>\n",
       "      <td>0</td>\n",
       "      <td>No</td>\n",
       "    </tr>\n",
       "    <tr>\n",
       "      <td>2</td>\n",
       "      <td>F</td>\n",
       "      <td>2016-04-29T16:19:04Z</td>\n",
       "      <td>2016-04-29T00:00:00Z</td>\n",
       "      <td>62</td>\n",
       "      <td>MATA DA PRAIA</td>\n",
       "      <td>0</td>\n",
       "      <td>0</td>\n",
       "      <td>0</td>\n",
       "      <td>0</td>\n",
       "      <td>0</td>\n",
       "      <td>0</td>\n",
       "      <td>No</td>\n",
       "    </tr>\n",
       "    <tr>\n",
       "      <td>3</td>\n",
       "      <td>F</td>\n",
       "      <td>2016-04-29T17:29:31Z</td>\n",
       "      <td>2016-04-29T00:00:00Z</td>\n",
       "      <td>8</td>\n",
       "      <td>PONTAL DE CAMBURI</td>\n",
       "      <td>0</td>\n",
       "      <td>0</td>\n",
       "      <td>0</td>\n",
       "      <td>0</td>\n",
       "      <td>0</td>\n",
       "      <td>0</td>\n",
       "      <td>No</td>\n",
       "    </tr>\n",
       "    <tr>\n",
       "      <td>4</td>\n",
       "      <td>F</td>\n",
       "      <td>2016-04-29T16:07:23Z</td>\n",
       "      <td>2016-04-29T00:00:00Z</td>\n",
       "      <td>56</td>\n",
       "      <td>JARDIM DA PENHA</td>\n",
       "      <td>0</td>\n",
       "      <td>1</td>\n",
       "      <td>1</td>\n",
       "      <td>0</td>\n",
       "      <td>0</td>\n",
       "      <td>0</td>\n",
       "      <td>No</td>\n",
       "    </tr>\n",
       "  </tbody>\n",
       "</table>\n",
       "</div>"
      ],
      "text/plain": [
       "  Gender          ScheduledDay        AppointmentDay  Age      Neighbourhood  \\\n",
       "0      F  2016-04-29T18:38:08Z  2016-04-29T00:00:00Z   62    JARDIM DA PENHA   \n",
       "1      M  2016-04-29T16:08:27Z  2016-04-29T00:00:00Z   56    JARDIM DA PENHA   \n",
       "2      F  2016-04-29T16:19:04Z  2016-04-29T00:00:00Z   62      MATA DA PRAIA   \n",
       "3      F  2016-04-29T17:29:31Z  2016-04-29T00:00:00Z    8  PONTAL DE CAMBURI   \n",
       "4      F  2016-04-29T16:07:23Z  2016-04-29T00:00:00Z   56    JARDIM DA PENHA   \n",
       "\n",
       "   Scholarship  Hypertension  Diabetes  Alcoholism  Handicape  SMS_received  \\\n",
       "0            0             1         0           0          0             0   \n",
       "1            0             0         0           0          0             0   \n",
       "2            0             0         0           0          0             0   \n",
       "3            0             0         0           0          0             0   \n",
       "4            0             1         1           0          0             0   \n",
       "\n",
       "  No-show  \n",
       "0      No  \n",
       "1      No  \n",
       "2      No  \n",
       "3      No  \n",
       "4      No  "
      ]
     },
     "execution_count": 78,
     "metadata": {},
     "output_type": "execute_result"
    }
   ],
   "source": [
    "df.drop(['PatientId', 'AppointmentID'], axis=1, inplace=True)\n",
    "df.head()"
   ]
  },
  {
   "cell_type": "code",
   "execution_count": 79,
   "metadata": {},
   "outputs": [
    {
     "data": {
      "text/plain": [
       "(110527, 12)"
      ]
     },
     "execution_count": 79,
     "metadata": {},
     "output_type": "execute_result"
    }
   ],
   "source": [
    "df.shape"
   ]
  },
  {
   "cell_type": "code",
   "execution_count": 80,
   "metadata": {
    "execution": {
     "iopub.execute_input": "2021-07-15T19:05:51.026915Z",
     "iopub.status.busy": "2021-07-15T19:05:51.026350Z",
     "iopub.status.idle": "2021-07-15T19:05:51.088963Z",
     "shell.execute_reply": "2021-07-15T19:05:51.089380Z",
     "shell.execute_reply.started": "2021-07-15T19:02:54.817557Z"
    },
    "papermill": {
     "duration": 0.108555,
     "end_time": "2021-07-15T19:05:51.089541",
     "exception": false,
     "start_time": "2021-07-15T19:05:50.980986",
     "status": "completed"
    },
    "tags": []
   },
   "outputs": [
    {
     "data": {
      "text/plain": [
       "Gender            0\n",
       "ScheduledDay      0\n",
       "AppointmentDay    0\n",
       "Age               0\n",
       "Neighbourhood     0\n",
       "Scholarship       0\n",
       "Hypertension      0\n",
       "Diabetes          0\n",
       "Alcoholism        0\n",
       "Handicape         0\n",
       "SMS_received      0\n",
       "No-show           0\n",
       "dtype: int64"
      ]
     },
     "execution_count": 80,
     "metadata": {},
     "output_type": "execute_result"
    }
   ],
   "source": [
    "df.isnull().sum()"
   ]
  },
  {
   "cell_type": "code",
   "execution_count": 81,
   "metadata": {
    "execution": {
     "iopub.execute_input": "2021-07-15T19:05:51.261710Z",
     "iopub.status.busy": "2021-07-15T19:05:51.261242Z",
     "iopub.status.idle": "2021-07-15T19:05:51.268322Z",
     "shell.execute_reply": "2021-07-15T19:05:51.268795Z",
     "shell.execute_reply.started": "2021-07-15T19:02:54.903173Z"
    },
    "papermill": {
     "duration": 0.051864,
     "end_time": "2021-07-15T19:05:51.268932",
     "exception": false,
     "start_time": "2021-07-15T19:05:51.217068",
     "status": "completed"
    },
    "tags": []
   },
   "outputs": [
    {
     "data": {
      "text/plain": [
       "Gender            object\n",
       "ScheduledDay      object\n",
       "AppointmentDay    object\n",
       "Age                int64\n",
       "Neighbourhood     object\n",
       "Scholarship        int64\n",
       "Hypertension       int64\n",
       "Diabetes           int64\n",
       "Alcoholism         int64\n",
       "Handicape          int64\n",
       "SMS_received       int64\n",
       "No-show           object\n",
       "dtype: object"
      ]
     },
     "execution_count": 81,
     "metadata": {},
     "output_type": "execute_result"
    }
   ],
   "source": [
    "# checking the data types\n",
    "df.dtypes"
   ]
  },
  {
   "cell_type": "code",
   "execution_count": 82,
   "metadata": {
    "execution": {
     "iopub.execute_input": "2021-07-15T19:05:51.357501Z",
     "iopub.status.busy": "2021-07-15T19:05:51.357057Z",
     "iopub.status.idle": "2021-07-15T19:05:51.504865Z",
     "shell.execute_reply": "2021-07-15T19:05:51.505285Z",
     "shell.execute_reply.started": "2021-07-15T19:02:54.917047Z"
    },
    "papermill": {
     "duration": 0.193099,
     "end_time": "2021-07-15T19:05:51.505441",
     "exception": false,
     "start_time": "2021-07-15T19:05:51.312342",
     "status": "completed"
    },
    "tags": []
   },
   "outputs": [
    {
     "data": {
      "text/plain": [
       "Gender                         object\n",
       "ScheduledDay      datetime64[ns, UTC]\n",
       "AppointmentDay    datetime64[ns, UTC]\n",
       "Age                             int64\n",
       "Neighbourhood                  object\n",
       "Scholarship                     int64\n",
       "Hypertension                    int64\n",
       "Diabetes                        int64\n",
       "Alcoholism                      int64\n",
       "Handicape                       int64\n",
       "SMS_received                    int64\n",
       "No-show                        object\n",
       "dtype: object"
      ]
     },
     "execution_count": 82,
     "metadata": {},
     "output_type": "execute_result"
    }
   ],
   "source": [
    "# converting ScheduledDay and AppointmentDay from string to datetime objects\n",
    "df['ScheduledDay'] = pd.to_datetime(df['ScheduledDay'])\n",
    "df['AppointmentDay'] = pd.to_datetime(df['AppointmentDay'])\n",
    "df.dtypes"
   ]
  },
  {
   "cell_type": "code",
   "execution_count": 83,
   "metadata": {
    "execution": {
     "iopub.execute_input": "2021-07-15T19:05:51.596372Z",
     "iopub.status.busy": "2021-07-15T19:05:51.595854Z",
     "iopub.status.idle": "2021-07-15T19:05:51.671506Z",
     "shell.execute_reply": "2021-07-15T19:05:51.671992Z",
     "shell.execute_reply.started": "2021-07-15T19:02:55.047638Z"
    },
    "papermill": {
     "duration": 0.122973,
     "end_time": "2021-07-15T19:05:51.672130",
     "exception": false,
     "start_time": "2021-07-15T19:05:51.549157",
     "status": "completed"
    },
    "tags": []
   },
   "outputs": [
    {
     "data": {
      "text/plain": [
       "635"
      ]
     },
     "execution_count": 83,
     "metadata": {},
     "output_type": "execute_result"
    }
   ],
   "source": [
    "# check for duplicated values\n",
    "df.duplicated().sum()"
   ]
  },
  {
   "cell_type": "code",
   "execution_count": 84,
   "metadata": {
    "execution": {
     "iopub.execute_input": "2021-07-15T19:05:51.761986Z",
     "iopub.status.busy": "2021-07-15T19:05:51.761490Z",
     "iopub.status.idle": "2021-07-15T19:05:51.846300Z",
     "shell.execute_reply": "2021-07-15T19:05:51.846714Z",
     "shell.execute_reply.started": "2021-07-15T19:02:55.135197Z"
    },
    "papermill": {
     "duration": 0.130921,
     "end_time": "2021-07-15T19:05:51.846882",
     "exception": false,
     "start_time": "2021-07-15T19:05:51.715961",
     "status": "completed"
    },
    "tags": []
   },
   "outputs": [],
   "source": [
    "# remove any duplicates found\n",
    "df.drop_duplicates(inplace=True)"
   ]
  },
  {
   "cell_type": "code",
   "execution_count": 85,
   "metadata": {
    "execution": {
     "iopub.execute_input": "2021-07-15T19:05:51.942308Z",
     "iopub.status.busy": "2021-07-15T19:05:51.938336Z",
     "iopub.status.idle": "2021-07-15T19:05:51.989551Z",
     "shell.execute_reply": "2021-07-15T19:05:51.988544Z",
     "shell.execute_reply.started": "2021-07-15T19:02:55.211594Z"
    },
    "papermill": {
     "duration": 0.09935,
     "end_time": "2021-07-15T19:05:51.989676",
     "exception": false,
     "start_time": "2021-07-15T19:05:51.890326",
     "status": "completed"
    },
    "tags": []
   },
   "outputs": [
    {
     "data": {
      "text/plain": [
       "0"
      ]
     },
     "execution_count": 85,
     "metadata": {},
     "output_type": "execute_result"
    }
   ],
   "source": [
    "# now we check again\n",
    "df.duplicated().sum()"
   ]
  },
  {
   "cell_type": "code",
   "execution_count": 86,
   "metadata": {
    "execution": {
     "iopub.execute_input": "2021-07-15T19:05:52.086613Z",
     "iopub.status.busy": "2021-07-15T19:05:52.083025Z",
     "iopub.status.idle": "2021-07-15T19:05:52.136273Z",
     "shell.execute_reply": "2021-07-15T19:05:52.135872Z",
     "shell.execute_reply.started": "2021-07-15T19:02:55.285984Z"
    },
    "papermill": {
     "duration": 0.103274,
     "end_time": "2021-07-15T19:05:52.136386",
     "exception": false,
     "start_time": "2021-07-15T19:05:52.033112",
     "status": "completed"
    },
    "tags": []
   },
   "outputs": [
    {
     "data": {
      "text/html": [
       "<div>\n",
       "<style scoped>\n",
       "    .dataframe tbody tr th:only-of-type {\n",
       "        vertical-align: middle;\n",
       "    }\n",
       "\n",
       "    .dataframe tbody tr th {\n",
       "        vertical-align: top;\n",
       "    }\n",
       "\n",
       "    .dataframe thead th {\n",
       "        text-align: right;\n",
       "    }\n",
       "</style>\n",
       "<table border=\"1\" class=\"dataframe\">\n",
       "  <thead>\n",
       "    <tr style=\"text-align: right;\">\n",
       "      <th></th>\n",
       "      <th>Age</th>\n",
       "      <th>Scholarship</th>\n",
       "      <th>Hypertension</th>\n",
       "      <th>Diabetes</th>\n",
       "      <th>Alcoholism</th>\n",
       "      <th>Handicape</th>\n",
       "      <th>SMS_received</th>\n",
       "    </tr>\n",
       "  </thead>\n",
       "  <tbody>\n",
       "    <tr>\n",
       "      <td>count</td>\n",
       "      <td>109892.000000</td>\n",
       "      <td>109892.000000</td>\n",
       "      <td>109892.000000</td>\n",
       "      <td>109892.000000</td>\n",
       "      <td>109892.000000</td>\n",
       "      <td>109892.000000</td>\n",
       "      <td>109892.000000</td>\n",
       "    </tr>\n",
       "    <tr>\n",
       "      <td>mean</td>\n",
       "      <td>37.089506</td>\n",
       "      <td>0.098287</td>\n",
       "      <td>0.197248</td>\n",
       "      <td>0.071825</td>\n",
       "      <td>0.030430</td>\n",
       "      <td>0.022131</td>\n",
       "      <td>0.322881</td>\n",
       "    </tr>\n",
       "    <tr>\n",
       "      <td>std</td>\n",
       "      <td>23.121196</td>\n",
       "      <td>0.297704</td>\n",
       "      <td>0.397923</td>\n",
       "      <td>0.258199</td>\n",
       "      <td>0.171768</td>\n",
       "      <td>0.160878</td>\n",
       "      <td>0.467580</td>\n",
       "    </tr>\n",
       "    <tr>\n",
       "      <td>min</td>\n",
       "      <td>-1.000000</td>\n",
       "      <td>0.000000</td>\n",
       "      <td>0.000000</td>\n",
       "      <td>0.000000</td>\n",
       "      <td>0.000000</td>\n",
       "      <td>0.000000</td>\n",
       "      <td>0.000000</td>\n",
       "    </tr>\n",
       "    <tr>\n",
       "      <td>25%</td>\n",
       "      <td>18.000000</td>\n",
       "      <td>0.000000</td>\n",
       "      <td>0.000000</td>\n",
       "      <td>0.000000</td>\n",
       "      <td>0.000000</td>\n",
       "      <td>0.000000</td>\n",
       "      <td>0.000000</td>\n",
       "    </tr>\n",
       "    <tr>\n",
       "      <td>50%</td>\n",
       "      <td>37.000000</td>\n",
       "      <td>0.000000</td>\n",
       "      <td>0.000000</td>\n",
       "      <td>0.000000</td>\n",
       "      <td>0.000000</td>\n",
       "      <td>0.000000</td>\n",
       "      <td>0.000000</td>\n",
       "    </tr>\n",
       "    <tr>\n",
       "      <td>75%</td>\n",
       "      <td>55.000000</td>\n",
       "      <td>0.000000</td>\n",
       "      <td>0.000000</td>\n",
       "      <td>0.000000</td>\n",
       "      <td>0.000000</td>\n",
       "      <td>0.000000</td>\n",
       "      <td>1.000000</td>\n",
       "    </tr>\n",
       "    <tr>\n",
       "      <td>max</td>\n",
       "      <td>115.000000</td>\n",
       "      <td>1.000000</td>\n",
       "      <td>1.000000</td>\n",
       "      <td>1.000000</td>\n",
       "      <td>1.000000</td>\n",
       "      <td>4.000000</td>\n",
       "      <td>1.000000</td>\n",
       "    </tr>\n",
       "  </tbody>\n",
       "</table>\n",
       "</div>"
      ],
      "text/plain": [
       "                 Age    Scholarship   Hypertension       Diabetes  \\\n",
       "count  109892.000000  109892.000000  109892.000000  109892.000000   \n",
       "mean       37.089506       0.098287       0.197248       0.071825   \n",
       "std        23.121196       0.297704       0.397923       0.258199   \n",
       "min        -1.000000       0.000000       0.000000       0.000000   \n",
       "25%        18.000000       0.000000       0.000000       0.000000   \n",
       "50%        37.000000       0.000000       0.000000       0.000000   \n",
       "75%        55.000000       0.000000       0.000000       0.000000   \n",
       "max       115.000000       1.000000       1.000000       1.000000   \n",
       "\n",
       "          Alcoholism      Handicape   SMS_received  \n",
       "count  109892.000000  109892.000000  109892.000000  \n",
       "mean        0.030430       0.022131       0.322881  \n",
       "std         0.171768       0.160878       0.467580  \n",
       "min         0.000000       0.000000       0.000000  \n",
       "25%         0.000000       0.000000       0.000000  \n",
       "50%         0.000000       0.000000       0.000000  \n",
       "75%         0.000000       0.000000       1.000000  \n",
       "max         1.000000       4.000000       1.000000  "
      ]
     },
     "execution_count": 86,
     "metadata": {},
     "output_type": "execute_result"
    }
   ],
   "source": [
    "# now we check the describtive analysis for the data\n",
    "df.describe()"
   ]
  },
  {
   "cell_type": "code",
   "execution_count": 87,
   "metadata": {
    "execution": {
     "iopub.execute_input": "2021-07-15T19:05:52.314909Z",
     "iopub.status.busy": "2021-07-15T19:05:52.314425Z",
     "iopub.status.idle": "2021-07-15T19:05:52.339445Z",
     "shell.execute_reply": "2021-07-15T19:05:52.338879Z",
     "shell.execute_reply.started": "2021-07-15T19:02:55.350380Z"
    },
    "papermill": {
     "duration": 0.072497,
     "end_time": "2021-07-15T19:05:52.339585",
     "exception": false,
     "start_time": "2021-07-15T19:05:52.267088",
     "status": "completed"
    },
    "tags": []
   },
   "outputs": [
    {
     "data": {
      "text/plain": [
       "1"
      ]
     },
     "execution_count": 87,
     "metadata": {},
     "output_type": "execute_result"
    }
   ],
   "source": [
    "df[df[\"Age\"] < 0].shape[0]"
   ]
  },
  {
   "cell_type": "code",
   "execution_count": 88,
   "metadata": {
    "execution": {
     "iopub.execute_input": "2021-07-15T19:05:52.612902Z",
     "iopub.status.busy": "2021-07-15T19:05:52.612047Z",
     "iopub.status.idle": "2021-07-15T19:05:52.634075Z",
     "shell.execute_reply": "2021-07-15T19:05:52.633383Z",
     "shell.execute_reply.started": "2021-07-15T19:02:55.377343Z"
    },
    "papermill": {
     "duration": 0.092058,
     "end_time": "2021-07-15T19:05:52.634214",
     "exception": false,
     "start_time": "2021-07-15T19:05:52.542156",
     "status": "completed"
    },
    "tags": []
   },
   "outputs": [],
   "source": [
    "df.drop(df[df[\"Age\"] < 0].index, inplace=True)"
   ]
  },
  {
   "cell_type": "code",
   "execution_count": 89,
   "metadata": {
    "execution": {
     "iopub.execute_input": "2021-07-15T19:05:52.779403Z",
     "iopub.status.busy": "2021-07-15T19:05:52.778690Z",
     "iopub.status.idle": "2021-07-15T19:05:52.782156Z",
     "shell.execute_reply": "2021-07-15T19:05:52.782656Z",
     "shell.execute_reply.started": "2021-07-15T19:02:55.399181Z"
    },
    "papermill": {
     "duration": 0.080229,
     "end_time": "2021-07-15T19:05:52.782879",
     "exception": false,
     "start_time": "2021-07-15T19:05:52.702650",
     "status": "completed"
    },
    "tags": []
   },
   "outputs": [
    {
     "data": {
      "text/plain": [
       "0"
      ]
     },
     "execution_count": 89,
     "metadata": {},
     "output_type": "execute_result"
    }
   ],
   "source": [
    "# we check again\n",
    "df[df[\"Age\"] < 0].shape[0]"
   ]
  },
  {
   "cell_type": "code",
   "execution_count": 90,
   "metadata": {
    "execution": {
     "iopub.execute_input": "2021-07-15T19:05:52.924866Z",
     "iopub.status.busy": "2021-07-15T19:05:52.924208Z",
     "iopub.status.idle": "2021-07-15T19:05:52.937454Z",
     "shell.execute_reply": "2021-07-15T19:05:52.936856Z",
     "shell.execute_reply.started": "2021-07-15T19:02:55.408432Z"
    },
    "papermill": {
     "duration": 0.084819,
     "end_time": "2021-07-15T19:05:52.937595",
     "exception": false,
     "start_time": "2021-07-15T19:05:52.852776",
     "status": "completed"
    },
    "tags": []
   },
   "outputs": [
    {
     "data": {
      "text/plain": [
       "103548"
      ]
     },
     "execution_count": 90,
     "metadata": {},
     "output_type": "execute_result"
    }
   ],
   "source": [
    "# Check if the Scheduled Day is unique or not ?\n",
    "df.ScheduledDay.nunique()"
   ]
  },
  {
   "cell_type": "code",
   "execution_count": 91,
   "metadata": {
    "execution": {
     "iopub.execute_input": "2021-07-15T19:05:53.218781Z",
     "iopub.status.busy": "2021-07-15T19:05:53.218033Z",
     "iopub.status.idle": "2021-07-15T19:05:53.253019Z",
     "shell.execute_reply": "2021-07-15T19:05:53.252558Z",
     "shell.execute_reply.started": "2021-07-15T19:02:55.433101Z"
    },
    "papermill": {
     "duration": 0.108863,
     "end_time": "2021-07-15T19:05:53.253130",
     "exception": false,
     "start_time": "2021-07-15T19:05:53.144267",
     "status": "completed"
    },
    "tags": []
   },
   "outputs": [],
   "source": [
    "#Extracing Year, Month, Week, Day, and Hour from ScheduledDay\n",
    "df[\"ScheduledDay_year\"] = df.ScheduledDay.dt.year\n",
    "df['ScheduledDay_month']= df.ScheduledDay.dt.month\n",
    "df['ScheduledDay_week']= df.ScheduledDay.dt.week\n",
    "df['ScheduledDay_day']= df.ScheduledDay.dt.day\n",
    "df['ScheduledDay_hour']= df.ScheduledDay.dt.hour"
   ]
  },
  {
   "cell_type": "code",
   "execution_count": 92,
   "metadata": {
    "execution": {
     "iopub.execute_input": "2021-07-15T19:05:53.359284Z",
     "iopub.status.busy": "2021-07-15T19:05:53.352565Z",
     "iopub.status.idle": "2021-07-15T19:05:53.363941Z",
     "shell.execute_reply": "2021-07-15T19:05:53.363408Z",
     "shell.execute_reply.started": "2021-07-15T19:02:55.506698Z"
    },
    "papermill": {
     "duration": 0.066374,
     "end_time": "2021-07-15T19:05:53.364052",
     "exception": false,
     "start_time": "2021-07-15T19:05:53.297678",
     "status": "completed"
    },
    "tags": []
   },
   "outputs": [
    {
     "data": {
      "text/html": [
       "<div>\n",
       "<style scoped>\n",
       "    .dataframe tbody tr th:only-of-type {\n",
       "        vertical-align: middle;\n",
       "    }\n",
       "\n",
       "    .dataframe tbody tr th {\n",
       "        vertical-align: top;\n",
       "    }\n",
       "\n",
       "    .dataframe thead th {\n",
       "        text-align: right;\n",
       "    }\n",
       "</style>\n",
       "<table border=\"1\" class=\"dataframe\">\n",
       "  <thead>\n",
       "    <tr style=\"text-align: right;\">\n",
       "      <th></th>\n",
       "      <th>Gender</th>\n",
       "      <th>ScheduledDay</th>\n",
       "      <th>AppointmentDay</th>\n",
       "      <th>Age</th>\n",
       "      <th>Neighbourhood</th>\n",
       "      <th>Scholarship</th>\n",
       "      <th>Hypertension</th>\n",
       "      <th>Diabetes</th>\n",
       "      <th>Alcoholism</th>\n",
       "      <th>Handicape</th>\n",
       "      <th>SMS_received</th>\n",
       "      <th>No-show</th>\n",
       "      <th>ScheduledDay_year</th>\n",
       "      <th>ScheduledDay_month</th>\n",
       "      <th>ScheduledDay_week</th>\n",
       "      <th>ScheduledDay_day</th>\n",
       "      <th>ScheduledDay_hour</th>\n",
       "    </tr>\n",
       "  </thead>\n",
       "  <tbody>\n",
       "    <tr>\n",
       "      <td>0</td>\n",
       "      <td>F</td>\n",
       "      <td>2016-04-29 18:38:08+00:00</td>\n",
       "      <td>2016-04-29 00:00:00+00:00</td>\n",
       "      <td>62</td>\n",
       "      <td>JARDIM DA PENHA</td>\n",
       "      <td>0</td>\n",
       "      <td>1</td>\n",
       "      <td>0</td>\n",
       "      <td>0</td>\n",
       "      <td>0</td>\n",
       "      <td>0</td>\n",
       "      <td>No</td>\n",
       "      <td>2016</td>\n",
       "      <td>4</td>\n",
       "      <td>17</td>\n",
       "      <td>29</td>\n",
       "      <td>18</td>\n",
       "    </tr>\n",
       "    <tr>\n",
       "      <td>1</td>\n",
       "      <td>M</td>\n",
       "      <td>2016-04-29 16:08:27+00:00</td>\n",
       "      <td>2016-04-29 00:00:00+00:00</td>\n",
       "      <td>56</td>\n",
       "      <td>JARDIM DA PENHA</td>\n",
       "      <td>0</td>\n",
       "      <td>0</td>\n",
       "      <td>0</td>\n",
       "      <td>0</td>\n",
       "      <td>0</td>\n",
       "      <td>0</td>\n",
       "      <td>No</td>\n",
       "      <td>2016</td>\n",
       "      <td>4</td>\n",
       "      <td>17</td>\n",
       "      <td>29</td>\n",
       "      <td>16</td>\n",
       "    </tr>\n",
       "    <tr>\n",
       "      <td>2</td>\n",
       "      <td>F</td>\n",
       "      <td>2016-04-29 16:19:04+00:00</td>\n",
       "      <td>2016-04-29 00:00:00+00:00</td>\n",
       "      <td>62</td>\n",
       "      <td>MATA DA PRAIA</td>\n",
       "      <td>0</td>\n",
       "      <td>0</td>\n",
       "      <td>0</td>\n",
       "      <td>0</td>\n",
       "      <td>0</td>\n",
       "      <td>0</td>\n",
       "      <td>No</td>\n",
       "      <td>2016</td>\n",
       "      <td>4</td>\n",
       "      <td>17</td>\n",
       "      <td>29</td>\n",
       "      <td>16</td>\n",
       "    </tr>\n",
       "    <tr>\n",
       "      <td>3</td>\n",
       "      <td>F</td>\n",
       "      <td>2016-04-29 17:29:31+00:00</td>\n",
       "      <td>2016-04-29 00:00:00+00:00</td>\n",
       "      <td>8</td>\n",
       "      <td>PONTAL DE CAMBURI</td>\n",
       "      <td>0</td>\n",
       "      <td>0</td>\n",
       "      <td>0</td>\n",
       "      <td>0</td>\n",
       "      <td>0</td>\n",
       "      <td>0</td>\n",
       "      <td>No</td>\n",
       "      <td>2016</td>\n",
       "      <td>4</td>\n",
       "      <td>17</td>\n",
       "      <td>29</td>\n",
       "      <td>17</td>\n",
       "    </tr>\n",
       "    <tr>\n",
       "      <td>4</td>\n",
       "      <td>F</td>\n",
       "      <td>2016-04-29 16:07:23+00:00</td>\n",
       "      <td>2016-04-29 00:00:00+00:00</td>\n",
       "      <td>56</td>\n",
       "      <td>JARDIM DA PENHA</td>\n",
       "      <td>0</td>\n",
       "      <td>1</td>\n",
       "      <td>1</td>\n",
       "      <td>0</td>\n",
       "      <td>0</td>\n",
       "      <td>0</td>\n",
       "      <td>No</td>\n",
       "      <td>2016</td>\n",
       "      <td>4</td>\n",
       "      <td>17</td>\n",
       "      <td>29</td>\n",
       "      <td>16</td>\n",
       "    </tr>\n",
       "  </tbody>\n",
       "</table>\n",
       "</div>"
      ],
      "text/plain": [
       "  Gender              ScheduledDay            AppointmentDay  Age  \\\n",
       "0      F 2016-04-29 18:38:08+00:00 2016-04-29 00:00:00+00:00   62   \n",
       "1      M 2016-04-29 16:08:27+00:00 2016-04-29 00:00:00+00:00   56   \n",
       "2      F 2016-04-29 16:19:04+00:00 2016-04-29 00:00:00+00:00   62   \n",
       "3      F 2016-04-29 17:29:31+00:00 2016-04-29 00:00:00+00:00    8   \n",
       "4      F 2016-04-29 16:07:23+00:00 2016-04-29 00:00:00+00:00   56   \n",
       "\n",
       "       Neighbourhood  Scholarship  Hypertension  Diabetes  Alcoholism  \\\n",
       "0    JARDIM DA PENHA            0             1         0           0   \n",
       "1    JARDIM DA PENHA            0             0         0           0   \n",
       "2      MATA DA PRAIA            0             0         0           0   \n",
       "3  PONTAL DE CAMBURI            0             0         0           0   \n",
       "4    JARDIM DA PENHA            0             1         1           0   \n",
       "\n",
       "   Handicape  SMS_received No-show  ScheduledDay_year  ScheduledDay_month  \\\n",
       "0          0             0      No               2016                   4   \n",
       "1          0             0      No               2016                   4   \n",
       "2          0             0      No               2016                   4   \n",
       "3          0             0      No               2016                   4   \n",
       "4          0             0      No               2016                   4   \n",
       "\n",
       "   ScheduledDay_week  ScheduledDay_day  ScheduledDay_hour  \n",
       "0                 17                29                 18  \n",
       "1                 17                29                 16  \n",
       "2                 17                29                 16  \n",
       "3                 17                29                 17  \n",
       "4                 17                29                 16  "
      ]
     },
     "execution_count": 92,
     "metadata": {},
     "output_type": "execute_result"
    }
   ],
   "source": [
    "df.head()"
   ]
  },
  {
   "cell_type": "code",
   "execution_count": 93,
   "metadata": {
    "execution": {
     "iopub.execute_input": "2021-07-15T19:05:53.551956Z",
     "iopub.status.busy": "2021-07-15T19:05:53.551342Z",
     "iopub.status.idle": "2021-07-15T19:05:53.559052Z",
     "shell.execute_reply": "2021-07-15T19:05:53.558601Z",
     "shell.execute_reply.started": "2021-07-15T19:02:55.530460Z"
    },
    "papermill": {
     "duration": 0.057455,
     "end_time": "2021-07-15T19:05:53.559168",
     "exception": false,
     "start_time": "2021-07-15T19:05:53.501713",
     "status": "completed"
    },
    "tags": []
   },
   "outputs": [
    {
     "data": {
      "text/plain": [
       "27"
      ]
     },
     "execution_count": 93,
     "metadata": {},
     "output_type": "execute_result"
    }
   ],
   "source": [
    "df.AppointmentDay.nunique()"
   ]
  },
  {
   "cell_type": "code",
   "execution_count": 94,
   "metadata": {
    "execution": {
     "iopub.execute_input": "2021-07-15T19:05:53.934561Z",
     "iopub.status.busy": "2021-07-15T19:05:53.934068Z",
     "iopub.status.idle": "2021-07-15T19:05:54.153041Z",
     "shell.execute_reply": "2021-07-15T19:05:54.152520Z",
     "shell.execute_reply.started": "2021-07-15T19:02:55.547537Z"
    },
    "papermill": {
     "duration": 0.271097,
     "end_time": "2021-07-15T19:05:54.153148",
     "exception": false,
     "start_time": "2021-07-15T19:05:53.882051",
     "status": "completed"
    },
    "tags": []
   },
   "outputs": [
    {
     "data": {
      "text/html": [
       "<div>\n",
       "<style scoped>\n",
       "    .dataframe tbody tr th:only-of-type {\n",
       "        vertical-align: middle;\n",
       "    }\n",
       "\n",
       "    .dataframe tbody tr th {\n",
       "        vertical-align: top;\n",
       "    }\n",
       "\n",
       "    .dataframe thead th {\n",
       "        text-align: right;\n",
       "    }\n",
       "</style>\n",
       "<table border=\"1\" class=\"dataframe\">\n",
       "  <thead>\n",
       "    <tr style=\"text-align: right;\">\n",
       "      <th></th>\n",
       "      <th>Age</th>\n",
       "      <th>Scholarship</th>\n",
       "      <th>Hypertension</th>\n",
       "      <th>Diabetes</th>\n",
       "      <th>Alcoholism</th>\n",
       "      <th>Handicape</th>\n",
       "      <th>SMS_received</th>\n",
       "      <th>ScheduledDay_year</th>\n",
       "      <th>ScheduledDay_month</th>\n",
       "      <th>ScheduledDay_week</th>\n",
       "      <th>ScheduledDay_day</th>\n",
       "      <th>ScheduledDay_hour</th>\n",
       "    </tr>\n",
       "  </thead>\n",
       "  <tbody>\n",
       "    <tr>\n",
       "      <td>count</td>\n",
       "      <td>109891.000000</td>\n",
       "      <td>109891.000000</td>\n",
       "      <td>109891.000000</td>\n",
       "      <td>109891.000000</td>\n",
       "      <td>109891.000000</td>\n",
       "      <td>109891.000000</td>\n",
       "      <td>109891.000000</td>\n",
       "      <td>109891.000000</td>\n",
       "      <td>109891.000000</td>\n",
       "      <td>109891.000000</td>\n",
       "      <td>109891.000000</td>\n",
       "      <td>109891.000000</td>\n",
       "    </tr>\n",
       "    <tr>\n",
       "      <td>mean</td>\n",
       "      <td>37.089853</td>\n",
       "      <td>0.098288</td>\n",
       "      <td>0.197250</td>\n",
       "      <td>0.071826</td>\n",
       "      <td>0.030430</td>\n",
       "      <td>0.022131</td>\n",
       "      <td>0.322884</td>\n",
       "      <td>2015.999436</td>\n",
       "      <td>4.825200</td>\n",
       "      <td>18.750198</td>\n",
       "      <td>14.249939</td>\n",
       "      <td>10.772975</td>\n",
       "    </tr>\n",
       "    <tr>\n",
       "      <td>std</td>\n",
       "      <td>23.121015</td>\n",
       "      <td>0.297705</td>\n",
       "      <td>0.397924</td>\n",
       "      <td>0.258200</td>\n",
       "      <td>0.171769</td>\n",
       "      <td>0.160879</td>\n",
       "      <td>0.467581</td>\n",
       "      <td>0.023746</td>\n",
       "      <td>0.715768</td>\n",
       "      <td>2.803226</td>\n",
       "      <td>9.348329</td>\n",
       "      <td>3.217516</td>\n",
       "    </tr>\n",
       "    <tr>\n",
       "      <td>min</td>\n",
       "      <td>0.000000</td>\n",
       "      <td>0.000000</td>\n",
       "      <td>0.000000</td>\n",
       "      <td>0.000000</td>\n",
       "      <td>0.000000</td>\n",
       "      <td>0.000000</td>\n",
       "      <td>0.000000</td>\n",
       "      <td>2015.000000</td>\n",
       "      <td>1.000000</td>\n",
       "      <td>1.000000</td>\n",
       "      <td>1.000000</td>\n",
       "      <td>6.000000</td>\n",
       "    </tr>\n",
       "    <tr>\n",
       "      <td>25%</td>\n",
       "      <td>18.000000</td>\n",
       "      <td>0.000000</td>\n",
       "      <td>0.000000</td>\n",
       "      <td>0.000000</td>\n",
       "      <td>0.000000</td>\n",
       "      <td>0.000000</td>\n",
       "      <td>0.000000</td>\n",
       "      <td>2016.000000</td>\n",
       "      <td>4.000000</td>\n",
       "      <td>17.000000</td>\n",
       "      <td>6.000000</td>\n",
       "      <td>8.000000</td>\n",
       "    </tr>\n",
       "    <tr>\n",
       "      <td>50%</td>\n",
       "      <td>37.000000</td>\n",
       "      <td>0.000000</td>\n",
       "      <td>0.000000</td>\n",
       "      <td>0.000000</td>\n",
       "      <td>0.000000</td>\n",
       "      <td>0.000000</td>\n",
       "      <td>0.000000</td>\n",
       "      <td>2016.000000</td>\n",
       "      <td>5.000000</td>\n",
       "      <td>19.000000</td>\n",
       "      <td>13.000000</td>\n",
       "      <td>10.000000</td>\n",
       "    </tr>\n",
       "    <tr>\n",
       "      <td>75%</td>\n",
       "      <td>55.000000</td>\n",
       "      <td>0.000000</td>\n",
       "      <td>0.000000</td>\n",
       "      <td>0.000000</td>\n",
       "      <td>0.000000</td>\n",
       "      <td>0.000000</td>\n",
       "      <td>1.000000</td>\n",
       "      <td>2016.000000</td>\n",
       "      <td>5.000000</td>\n",
       "      <td>20.000000</td>\n",
       "      <td>22.000000</td>\n",
       "      <td>13.000000</td>\n",
       "    </tr>\n",
       "    <tr>\n",
       "      <td>max</td>\n",
       "      <td>115.000000</td>\n",
       "      <td>1.000000</td>\n",
       "      <td>1.000000</td>\n",
       "      <td>1.000000</td>\n",
       "      <td>1.000000</td>\n",
       "      <td>4.000000</td>\n",
       "      <td>1.000000</td>\n",
       "      <td>2016.000000</td>\n",
       "      <td>12.000000</td>\n",
       "      <td>51.000000</td>\n",
       "      <td>31.000000</td>\n",
       "      <td>21.000000</td>\n",
       "    </tr>\n",
       "  </tbody>\n",
       "</table>\n",
       "</div>"
      ],
      "text/plain": [
       "                 Age    Scholarship   Hypertension       Diabetes  \\\n",
       "count  109891.000000  109891.000000  109891.000000  109891.000000   \n",
       "mean       37.089853       0.098288       0.197250       0.071826   \n",
       "std        23.121015       0.297705       0.397924       0.258200   \n",
       "min         0.000000       0.000000       0.000000       0.000000   \n",
       "25%        18.000000       0.000000       0.000000       0.000000   \n",
       "50%        37.000000       0.000000       0.000000       0.000000   \n",
       "75%        55.000000       0.000000       0.000000       0.000000   \n",
       "max       115.000000       1.000000       1.000000       1.000000   \n",
       "\n",
       "          Alcoholism      Handicape   SMS_received  ScheduledDay_year  \\\n",
       "count  109891.000000  109891.000000  109891.000000      109891.000000   \n",
       "mean        0.030430       0.022131       0.322884        2015.999436   \n",
       "std         0.171769       0.160879       0.467581           0.023746   \n",
       "min         0.000000       0.000000       0.000000        2015.000000   \n",
       "25%         0.000000       0.000000       0.000000        2016.000000   \n",
       "50%         0.000000       0.000000       0.000000        2016.000000   \n",
       "75%         0.000000       0.000000       1.000000        2016.000000   \n",
       "max         1.000000       4.000000       1.000000        2016.000000   \n",
       "\n",
       "       ScheduledDay_month  ScheduledDay_week  ScheduledDay_day  \\\n",
       "count       109891.000000      109891.000000     109891.000000   \n",
       "mean             4.825200          18.750198         14.249939   \n",
       "std              0.715768           2.803226          9.348329   \n",
       "min              1.000000           1.000000          1.000000   \n",
       "25%              4.000000          17.000000          6.000000   \n",
       "50%              5.000000          19.000000         13.000000   \n",
       "75%              5.000000          20.000000         22.000000   \n",
       "max             12.000000          51.000000         31.000000   \n",
       "\n",
       "       ScheduledDay_hour  \n",
       "count      109891.000000  \n",
       "mean           10.772975  \n",
       "std             3.217516  \n",
       "min             6.000000  \n",
       "25%             8.000000  \n",
       "50%            10.000000  \n",
       "75%            13.000000  \n",
       "max            21.000000  "
      ]
     },
     "execution_count": 94,
     "metadata": {},
     "output_type": "execute_result"
    }
   ],
   "source": [
    "# Use this, and more code cells, to explore your data. Don't forget to add\n",
    "#   Markdown cells to document your observations and findings.\n",
    "df.describe()"
   ]
  },
  {
   "cell_type": "code",
   "execution_count": 95,
   "metadata": {
    "execution": {
     "iopub.execute_input": "2021-07-15T19:05:54.251516Z",
     "iopub.status.busy": "2021-07-15T19:05:54.251070Z",
     "iopub.status.idle": "2021-07-15T19:05:54.301943Z",
     "shell.execute_reply": "2021-07-15T19:05:54.301307Z",
     "shell.execute_reply.started": "2021-07-15T19:02:55.761837Z"
    },
    "papermill": {
     "duration": 0.101321,
     "end_time": "2021-07-15T19:05:54.302095",
     "exception": false,
     "start_time": "2021-07-15T19:05:54.200774",
     "status": "completed"
    },
    "tags": []
   },
   "outputs": [
    {
     "name": "stdout",
     "output_type": "stream",
     "text": [
      "<class 'pandas.core.frame.DataFrame'>\n",
      "Int64Index: 109891 entries, 0 to 110526\n",
      "Data columns (total 17 columns):\n",
      "Gender                109891 non-null object\n",
      "ScheduledDay          109891 non-null datetime64[ns, UTC]\n",
      "AppointmentDay        109891 non-null datetime64[ns, UTC]\n",
      "Age                   109891 non-null int64\n",
      "Neighbourhood         109891 non-null object\n",
      "Scholarship           109891 non-null int64\n",
      "Hypertension          109891 non-null int64\n",
      "Diabetes              109891 non-null int64\n",
      "Alcoholism            109891 non-null int64\n",
      "Handicape             109891 non-null int64\n",
      "SMS_received          109891 non-null int64\n",
      "No-show               109891 non-null object\n",
      "ScheduledDay_year     109891 non-null int64\n",
      "ScheduledDay_month    109891 non-null int64\n",
      "ScheduledDay_week     109891 non-null int64\n",
      "ScheduledDay_day      109891 non-null int64\n",
      "ScheduledDay_hour     109891 non-null int64\n",
      "dtypes: datetime64[ns, UTC](2), int64(12), object(3)\n",
      "memory usage: 15.1+ MB\n"
     ]
    }
   ],
   "source": [
    "df.info()"
   ]
  },
  {
   "cell_type": "code",
   "execution_count": 96,
   "metadata": {
    "execution": {
     "iopub.execute_input": "2021-07-15T19:05:54.450084Z",
     "iopub.status.busy": "2021-07-15T19:05:54.449479Z",
     "iopub.status.idle": "2021-07-15T19:05:54.455171Z",
     "shell.execute_reply": "2021-07-15T19:05:54.454667Z",
     "shell.execute_reply.started": "2021-07-15T19:02:55.817067Z"
    },
    "papermill": {
     "duration": 0.080017,
     "end_time": "2021-07-15T19:05:54.455293",
     "exception": false,
     "start_time": "2021-07-15T19:05:54.375276",
     "status": "completed"
    },
    "tags": []
   },
   "outputs": [
    {
     "data": {
      "text/plain": [
       "2"
      ]
     },
     "execution_count": 96,
     "metadata": {},
     "output_type": "execute_result"
    }
   ],
   "source": [
    "df.ScheduledDay_year.nunique()"
   ]
  },
  {
   "cell_type": "code",
   "execution_count": 97,
   "metadata": {
    "execution": {
     "iopub.execute_input": "2021-07-15T19:05:54.604360Z",
     "iopub.status.busy": "2021-07-15T19:05:54.603677Z",
     "iopub.status.idle": "2021-07-15T19:05:54.607385Z",
     "shell.execute_reply": "2021-07-15T19:05:54.607901Z",
     "shell.execute_reply.started": "2021-07-15T19:02:55.827283Z"
    },
    "papermill": {
     "duration": 0.082372,
     "end_time": "2021-07-15T19:05:54.608068",
     "exception": false,
     "start_time": "2021-07-15T19:05:54.525696",
     "status": "completed"
    },
    "tags": []
   },
   "outputs": [
    {
     "data": {
      "text/plain": [
       "2016    109829\n",
       "2015        62\n",
       "Name: ScheduledDay_year, dtype: int64"
      ]
     },
     "execution_count": 97,
     "metadata": {},
     "output_type": "execute_result"
    }
   ],
   "source": [
    "df.ScheduledDay_year.value_counts()"
   ]
  },
  {
   "cell_type": "code",
   "execution_count": 98,
   "metadata": {
    "execution": {
     "iopub.execute_input": "2021-07-15T19:05:54.901897Z",
     "iopub.status.busy": "2021-07-15T19:05:54.901245Z",
     "iopub.status.idle": "2021-07-15T19:05:54.911660Z",
     "shell.execute_reply": "2021-07-15T19:05:54.911055Z",
     "shell.execute_reply.started": "2021-07-15T19:02:55.841971Z"
    },
    "papermill": {
     "duration": 0.087903,
     "end_time": "2021-07-15T19:05:54.911822",
     "exception": false,
     "start_time": "2021-07-15T19:05:54.823919",
     "status": "completed"
    },
    "tags": []
   },
   "outputs": [
    {
     "data": {
      "text/plain": [
       "count    109891.000000\n",
       "mean          4.825200\n",
       "std           0.715768\n",
       "min           1.000000\n",
       "25%           4.000000\n",
       "50%           5.000000\n",
       "75%           5.000000\n",
       "max          12.000000\n",
       "Name: ScheduledDay_month, dtype: float64"
      ]
     },
     "execution_count": 98,
     "metadata": {},
     "output_type": "execute_result"
    }
   ],
   "source": [
    "df.ScheduledDay_month.describe()"
   ]
  },
  {
   "cell_type": "code",
   "execution_count": 99,
   "metadata": {
    "execution": {
     "iopub.execute_input": "2021-07-15T19:05:55.215681Z",
     "iopub.status.busy": "2021-07-15T19:05:55.214976Z",
     "iopub.status.idle": "2021-07-15T19:05:55.434014Z",
     "shell.execute_reply": "2021-07-15T19:05:55.433357Z",
     "shell.execute_reply.started": "2021-07-15T19:02:55.863103Z"
    },
    "papermill": {
     "duration": 0.302315,
     "end_time": "2021-07-15T19:05:55.434150",
     "exception": false,
     "start_time": "2021-07-15T19:05:55.131835",
     "status": "completed"
    },
    "tags": []
   },
   "outputs": [
    {
     "data": {
      "image/png": "[encoded data removed]",
      "text/plain": [
       "<Figure size 576x576 with 1 Axes>"
      ]
     },
     "metadata": {},
     "output_type": "display_data"
    }
   ],
   "source": [
    "# this pie chart with the percentage to show the data of months\n",
    "df.ScheduledDay_month.value_counts().plot(kind= 'pie', autopct='%.2f%%', figsize=(8,8));"
   ]
  },
  {
   "cell_type": "code",
   "execution_count": 100,
   "metadata": {
    "execution": {
     "iopub.execute_input": "2021-07-15T19:05:55.588243Z",
     "iopub.status.busy": "2021-07-15T19:05:55.586094Z",
     "iopub.status.idle": "2021-07-15T19:05:55.596301Z",
     "shell.execute_reply": "2021-07-15T19:05:55.595837Z",
     "shell.execute_reply.started": "2021-07-15T19:02:56.098148Z"
    },
    "papermill": {
     "duration": 0.088267,
     "end_time": "2021-07-15T19:05:55.596409",
     "exception": false,
     "start_time": "2021-07-15T19:05:55.508142",
     "status": "completed"
    },
    "tags": []
   },
   "outputs": [
    {
     "data": {
      "text/plain": [
       "count    109891.000000\n",
       "mean         14.249939\n",
       "std           9.348329\n",
       "min           1.000000\n",
       "25%           6.000000\n",
       "50%          13.000000\n",
       "75%          22.000000\n",
       "max          31.000000\n",
       "Name: ScheduledDay_day, dtype: float64"
      ]
     },
     "execution_count": 100,
     "metadata": {},
     "output_type": "execute_result"
    }
   ],
   "source": [
    "df.ScheduledDay_day.describe()"
   ]
  },
  {
   "cell_type": "code",
   "execution_count": 101,
   "metadata": {
    "execution": {
     "iopub.execute_input": "2021-07-15T19:05:55.702023Z",
     "iopub.status.busy": "2021-07-15T19:05:55.701317Z",
     "iopub.status.idle": "2021-07-15T19:05:55.845959Z",
     "shell.execute_reply": "2021-07-15T19:05:55.846522Z",
     "shell.execute_reply.started": "2021-07-15T19:02:56.115793Z"
    },
    "papermill": {
     "duration": 0.201171,
     "end_time": "2021-07-15T19:05:55.846691",
     "exception": false,
     "start_time": "2021-07-15T19:05:55.645520",
     "status": "completed"
    },
    "tags": []
   },
   "outputs": [
    {
     "data": {
      "image/png": "[encoded data removed]",
      "text/plain": [
       "<Figure size 432x288 with 1 Axes>"
      ]
     },
     "metadata": {
      "needs_background": "light"
     },
     "output_type": "display_data"
    }
   ],
   "source": [
    "df.ScheduledDay_day.plot(kind='hist',title= 'The distribution of scheduled day');"
   ]
  },
  {
   "cell_type": "code",
   "execution_count": 102,
   "metadata": {
    "execution": {
     "iopub.execute_input": "2021-07-15T19:05:56.164133Z",
     "iopub.status.busy": "2021-07-15T19:05:56.163486Z",
     "iopub.status.idle": "2021-07-15T19:05:56.174948Z",
     "shell.execute_reply": "2021-07-15T19:05:56.174239Z",
     "shell.execute_reply.started": "2021-07-15T19:02:56.312879Z"
    },
    "papermill": {
     "duration": 0.09342,
     "end_time": "2021-07-15T19:05:56.175090",
     "exception": false,
     "start_time": "2021-07-15T19:05:56.081670",
     "status": "completed"
    },
    "tags": []
   },
   "outputs": [
    {
     "data": {
      "text/plain": [
       "count    109891.000000\n",
       "mean         10.772975\n",
       "std           3.217516\n",
       "min           6.000000\n",
       "25%           8.000000\n",
       "50%          10.000000\n",
       "75%          13.000000\n",
       "max          21.000000\n",
       "Name: ScheduledDay_hour, dtype: float64"
      ]
     },
     "execution_count": 102,
     "metadata": {},
     "output_type": "execute_result"
    }
   ],
   "source": [
    "df.ScheduledDay_hour.describe()"
   ]
  },
  {
   "cell_type": "code",
   "execution_count": 103,
   "metadata": {
    "execution": {
     "iopub.execute_input": "2021-07-15T19:05:56.335066Z",
     "iopub.status.busy": "2021-07-15T19:05:56.334338Z",
     "iopub.status.idle": "2021-07-15T19:05:56.471516Z",
     "shell.execute_reply": "2021-07-15T19:05:56.470889Z",
     "shell.execute_reply.started": "2021-07-15T19:02:56.330178Z"
    },
    "papermill": {
     "duration": 0.218808,
     "end_time": "2021-07-15T19:05:56.471649",
     "exception": false,
     "start_time": "2021-07-15T19:05:56.252841",
     "status": "completed"
    },
    "tags": []
   },
   "outputs": [
    {
     "data": {
      "image/png": "[encoded data removed]",
      "text/plain": [
       "<Figure size 432x288 with 1 Axes>"
      ]
     },
     "metadata": {
      "needs_background": "light"
     },
     "output_type": "display_data"
    }
   ],
   "source": [
    "df.ScheduledDay_hour.plot(kind='hist',title= 'The distribution of scheduled hour');"
   ]
  },
  {
   "cell_type": "code",
   "execution_count": 104,
   "metadata": {
    "execution": {
     "iopub.execute_input": "2021-07-15T19:05:56.782112Z",
     "iopub.status.busy": "2021-07-15T19:05:56.781402Z",
     "iopub.status.idle": "2021-07-15T19:05:56.785255Z",
     "shell.execute_reply": "2021-07-15T19:05:56.784599Z",
     "shell.execute_reply.started": "2021-07-15T19:02:56.539381Z"
    },
    "papermill": {
     "duration": 0.08689,
     "end_time": "2021-07-15T19:05:56.785400",
     "exception": false,
     "start_time": "2021-07-15T19:05:56.698510",
     "status": "completed"
    },
    "tags": []
   },
   "outputs": [],
   "source": [
    "def disply_distribution(df, col_name, title):\n",
    "    df[col_name].value_counts().plot(kind='bar', title=title)"
   ]
  },
  {
   "cell_type": "code",
   "execution_count": 105,
   "metadata": {
    "execution": {
     "iopub.execute_input": "2021-07-15T19:05:56.948271Z",
     "iopub.status.busy": "2021-07-15T19:05:56.947549Z",
     "iopub.status.idle": "2021-07-15T19:05:57.044015Z",
     "shell.execute_reply": "2021-07-15T19:05:57.042731Z",
     "shell.execute_reply.started": "2021-07-15T19:02:56.544747Z"
    },
    "papermill": {
     "duration": 0.180533,
     "end_time": "2021-07-15T19:05:57.044164",
     "exception": false,
     "start_time": "2021-07-15T19:05:56.863631",
     "status": "completed"
    },
    "tags": []
   },
   "outputs": [
    {
     "data": {
      "image/png": "[encoded data removed]",
      "text/plain": [
       "<Figure size 432x288 with 1 Axes>"
      ]
     },
     "metadata": {
      "needs_background": "light"
     },
     "output_type": "display_data"
    }
   ],
   "source": [
    "disply_distribution(df, 'Hypertension', 'Hypertension distribution')"
   ]
  },
  {
   "cell_type": "code",
   "execution_count": 106,
   "metadata": {
    "execution": {
     "iopub.execute_input": "2021-07-15T19:05:57.385344Z",
     "iopub.status.busy": "2021-07-15T19:05:57.381555Z",
     "iopub.status.idle": "2021-07-15T19:05:57.467063Z",
     "shell.execute_reply": "2021-07-15T19:05:57.467411Z",
     "shell.execute_reply.started": "2021-07-15T19:02:56.675278Z"
    },
    "papermill": {
     "duration": 0.187181,
     "end_time": "2021-07-15T19:05:57.467550",
     "exception": false,
     "start_time": "2021-07-15T19:05:57.280369",
     "status": "completed"
    },
    "tags": []
   },
   "outputs": [
    {
     "data": {
      "image/png": "[encoded data removed]",
      "text/plain": [
       "<Figure size 432x288 with 1 Axes>"
      ]
     },
     "metadata": {
      "needs_background": "light"
     },
     "output_type": "display_data"
    }
   ],
   "source": [
    "disply_distribution(df, 'Diabetes', 'Diabetes distribution')"
   ]
  },
  {
   "cell_type": "code",
   "execution_count": 107,
   "metadata": {
    "execution": {
     "iopub.execute_input": "2021-07-15T19:05:57.573293Z",
     "iopub.status.busy": "2021-07-15T19:05:57.572653Z",
     "iopub.status.idle": "2021-07-15T19:05:57.669056Z",
     "shell.execute_reply": "2021-07-15T19:05:57.668236Z",
     "shell.execute_reply.started": "2021-07-15T19:02:56.800920Z"
    },
    "papermill": {
     "duration": 0.151282,
     "end_time": "2021-07-15T19:05:57.669176",
     "exception": false,
     "start_time": "2021-07-15T19:05:57.517894",
     "status": "completed"
    },
    "tags": []
   },
   "outputs": [
    {
     "data": {
      "image/png": "[encoded data removed]",
      "text/plain": [
       "<Figure size 432x288 with 1 Axes>"
      ]
     },
     "metadata": {
      "needs_background": "light"
     },
     "output_type": "display_data"
    }
   ],
   "source": [
    "disply_distribution(df, 'Alcoholism', 'Alcoholism distribution')"
   ]
  },
  {
   "cell_type": "code",
   "execution_count": 108,
   "metadata": {
    "execution": {
     "iopub.execute_input": "2021-07-15T19:05:57.779688Z",
     "iopub.status.busy": "2021-07-15T19:05:57.779164Z",
     "iopub.status.idle": "2021-07-15T19:05:58.075969Z",
     "shell.execute_reply": "2021-07-15T19:05:58.075433Z",
     "shell.execute_reply.started": "2021-07-15T19:02:56.928906Z"
    },
    "papermill": {
     "duration": 0.354671,
     "end_time": "2021-07-15T19:05:58.076083",
     "exception": false,
     "start_time": "2021-07-15T19:05:57.721412",
     "status": "completed"
    },
    "tags": []
   },
   "outputs": [
    {
     "data": {
      "image/png": "[encoded data removed]",
      "text/plain": [
       "<Figure size 432x288 with 1 Axes>"
      ]
     },
     "metadata": {
      "needs_background": "light"
     },
     "output_type": "display_data"
    }
   ],
   "source": [
    "disply_distribution(df, 'Handicape', 'Handicape distribution')"
   ]
  },
  {
   "cell_type": "code",
   "execution_count": 109,
   "metadata": {
    "execution": {
     "iopub.execute_input": "2021-07-15T19:05:58.184131Z",
     "iopub.status.busy": "2021-07-15T19:05:58.183575Z",
     "iopub.status.idle": "2021-07-15T19:05:58.327706Z",
     "shell.execute_reply": "2021-07-15T19:05:58.327181Z",
     "shell.execute_reply.started": "2021-07-15T19:02:57.179364Z"
    },
    "papermill": {
     "duration": 0.200287,
     "end_time": "2021-07-15T19:05:58.327846",
     "exception": false,
     "start_time": "2021-07-15T19:05:58.127559",
     "status": "completed"
    },
    "tags": []
   },
   "outputs": [
    {
     "data": {
      "image/png": "[encoded data removed]",
      "text/plain": [
       "<Figure size 432x288 with 1 Axes>"
      ]
     },
     "metadata": {
      "needs_background": "light"
     },
     "output_type": "display_data"
    }
   ],
   "source": [
    "disply_distribution(df, 'Scholarship', 'Scholarship distribution')"
   ]
  },
  {
   "cell_type": "code",
   "execution_count": 110,
   "metadata": {
    "execution": {
     "iopub.execute_input": "2021-07-15T19:05:58.495268Z",
     "iopub.status.busy": "2021-07-15T19:05:58.459558Z",
     "iopub.status.idle": "2021-07-15T19:05:58.591999Z",
     "shell.execute_reply": "2021-07-15T19:05:58.592388Z",
     "shell.execute_reply.started": "2021-07-15T19:02:57.304510Z"
    },
    "papermill": {
     "duration": 0.209909,
     "end_time": "2021-07-15T19:05:58.592542",
     "exception": false,
     "start_time": "2021-07-15T19:05:58.382633",
     "status": "completed"
    },
    "tags": []
   },
   "outputs": [
    {
     "data": {
      "image/png": "[encoded data removed]",
      "text/plain": [
       "<Figure size 432x288 with 1 Axes>"
      ]
     },
     "metadata": {
      "needs_background": "light"
     },
     "output_type": "display_data"
    }
   ],
   "source": [
    "disply_distribution(df, 'No-show', 'No-show distribution')"
   ]
  },
  {
   "cell_type": "code",
   "execution_count": 111,
   "metadata": {
    "execution": {
     "iopub.execute_input": "2021-07-15T19:05:58.704353Z",
     "iopub.status.busy": "2021-07-15T19:05:58.703882Z",
     "iopub.status.idle": "2021-07-15T19:05:58.839975Z",
     "shell.execute_reply": "2021-07-15T19:05:58.839493Z",
     "shell.execute_reply.started": "2021-07-15T19:02:57.451188Z"
    },
    "papermill": {
     "duration": 0.193385,
     "end_time": "2021-07-15T19:05:58.840091",
     "exception": false,
     "start_time": "2021-07-15T19:05:58.646706",
     "status": "completed"
    },
    "tags": []
   },
   "outputs": [
    {
     "data": {
      "image/png": "[encoded data removed]",
      "text/plain": [
       "<Figure size 432x288 with 1 Axes>"
      ]
     },
     "metadata": {
      "needs_background": "light"
     },
     "output_type": "display_data"
    }
   ],
   "source": [
    "disply_distribution(df, 'SMS_received', 'SMS_received distribution')"
   ]
  },
  {
   "cell_type": "code",
   "execution_count": 112,
   "metadata": {
    "execution": {
     "iopub.execute_input": "2021-07-15T19:05:59.057237Z",
     "iopub.status.busy": "2021-07-15T19:05:59.056681Z",
     "iopub.status.idle": "2021-07-15T19:05:59.060420Z",
     "shell.execute_reply": "2021-07-15T19:05:59.059935Z",
     "shell.execute_reply.started": "2021-07-15T19:02:57.589157Z"
    },
    "papermill": {
     "duration": 0.062437,
     "end_time": "2021-07-15T19:05:59.060547",
     "exception": false,
     "start_time": "2021-07-15T19:05:58.998110",
     "status": "completed"
    },
    "tags": []
   },
   "outputs": [],
   "source": [
    "def countplot_distro(figsize, x, title):\n",
    "    plt.figure(figsize=figsize)\n",
    "    plt.title(title)\n",
    "    sns.countplot(x=x, data=df, hue='No-show');"
   ]
  },
  {
   "cell_type": "code",
   "execution_count": 113,
   "metadata": {
    "execution": {
     "iopub.execute_input": "2021-07-15T19:05:59.191058Z",
     "iopub.status.busy": "2021-07-15T19:05:59.190240Z",
     "iopub.status.idle": "2021-07-15T19:05:59.803486Z",
     "shell.execute_reply": "2021-07-15T19:05:59.803042Z",
     "shell.execute_reply.started": "2021-07-15T19:02:57.596928Z"
    },
    "papermill": {
     "duration": 0.687449,
     "end_time": "2021-07-15T19:05:59.803601",
     "exception": false,
     "start_time": "2021-07-15T19:05:59.116152",
     "status": "completed"
    },
    "tags": []
   },
   "outputs": [
    {
     "data": {
      "image/png": "[encoded data removed]",
      "text/plain": [
       "<Figure size 1080x432 with 1 Axes>"
      ]
     },
     "metadata": {
      "needs_background": "light"
     },
     "output_type": "display_data"
    }
   ],
   "source": [
    "countplot_distro((15,6), df['ScheduledDay_day'], 'Count of appointments in days')"
   ]
  },
  {
   "cell_type": "code",
   "execution_count": 114,
   "metadata": {
    "execution": {
     "iopub.execute_input": "2021-07-15T19:06:00.038545Z",
     "iopub.status.busy": "2021-07-15T19:06:00.035503Z",
     "iopub.status.idle": "2021-07-15T19:06:00.292177Z",
     "shell.execute_reply": "2021-07-15T19:06:00.291666Z",
     "shell.execute_reply.started": "2021-07-15T19:02:58.253454Z"
    },
    "papermill": {
     "duration": 0.326143,
     "end_time": "2021-07-15T19:06:00.292305",
     "exception": false,
     "start_time": "2021-07-15T19:05:59.966162",
     "status": "completed"
    },
    "tags": []
   },
   "outputs": [
    {
     "data": {
      "image/png": "[encoded data removed]",
      "text/plain": [
       "<Figure size 1080x720 with 1 Axes>"
      ]
     },
     "metadata": {
      "needs_background": "light"
     },
     "output_type": "display_data"
    }
   ],
   "source": [
    "countplot_distro((15,10), df['ScheduledDay_month'], 'Count of appointments in months')"
   ]
  },
  {
   "cell_type": "code",
   "execution_count": 115,
   "metadata": {
    "execution": {
     "iopub.execute_input": "2021-07-15T19:06:00.543712Z",
     "iopub.status.busy": "2021-07-15T19:06:00.529943Z",
     "iopub.status.idle": "2021-07-15T19:06:00.706183Z",
     "shell.execute_reply": "2021-07-15T19:06:00.705621Z",
     "shell.execute_reply.started": "2021-07-15T19:02:58.633664Z"
    },
    "papermill": {
     "duration": 0.248753,
     "end_time": "2021-07-15T19:06:00.706301",
     "exception": false,
     "start_time": "2021-07-15T19:06:00.457548",
     "status": "completed"
    },
    "tags": []
   },
   "outputs": [
    {
     "data": {
      "image/png": "[encoded data removed]",
      "text/plain": [
       "<Figure size 432x432 with 1 Axes>"
      ]
     },
     "metadata": {
      "needs_background": "light"
     },
     "output_type": "display_data"
    }
   ],
   "source": [
    "countplot_distro((6,6), df['Scholarship'], 'Count of patients enrolled in Scholarship or not')"
   ]
  },
  {
   "cell_type": "markdown",
   "metadata": {
    "papermill": {
     "duration": 0.055359,
     "end_time": "2021-07-15T19:06:00.818972",
     "exception": false,
     "start_time": "2021-07-15T19:06:00.763613",
     "status": "completed"
    },
    "tags": []
   },
   "source": [
    "This show us that a lot of people that are not enrolled in the Brazil schoolarship has appointments and does show up for appointments"
   ]
  },
  {
   "cell_type": "code",
   "execution_count": 116,
   "metadata": {
    "execution": {
     "iopub.execute_input": "2021-07-15T19:06:00.961771Z",
     "iopub.status.busy": "2021-07-15T19:06:00.951663Z",
     "iopub.status.idle": "2021-07-15T19:06:01.256373Z",
     "shell.execute_reply": "2021-07-15T19:06:01.255674Z",
     "shell.execute_reply.started": "2021-07-15T19:02:58.933004Z"
    },
    "papermill": {
     "duration": 0.381389,
     "end_time": "2021-07-15T19:06:01.256514",
     "exception": false,
     "start_time": "2021-07-15T19:06:00.875125",
     "status": "completed"
    },
    "tags": []
   },
   "outputs": [
    {
     "data": {
      "image/png": "[encoded data removed]",
      "text/plain": [
       "<Figure size 432x432 with 1 Axes>"
      ]
     },
     "metadata": {
      "needs_background": "light"
     },
     "output_type": "display_data"
    }
   ],
   "source": [
    "countplot_distro((6,6), df['Hypertension'], 'Count of patients have Hypertension or not')"
   ]
  },
  {
   "cell_type": "code",
   "execution_count": 117,
   "metadata": {
    "execution": {
     "iopub.execute_input": "2021-07-15T19:06:01.456339Z",
     "iopub.status.busy": "2021-07-15T19:06:01.455439Z",
     "iopub.status.idle": "2021-07-15T19:06:01.751816Z",
     "shell.execute_reply": "2021-07-15T19:06:01.752343Z",
     "shell.execute_reply.started": "2021-07-15T19:02:59.227425Z"
    },
    "papermill": {
     "duration": 0.409665,
     "end_time": "2021-07-15T19:06:01.752529",
     "exception": false,
     "start_time": "2021-07-15T19:06:01.342864",
     "status": "completed"
    },
    "tags": []
   },
   "outputs": [
    {
     "data": {
      "image/png": "[encoded data removed]",
      "text/plain": [
       "<Figure size 432x432 with 1 Axes>"
      ]
     },
     "metadata": {
      "needs_background": "light"
     },
     "output_type": "display_data"
    }
   ],
   "source": [
    "countplot_distro((6,6), df['Diabetes'], 'Count of patients have Diabetes or not')"
   ]
  },
  {
   "cell_type": "code",
   "execution_count": 118,
   "metadata": {
    "execution": {
     "iopub.execute_input": "2021-07-15T19:06:01.953677Z",
     "iopub.status.busy": "2021-07-15T19:06:01.942236Z",
     "iopub.status.idle": "2021-07-15T19:06:02.137915Z",
     "shell.execute_reply": "2021-07-15T19:06:02.137239Z",
     "shell.execute_reply.started": "2021-07-15T19:02:59.520985Z"
    },
    "papermill": {
     "duration": 0.297097,
     "end_time": "2021-07-15T19:06:02.138056",
     "exception": false,
     "start_time": "2021-07-15T19:06:01.840959",
     "status": "completed"
    },
    "tags": []
   },
   "outputs": [
    {
     "data": {
      "image/png": "[encoded data removed]",
      "text/plain": [
       "<Figure size 432x432 with 1 Axes>"
      ]
     },
     "metadata": {
      "needs_background": "light"
     },
     "output_type": "display_data"
    }
   ],
   "source": [
    "countplot_distro((6,6), df['Alcoholism'], 'Count of patients have Alcoholism or not')"
   ]
  },
  {
   "cell_type": "code",
   "execution_count": 119,
   "metadata": {
    "execution": {
     "iopub.execute_input": "2021-07-15T19:06:02.516241Z",
     "iopub.status.busy": "2021-07-15T19:06:02.515553Z",
     "iopub.status.idle": "2021-07-15T19:06:02.696306Z",
     "shell.execute_reply": "2021-07-15T19:06:02.695782Z",
     "shell.execute_reply.started": "2021-07-15T19:02:59.821826Z"
    },
    "papermill": {
     "duration": 0.287905,
     "end_time": "2021-07-15T19:06:02.696425",
     "exception": false,
     "start_time": "2021-07-15T19:06:02.408520",
     "status": "completed"
    },
    "tags": []
   },
   "outputs": [
    {
     "data": {
      "image/png": "[encoded data removed]",
      "text/plain": [
       "<Figure size 432x432 with 1 Axes>"
      ]
     },
     "metadata": {
      "needs_background": "light"
     },
     "output_type": "display_data"
    }
   ],
   "source": [
    "countplot_distro((6,6), df['SMS_received'], 'Count of patients thar recived SMS or not')"
   ]
  },
  {
   "cell_type": "markdown",
   "metadata": {
    "papermill": {
     "duration": 0.058086,
     "end_time": "2021-07-15T19:06:02.812026",
     "exception": false,
     "start_time": "2021-07-15T19:06:02.753940",
     "status": "completed"
    },
    "tags": []
   },
   "source": [
    "As you can see, sending SMS doesn't affect to increase patients show up"
   ]
  },
  {
   "cell_type": "code",
   "execution_count": 120,
   "metadata": {
    "execution": {
     "iopub.execute_input": "2021-07-15T19:06:03.048266Z",
     "iopub.status.busy": "2021-07-15T19:06:03.047540Z",
     "iopub.status.idle": "2021-07-15T19:06:03.297503Z",
     "shell.execute_reply": "2021-07-15T19:06:03.296964Z",
     "shell.execute_reply.started": "2021-07-15T19:03:00.133733Z"
    },
    "papermill": {
     "duration": 0.312547,
     "end_time": "2021-07-15T19:06:03.297645",
     "exception": false,
     "start_time": "2021-07-15T19:06:02.985098",
     "status": "completed"
    },
    "tags": []
   },
   "outputs": [
    {
     "data": {
      "image/png": "[encoded data removed]",
      "text/plain": [
       "<Figure size 432x288 with 1 Axes>"
      ]
     },
     "metadata": {
      "needs_background": "light"
     },
     "output_type": "display_data"
    }
   ],
   "source": [
    "pd.crosstab(df['Age'],df['No-show']).plot(kind='hist',alpha=0.5);\n",
    "plt.title('Age Frequency');\n",
    "plt.xlabel('Patients Number');"
   ]
  },
  {
   "cell_type": "code",
   "execution_count": 121,
   "metadata": {
    "execution": {
     "iopub.execute_input": "2021-07-15T19:06:03.497001Z",
     "iopub.status.busy": "2021-07-15T19:06:03.496307Z",
     "iopub.status.idle": "2021-07-15T19:06:03.518085Z",
     "shell.execute_reply": "2021-07-15T19:06:03.517545Z",
     "shell.execute_reply.started": "2021-07-15T19:03:00.419840Z"
    },
    "papermill": {
     "duration": 0.13069,
     "end_time": "2021-07-15T19:06:03.518223",
     "exception": false,
     "start_time": "2021-07-15T19:06:03.387533",
     "status": "completed"
    },
    "tags": []
   },
   "outputs": [
    {
     "data": {
      "text/plain": [
       "38.0"
      ]
     },
     "execution_count": 121,
     "metadata": {},
     "output_type": "execute_result"
    }
   ],
   "source": [
    "# so the high frequency age that show up for appointments is 38\n",
    "df[df['No-show'] == 'No']['Age'].median()"
   ]
  },
  {
   "cell_type": "code",
   "execution_count": 124,
   "metadata": {
    "execution": {
     "iopub.execute_input": "2021-07-15T19:06:03.889536Z",
     "iopub.status.busy": "2021-07-15T19:06:03.888907Z",
     "iopub.status.idle": "2021-07-15T19:06:03.891951Z",
     "shell.execute_reply": "2021-07-15T19:06:03.891454Z",
     "shell.execute_reply.started": "2021-07-15T19:05:08.894233Z"
    },
    "papermill": {
     "duration": 0.105853,
     "end_time": "2021-07-15T19:06:03.892069",
     "exception": false,
     "start_time": "2021-07-15T19:06:03.786216",
     "status": "completed"
    },
    "tags": []
   },
   "outputs": [],
   "source": [
    "country_order = df['Neighbourhood'].value_counts().index"
   ]
  },
  {
   "cell_type": "code",
   "execution_count": 123,
   "metadata": {
    "execution": {
     "iopub.execute_input": "2021-07-15T19:06:04.058564Z",
     "iopub.status.busy": "2021-07-15T19:06:04.042301Z",
     "iopub.status.idle": "2021-07-15T19:06:05.805857Z",
     "shell.execute_reply": "2021-07-15T19:06:05.805186Z",
     "shell.execute_reply.started": "2021-07-15T19:05:12.015480Z"
    },
    "papermill": {
     "duration": 1.854734,
     "end_time": "2021-07-15T19:06:05.805964",
     "exception": false,
     "start_time": "2021-07-15T19:06:03.951230",
     "status": "completed"
    },
    "tags": []
   },
   "outputs": [
    {
     "data": {
      "image/png": "[encoded data removed]",
      "text/plain": [
       "<Figure size 1440x432 with 1 Axes>"
      ]
     },
     "metadata": {
      "needs_background": "light"
     },
     "output_type": "display_data"
    }
   ],
   "source": [
    "plt.figure(figsize=(20,6))\n",
    "plt.title('Locations with higher appointments with no show')\n",
    "plt.xticks(rotation=90)\n",
    "sns.countplot(x=df['Neighbourhood'], data=df, hue='No-show', order=country_order);"
   ]
  },
  {
   "cell_type": "code",
   "execution_count": null,
   "metadata": {
    "jupyter": {
     "outputs_hidden": true
    },
    "papermill": {
     "duration": 0.060589,
     "end_time": "2021-07-15T19:06:06.294022",
     "exception": false,
     "start_time": "2021-07-15T19:06:06.233433",
     "status": "completed"
    },
    "tags": []
   },
   "outputs": [],
   "source": []
  }
 ],
 "metadata": {
  "kernelspec": {
   "display_name": "Python 3",
   "language": "python",
   "name": "python3"
  },
  "language_info": {
   "codemirror_mode": {
    "name": "ipython",
    "version": 3
   },
   "file_extension": ".py",
   "mimetype": "text/x-python",
   "name": "python",
   "nbconvert_exporter": "python",
   "pygments_lexer": "ipython3",
   "version": "3.7.4"
  },
  "papermill": {
   "default_parameters": {},
   "duration": 29.229726,
   "end_time": "2021-07-15T19:06:07.777526",
   "environment_variables": {},
   "exception": null,
   "input_path": "__notebook__.ipynb",
   "output_path": "__notebook__.ipynb",
   "parameters": {},
   "start_time": "2021-07-15T19:05:38.547800",
   "version": "2.3.3"
  }
 },
 "nbformat": 4,
 "nbformat_minor": 5
}
