{
 "cells": [
  {
   "cell_type": "code",
   "execution_count": 1,
   "metadata": {
    "execution": {
     "iopub.execute_input": "2021-01-01T06:57:29.206460Z",
     "iopub.status.busy": "2021-01-01T06:57:29.205764Z",
     "iopub.status.idle": "2021-01-01T06:57:30.437070Z",
     "shell.execute_reply": "2021-01-01T06:57:30.437832Z"
    },
    "papermill": {
     "duration": 1.282621,
     "end_time": "2021-01-01T06:57:30.438070",
     "exception": false,
     "start_time": "2021-01-01T06:57:29.155449",
     "status": "completed"
    },
    "tags": []
   },
   "outputs": [],
   "source": [
    "import pandas as pd\n",
    "import numpy as np\n",
    "import matplotlib.pyplot as plt\n",
    "import seaborn as sns\n",
    "\n",
    "%matplotlib inline\n",
    "\n",
    "import warnings"
   ]
  },
  {
   "cell_type": "code",
   "execution_count": 2,
   "metadata": {
    "execution": {
     "iopub.execute_input": "2021-01-01T06:57:30.527057Z",
     "iopub.status.busy": "2021-01-01T06:57:30.526303Z",
     "iopub.status.idle": "2021-01-01T06:57:30.532134Z",
     "shell.execute_reply": "2021-01-01T06:57:30.531414Z"
    },
    "papermill": {
     "duration": 0.050873,
     "end_time": "2021-01-01T06:57:30.532399",
     "exception": false,
     "start_time": "2021-01-01T06:57:30.481526",
     "status": "completed"
    },
    "tags": []
   },
   "outputs": [],
   "source": [
    "warnings.filterwarnings(\"ignore\")"
   ]
  },
  {
   "cell_type": "markdown",
   "metadata": {
    "papermill": {
     "duration": 0.041889,
     "end_time": "2021-01-01T06:57:30.615435",
     "exception": false,
     "start_time": "2021-01-01T06:57:30.573546",
     "status": "completed"
    },
    "tags": []
   },
   "source": [
    "## Load the dataset"
   ]
  },
  {
   "cell_type": "code",
   "execution_count": 3,
   "metadata": {
    "execution": {
     "iopub.execute_input": "2021-01-01T06:57:30.703548Z",
     "iopub.status.busy": "2021-01-01T06:57:30.702700Z",
     "iopub.status.idle": "2021-01-01T06:57:33.603669Z",
     "shell.execute_reply": "2021-01-01T06:57:33.604301Z"
    },
    "papermill": {
     "duration": 2.946862,
     "end_time": "2021-01-01T06:57:33.604463",
     "exception": false,
     "start_time": "2021-01-01T06:57:30.657601",
     "status": "completed"
    },
    "tags": []
   },
   "outputs": [],
   "source": [
    "#df_all = pd.read_csv(\"book_rec/Books.csv\")\n",
    "df_all = pd.read_csv(\"Books.csv\")"
   ]
  },
  {
   "cell_type": "code",
   "execution_count": 4,
   "metadata": {
    "execution": {
     "iopub.execute_input": "2021-01-01T06:57:33.690891Z",
     "iopub.status.busy": "2021-01-01T06:57:33.690264Z",
     "iopub.status.idle": "2021-01-01T06:57:33.717143Z",
     "shell.execute_reply": "2021-01-01T06:57:33.717698Z"
    },
    "papermill": {
     "duration": 0.071726,
     "end_time": "2021-01-01T06:57:33.717857",
     "exception": false,
     "start_time": "2021-01-01T06:57:33.646131",
     "status": "completed"
    },
    "tags": []
   },
   "outputs": [
    {
     "data": {
      "text/html": [
       "<div>\n",
       "<style scoped>\n",
       "    .dataframe tbody tr th:only-of-type {\n",
       "        vertical-align: middle;\n",
       "    }\n",
       "\n",
       "    .dataframe tbody tr th {\n",
       "        vertical-align: top;\n",
       "    }\n",
       "\n",
       "    .dataframe thead th {\n",
       "        text-align: right;\n",
       "    }\n",
       "</style>\n",
       "<table border=\"1\" class=\"dataframe\">\n",
       "  <thead>\n",
       "    <tr style=\"text-align: right;\">\n",
       "      <th></th>\n",
       "      <th>ISBN</th>\n",
       "      <th>Book-Title</th>\n",
       "      <th>Book-Author</th>\n",
       "      <th>Year-Of-Publication</th>\n",
       "      <th>Publisher</th>\n",
       "      <th>Image-URL-S</th>\n",
       "      <th>Image-URL-M</th>\n",
       "      <th>Image-URL-L</th>\n",
       "    </tr>\n",
       "  </thead>\n",
       "  <tbody>\n",
       "    <tr>\n",
       "      <td>0</td>\n",
       "      <td>0195153448</td>\n",
       "      <td>Classical Mythology</td>\n",
       "      <td>Mark P. O. Morford</td>\n",
       "      <td>2002</td>\n",
       "      <td>Oxford University Press</td>\n",
       "      <td>http://images.amazon.com/images/P/0195153448.0...</td>\n",
       "      <td>http://images.amazon.com/images/P/0195153448.0...</td>\n",
       "      <td>http://images.amazon.com/images/P/0195153448.0...</td>\n",
       "    </tr>\n",
       "    <tr>\n",
       "      <td>1</td>\n",
       "      <td>0002005018</td>\n",
       "      <td>Clara Callan</td>\n",
       "      <td>Richard Bruce Wright</td>\n",
       "      <td>2001</td>\n",
       "      <td>HarperFlamingo Canada</td>\n",
       "      <td>http://images.amazon.com/images/P/0002005018.0...</td>\n",
       "      <td>http://images.amazon.com/images/P/0002005018.0...</td>\n",
       "      <td>http://images.amazon.com/images/P/0002005018.0...</td>\n",
       "    </tr>\n",
       "    <tr>\n",
       "      <td>2</td>\n",
       "      <td>0060973129</td>\n",
       "      <td>Decision in Normandy</td>\n",
       "      <td>Carlo D'Este</td>\n",
       "      <td>1991</td>\n",
       "      <td>HarperPerennial</td>\n",
       "      <td>http://images.amazon.com/images/P/0060973129.0...</td>\n",
       "      <td>http://images.amazon.com/images/P/0060973129.0...</td>\n",
       "      <td>http://images.amazon.com/images/P/0060973129.0...</td>\n",
       "    </tr>\n",
       "    <tr>\n",
       "      <td>3</td>\n",
       "      <td>0374157065</td>\n",
       "      <td>Flu: The Story of the Great Influenza Pandemic...</td>\n",
       "      <td>Gina Bari Kolata</td>\n",
       "      <td>1999</td>\n",
       "      <td>Farrar Straus Giroux</td>\n",
       "      <td>http://images.amazon.com/images/P/0374157065.0...</td>\n",
       "      <td>http://images.amazon.com/images/P/0374157065.0...</td>\n",
       "      <td>http://images.amazon.com/images/P/0374157065.0...</td>\n",
       "    </tr>\n",
       "    <tr>\n",
       "      <td>4</td>\n",
       "      <td>0393045218</td>\n",
       "      <td>The Mummies of Urumchi</td>\n",
       "      <td>E. J. W. Barber</td>\n",
       "      <td>1999</td>\n",
       "      <td>W. W. Norton &amp;amp; Company</td>\n",
       "      <td>http://images.amazon.com/images/P/0393045218.0...</td>\n",
       "      <td>http://images.amazon.com/images/P/0393045218.0...</td>\n",
       "      <td>http://images.amazon.com/images/P/0393045218.0...</td>\n",
       "    </tr>\n",
       "  </tbody>\n",
       "</table>\n",
       "</div>"
      ],
      "text/plain": [
       "         ISBN                                         Book-Title  \\\n",
       "0  0195153448                                Classical Mythology   \n",
       "1  0002005018                                       Clara Callan   \n",
       "2  0060973129                               Decision in Normandy   \n",
       "3  0374157065  Flu: The Story of the Great Influenza Pandemic...   \n",
       "4  0393045218                             The Mummies of Urumchi   \n",
       "\n",
       "            Book-Author Year-Of-Publication                   Publisher  \\\n",
       "0    Mark P. O. Morford                2002     Oxford University Press   \n",
       "1  Richard Bruce Wright                2001       HarperFlamingo Canada   \n",
       "2          Carlo D'Este                1991             HarperPerennial   \n",
       "3      Gina Bari Kolata                1999        Farrar Straus Giroux   \n",
       "4       E. J. W. Barber                1999  W. W. Norton &amp; Company   \n",
       "\n",
       "                                         Image-URL-S  \\\n",
       "0  http://images.amazon.com/images/P/0195153448.0...   \n",
       "1  http://images.amazon.com/images/P/0002005018.0...   \n",
       "2  http://images.amazon.com/images/P/0060973129.0...   \n",
       "3  http://images.amazon.com/images/P/0374157065.0...   \n",
       "4  http://images.amazon.com/images/P/0393045218.0...   \n",
       "\n",
       "                                         Image-URL-M  \\\n",
       "0  http://images.amazon.com/images/P/0195153448.0...   \n",
       "1  http://images.amazon.com/images/P/0002005018.0...   \n",
       "2  http://images.amazon.com/images/P/0060973129.0...   \n",
       "3  http://images.amazon.com/images/P/0374157065.0...   \n",
       "4  http://images.amazon.com/images/P/0393045218.0...   \n",
       "\n",
       "                                         Image-URL-L  \n",
       "0  http://images.amazon.com/images/P/0195153448.0...  \n",
       "1  http://images.amazon.com/images/P/0002005018.0...  \n",
       "2  http://images.amazon.com/images/P/0060973129.0...  \n",
       "3  http://images.amazon.com/images/P/0374157065.0...  \n",
       "4  http://images.amazon.com/images/P/0393045218.0...  "
      ]
     },
     "execution_count": 4,
     "metadata": {},
     "output_type": "execute_result"
    }
   ],
   "source": [
    "df_all.head()"
   ]
  },
  {
   "cell_type": "code",
   "execution_count": 5,
   "metadata": {
    "execution": {
     "iopub.execute_input": "2021-01-01T06:57:33.809217Z",
     "iopub.status.busy": "2021-01-01T06:57:33.808480Z",
     "iopub.status.idle": "2021-01-01T06:57:33.813765Z",
     "shell.execute_reply": "2021-01-01T06:57:33.814322Z"
    },
    "papermill": {
     "duration": 0.05243,
     "end_time": "2021-01-01T06:57:33.814467",
     "exception": false,
     "start_time": "2021-01-01T06:57:33.762037",
     "status": "completed"
    },
    "tags": []
   },
   "outputs": [
    {
     "data": {
      "text/plain": [
       "(271360, 8)"
      ]
     },
     "execution_count": 5,
     "metadata": {},
     "output_type": "execute_result"
    }
   ],
   "source": [
    "df_all.shape"
   ]
  },
  {
   "cell_type": "code",
   "execution_count": 6,
   "metadata": {
    "execution": {
     "iopub.execute_input": "2021-01-01T06:57:33.905545Z",
     "iopub.status.busy": "2021-01-01T06:57:33.904846Z",
     "iopub.status.idle": "2021-01-01T06:57:34.154276Z",
     "shell.execute_reply": "2021-01-01T06:57:34.153302Z"
    },
    "papermill": {
     "duration": 0.295655,
     "end_time": "2021-01-01T06:57:34.154434",
     "exception": false,
     "start_time": "2021-01-01T06:57:33.858779",
     "status": "completed"
    },
    "tags": []
   },
   "outputs": [
    {
     "name": "stdout",
     "output_type": "stream",
     "text": [
      "<class 'pandas.core.frame.DataFrame'>\n",
      "RangeIndex: 271360 entries, 0 to 271359\n",
      "Data columns (total 8 columns):\n",
      "ISBN                   271360 non-null object\n",
      "Book-Title             271360 non-null object\n",
      "Book-Author            271359 non-null object\n",
      "Year-Of-Publication    271360 non-null object\n",
      "Publisher              271358 non-null object\n",
      "Image-URL-S            271360 non-null object\n",
      "Image-URL-M            271360 non-null object\n",
      "Image-URL-L            271357 non-null object\n",
      "dtypes: object(8)\n",
      "memory usage: 16.6+ MB\n"
     ]
    }
   ],
   "source": [
    "df_all.info()"
   ]
  },
  {
   "cell_type": "code",
   "execution_count": 7,
   "metadata": {
    "execution": {
     "iopub.execute_input": "2021-01-01T06:57:34.249400Z",
     "iopub.status.busy": "2021-01-01T06:57:34.248681Z",
     "iopub.status.idle": "2021-01-01T06:57:34.251986Z",
     "shell.execute_reply": "2021-01-01T06:57:34.251395Z"
    },
    "papermill": {
     "duration": 0.052958,
     "end_time": "2021-01-01T06:57:34.252108",
     "exception": false,
     "start_time": "2021-01-01T06:57:34.199150",
     "status": "completed"
    },
    "tags": []
   },
   "outputs": [],
   "source": [
    "df = df_all.iloc[:100000, :]"
   ]
  },
  {
   "cell_type": "code",
   "execution_count": 8,
   "metadata": {
    "execution": {
     "iopub.execute_input": "2021-01-01T06:57:34.344649Z",
     "iopub.status.busy": "2021-01-01T06:57:34.343741Z",
     "iopub.status.idle": "2021-01-01T06:57:34.350501Z",
     "shell.execute_reply": "2021-01-01T06:57:34.349820Z"
    },
    "papermill": {
     "duration": 0.054857,
     "end_time": "2021-01-01T06:57:34.350627",
     "exception": false,
     "start_time": "2021-01-01T06:57:34.295770",
     "status": "completed"
    },
    "tags": []
   },
   "outputs": [
    {
     "data": {
      "text/plain": [
       "(100000, 8)"
      ]
     },
     "execution_count": 8,
     "metadata": {},
     "output_type": "execute_result"
    }
   ],
   "source": [
    "df.shape"
   ]
  },
  {
   "cell_type": "code",
   "execution_count": 9,
   "metadata": {
    "execution": {
     "iopub.execute_input": "2021-01-01T06:57:34.443725Z",
     "iopub.status.busy": "2021-01-01T06:57:34.443034Z",
     "iopub.status.idle": "2021-01-01T06:57:35.237584Z",
     "shell.execute_reply": "2021-01-01T06:57:35.238108Z"
    },
    "papermill": {
     "duration": 0.842726,
     "end_time": "2021-01-01T06:57:35.238277",
     "exception": false,
     "start_time": "2021-01-01T06:57:34.395551",
     "status": "completed"
    },
    "tags": []
   },
   "outputs": [
    {
     "data": {
      "text/html": [
       "<div>\n",
       "<style scoped>\n",
       "    .dataframe tbody tr th:only-of-type {\n",
       "        vertical-align: middle;\n",
       "    }\n",
       "\n",
       "    .dataframe tbody tr th {\n",
       "        vertical-align: top;\n",
       "    }\n",
       "\n",
       "    .dataframe thead th {\n",
       "        text-align: right;\n",
       "    }\n",
       "</style>\n",
       "<table border=\"1\" class=\"dataframe\">\n",
       "  <thead>\n",
       "    <tr style=\"text-align: right;\">\n",
       "      <th></th>\n",
       "      <th>ISBN</th>\n",
       "      <th>Book-Title</th>\n",
       "      <th>Book-Author</th>\n",
       "      <th>Year-Of-Publication</th>\n",
       "      <th>Publisher</th>\n",
       "      <th>Image-URL-S</th>\n",
       "      <th>Image-URL-M</th>\n",
       "      <th>Image-URL-L</th>\n",
       "    </tr>\n",
       "  </thead>\n",
       "  <tbody>\n",
       "    <tr>\n",
       "      <td>count</td>\n",
       "      <td>100000</td>\n",
       "      <td>100000</td>\n",
       "      <td>100000</td>\n",
       "      <td>100000</td>\n",
       "      <td>100000</td>\n",
       "      <td>100000</td>\n",
       "      <td>100000</td>\n",
       "      <td>100000</td>\n",
       "    </tr>\n",
       "    <tr>\n",
       "      <td>unique</td>\n",
       "      <td>100000</td>\n",
       "      <td>90907</td>\n",
       "      <td>41997</td>\n",
       "      <td>90</td>\n",
       "      <td>7862</td>\n",
       "      <td>99944</td>\n",
       "      <td>99944</td>\n",
       "      <td>99944</td>\n",
       "    </tr>\n",
       "    <tr>\n",
       "      <td>top</td>\n",
       "      <td>1573241989</td>\n",
       "      <td>Wuthering Heights</td>\n",
       "      <td>Agatha Christie</td>\n",
       "      <td>2002</td>\n",
       "      <td>Harlequin</td>\n",
       "      <td>http://images.amazon.com/images/P/097089726X.0...</td>\n",
       "      <td>http://images.amazon.com/images/P/015694877X.0...</td>\n",
       "      <td>http://images.amazon.com/images/P/044018293X.0...</td>\n",
       "    </tr>\n",
       "    <tr>\n",
       "      <td>freq</td>\n",
       "      <td>1</td>\n",
       "      <td>13</td>\n",
       "      <td>322</td>\n",
       "      <td>7119</td>\n",
       "      <td>3135</td>\n",
       "      <td>2</td>\n",
       "      <td>2</td>\n",
       "      <td>2</td>\n",
       "    </tr>\n",
       "  </tbody>\n",
       "</table>\n",
       "</div>"
      ],
      "text/plain": [
       "              ISBN         Book-Title      Book-Author  Year-Of-Publication  \\\n",
       "count       100000             100000           100000               100000   \n",
       "unique      100000              90907            41997                   90   \n",
       "top     1573241989  Wuthering Heights  Agatha Christie                 2002   \n",
       "freq             1                 13              322                 7119   \n",
       "\n",
       "        Publisher                                        Image-URL-S  \\\n",
       "count      100000                                             100000   \n",
       "unique       7862                                              99944   \n",
       "top     Harlequin  http://images.amazon.com/images/P/097089726X.0...   \n",
       "freq         3135                                                  2   \n",
       "\n",
       "                                              Image-URL-M  \\\n",
       "count                                              100000   \n",
       "unique                                              99944   \n",
       "top     http://images.amazon.com/images/P/015694877X.0...   \n",
       "freq                                                    2   \n",
       "\n",
       "                                              Image-URL-L  \n",
       "count                                              100000  \n",
       "unique                                              99944  \n",
       "top     http://images.amazon.com/images/P/044018293X.0...  \n",
       "freq                                                    2  "
      ]
     },
     "execution_count": 9,
     "metadata": {},
     "output_type": "execute_result"
    }
   ],
   "source": [
    "df.describe()"
   ]
  },
  {
   "cell_type": "code",
   "execution_count": 10,
   "metadata": {
    "execution": {
     "iopub.execute_input": "2021-01-01T06:57:35.335778Z",
     "iopub.status.busy": "2021-01-01T06:57:35.334614Z",
     "iopub.status.idle": "2021-01-01T06:57:35.441823Z",
     "shell.execute_reply": "2021-01-01T06:57:35.440546Z"
    },
    "papermill": {
     "duration": 0.157443,
     "end_time": "2021-01-01T06:57:35.441994",
     "exception": false,
     "start_time": "2021-01-01T06:57:35.284551",
     "status": "completed"
    },
    "tags": []
   },
   "outputs": [
    {
     "data": {
      "text/plain": [
       "ISBN                   0\n",
       "Book-Title             0\n",
       "Book-Author            0\n",
       "Year-Of-Publication    0\n",
       "Publisher              0\n",
       "Image-URL-S            0\n",
       "Image-URL-M            0\n",
       "Image-URL-L            0\n",
       "dtype: int64"
      ]
     },
     "execution_count": 10,
     "metadata": {},
     "output_type": "execute_result"
    }
   ],
   "source": [
    "df.isnull().sum()"
   ]
  },
  {
   "cell_type": "code",
   "execution_count": 11,
   "metadata": {
    "execution": {
     "iopub.execute_input": "2021-01-01T06:57:35.547587Z",
     "iopub.status.busy": "2021-01-01T06:57:35.546891Z",
     "iopub.status.idle": "2021-01-01T06:57:35.572186Z",
     "shell.execute_reply": "2021-01-01T06:57:35.571571Z"
    },
    "papermill": {
     "duration": 0.084786,
     "end_time": "2021-01-01T06:57:35.572299",
     "exception": false,
     "start_time": "2021-01-01T06:57:35.487513",
     "status": "completed"
    },
    "tags": []
   },
   "outputs": [
    {
     "data": {
      "text/plain": [
       "90907"
      ]
     },
     "execution_count": 11,
     "metadata": {},
     "output_type": "execute_result"
    }
   ],
   "source": [
    "len(df[\"Book-Title\"].unique())"
   ]
  },
  {
   "cell_type": "code",
   "execution_count": 12,
   "metadata": {
    "execution": {
     "iopub.execute_input": "2021-01-01T06:57:35.677327Z",
     "iopub.status.busy": "2021-01-01T06:57:35.676119Z",
     "iopub.status.idle": "2021-01-01T06:57:35.690940Z",
     "shell.execute_reply": "2021-01-01T06:57:35.690266Z"
    },
    "papermill": {
     "duration": 0.072913,
     "end_time": "2021-01-01T06:57:35.691061",
     "exception": false,
     "start_time": "2021-01-01T06:57:35.618148",
     "status": "completed"
    },
    "tags": []
   },
   "outputs": [
    {
     "data": {
      "text/plain": [
       "41997"
      ]
     },
     "execution_count": 12,
     "metadata": {},
     "output_type": "execute_result"
    }
   ],
   "source": [
    "len(df[\"Book-Author\"].unique())"
   ]
  },
  {
   "cell_type": "code",
   "execution_count": 13,
   "metadata": {
    "execution": {
     "iopub.execute_input": "2021-01-01T06:57:35.796337Z",
     "iopub.status.busy": "2021-01-01T06:57:35.795343Z",
     "iopub.status.idle": "2021-01-01T06:57:35.805799Z",
     "shell.execute_reply": "2021-01-01T06:57:35.804968Z"
    },
    "papermill": {
     "duration": 0.067419,
     "end_time": "2021-01-01T06:57:35.805944",
     "exception": false,
     "start_time": "2021-01-01T06:57:35.738525",
     "status": "completed"
    },
    "tags": []
   },
   "outputs": [
    {
     "data": {
      "text/plain": [
       "7862"
      ]
     },
     "execution_count": 13,
     "metadata": {},
     "output_type": "execute_result"
    }
   ],
   "source": [
    "len(df[\"Publisher\"].unique())"
   ]
  },
  {
   "cell_type": "code",
   "execution_count": 14,
   "metadata": {
    "execution": {
     "iopub.execute_input": "2021-01-01T06:57:35.909998Z",
     "iopub.status.busy": "2021-01-01T06:57:35.909309Z",
     "iopub.status.idle": "2021-01-01T06:57:37.320808Z",
     "shell.execute_reply": "2021-01-01T06:57:37.321469Z"
    },
    "papermill": {
     "duration": 1.468121,
     "end_time": "2021-01-01T06:57:37.321646",
     "exception": false,
     "start_time": "2021-01-01T06:57:35.853525",
     "status": "completed"
    },
    "tags": []
   },
   "outputs": [],
   "source": [
    "book_rating_all = pd.read_csv(\"Ratings.csv\")\n",
    "book_users_all = pd.read_csv(\"Users.csv\")"
   ]
  },
  {
   "cell_type": "code",
   "execution_count": 15,
   "metadata": {
    "execution": {
     "iopub.execute_input": "2021-01-01T06:57:37.425177Z",
     "iopub.status.busy": "2021-01-01T06:57:37.424500Z",
     "iopub.status.idle": "2021-01-01T06:57:37.429378Z",
     "shell.execute_reply": "2021-01-01T06:57:37.428802Z"
    },
    "papermill": {
     "duration": 0.059487,
     "end_time": "2021-01-01T06:57:37.429499",
     "exception": false,
     "start_time": "2021-01-01T06:57:37.370012",
     "status": "completed"
    },
    "tags": []
   },
   "outputs": [],
   "source": [
    "book_rating = book_rating_all.iloc[:100000, :]\n",
    "book_users = book_users_all.iloc[:100000, :]"
   ]
  },
  {
   "cell_type": "code",
   "execution_count": 16,
   "metadata": {
    "execution": {
     "iopub.execute_input": "2021-01-01T06:57:37.534572Z",
     "iopub.status.busy": "2021-01-01T06:57:37.533623Z",
     "iopub.status.idle": "2021-01-01T06:57:37.538808Z",
     "shell.execute_reply": "2021-01-01T06:57:37.538165Z"
    },
    "papermill": {
     "duration": 0.062012,
     "end_time": "2021-01-01T06:57:37.538918",
     "exception": false,
     "start_time": "2021-01-01T06:57:37.476906",
     "status": "completed"
    },
    "tags": []
   },
   "outputs": [
    {
     "data": {
      "text/html": [
       "<div>\n",
       "<style scoped>\n",
       "    .dataframe tbody tr th:only-of-type {\n",
       "        vertical-align: middle;\n",
       "    }\n",
       "\n",
       "    .dataframe tbody tr th {\n",
       "        vertical-align: top;\n",
       "    }\n",
       "\n",
       "    .dataframe thead th {\n",
       "        text-align: right;\n",
       "    }\n",
       "</style>\n",
       "<table border=\"1\" class=\"dataframe\">\n",
       "  <thead>\n",
       "    <tr style=\"text-align: right;\">\n",
       "      <th></th>\n",
       "      <th>User-ID</th>\n",
       "      <th>ISBN</th>\n",
       "      <th>Book-Rating</th>\n",
       "    </tr>\n",
       "  </thead>\n",
       "  <tbody>\n",
       "    <tr>\n",
       "      <td>0</td>\n",
       "      <td>276725</td>\n",
       "      <td>034545104X</td>\n",
       "      <td>0</td>\n",
       "    </tr>\n",
       "    <tr>\n",
       "      <td>1</td>\n",
       "      <td>276726</td>\n",
       "      <td>0155061224</td>\n",
       "      <td>5</td>\n",
       "    </tr>\n",
       "    <tr>\n",
       "      <td>2</td>\n",
       "      <td>276727</td>\n",
       "      <td>0446520802</td>\n",
       "      <td>0</td>\n",
       "    </tr>\n",
       "    <tr>\n",
       "      <td>3</td>\n",
       "      <td>276729</td>\n",
       "      <td>052165615X</td>\n",
       "      <td>3</td>\n",
       "    </tr>\n",
       "    <tr>\n",
       "      <td>4</td>\n",
       "      <td>276729</td>\n",
       "      <td>0521795028</td>\n",
       "      <td>6</td>\n",
       "    </tr>\n",
       "  </tbody>\n",
       "</table>\n",
       "</div>"
      ],
      "text/plain": [
       "   User-ID        ISBN  Book-Rating\n",
       "0   276725  034545104X            0\n",
       "1   276726  0155061224            5\n",
       "2   276727  0446520802            0\n",
       "3   276729  052165615X            3\n",
       "4   276729  0521795028            6"
      ]
     },
     "execution_count": 16,
     "metadata": {},
     "output_type": "execute_result"
    }
   ],
   "source": [
    "book_rating.head()"
   ]
  },
  {
   "cell_type": "code",
   "execution_count": 17,
   "metadata": {
    "execution": {
     "iopub.execute_input": "2021-01-01T06:57:37.638273Z",
     "iopub.status.busy": "2021-01-01T06:57:37.637561Z",
     "iopub.status.idle": "2021-01-01T06:57:37.642171Z",
     "shell.execute_reply": "2021-01-01T06:57:37.642684Z"
    },
    "papermill": {
     "duration": 0.057052,
     "end_time": "2021-01-01T06:57:37.642905",
     "exception": false,
     "start_time": "2021-01-01T06:57:37.585853",
     "status": "completed"
    },
    "tags": []
   },
   "outputs": [
    {
     "data": {
      "text/plain": [
       "(100000, 3)"
      ]
     },
     "execution_count": 17,
     "metadata": {},
     "output_type": "execute_result"
    }
   ],
   "source": [
    "book_rating.shape"
   ]
  },
  {
   "cell_type": "code",
   "execution_count": 18,
   "metadata": {
    "execution": {
     "iopub.execute_input": "2021-01-01T06:57:37.744826Z",
     "iopub.status.busy": "2021-01-01T06:57:37.744162Z",
     "iopub.status.idle": "2021-01-01T06:57:37.747480Z",
     "shell.execute_reply": "2021-01-01T06:57:37.748066Z"
    },
    "papermill": {
     "duration": 0.057223,
     "end_time": "2021-01-01T06:57:37.748210",
     "exception": false,
     "start_time": "2021-01-01T06:57:37.690987",
     "status": "completed"
    },
    "tags": []
   },
   "outputs": [
    {
     "data": {
      "text/plain": [
       "(100000, 3)"
      ]
     },
     "execution_count": 18,
     "metadata": {},
     "output_type": "execute_result"
    }
   ],
   "source": [
    "book_users.shape"
   ]
  },
  {
   "cell_type": "code",
   "execution_count": 19,
   "metadata": {
    "execution": {
     "iopub.execute_input": "2021-01-01T06:57:37.850461Z",
     "iopub.status.busy": "2021-01-01T06:57:37.849750Z",
     "iopub.status.idle": "2021-01-01T06:57:37.861966Z",
     "shell.execute_reply": "2021-01-01T06:57:37.861113Z"
    },
    "papermill": {
     "duration": 0.065012,
     "end_time": "2021-01-01T06:57:37.862087",
     "exception": false,
     "start_time": "2021-01-01T06:57:37.797075",
     "status": "completed"
    },
    "tags": []
   },
   "outputs": [
    {
     "data": {
      "text/html": [
       "<div>\n",
       "<style scoped>\n",
       "    .dataframe tbody tr th:only-of-type {\n",
       "        vertical-align: middle;\n",
       "    }\n",
       "\n",
       "    .dataframe tbody tr th {\n",
       "        vertical-align: top;\n",
       "    }\n",
       "\n",
       "    .dataframe thead th {\n",
       "        text-align: right;\n",
       "    }\n",
       "</style>\n",
       "<table border=\"1\" class=\"dataframe\">\n",
       "  <thead>\n",
       "    <tr style=\"text-align: right;\">\n",
       "      <th></th>\n",
       "      <th>User-ID</th>\n",
       "      <th>Location</th>\n",
       "      <th>Age</th>\n",
       "    </tr>\n",
       "  </thead>\n",
       "  <tbody>\n",
       "    <tr>\n",
       "      <td>0</td>\n",
       "      <td>1</td>\n",
       "      <td>nyc, new york, usa</td>\n",
       "      <td>NaN</td>\n",
       "    </tr>\n",
       "    <tr>\n",
       "      <td>1</td>\n",
       "      <td>2</td>\n",
       "      <td>stockton, california, usa</td>\n",
       "      <td>18.0</td>\n",
       "    </tr>\n",
       "    <tr>\n",
       "      <td>2</td>\n",
       "      <td>3</td>\n",
       "      <td>moscow, yukon territory, russia</td>\n",
       "      <td>NaN</td>\n",
       "    </tr>\n",
       "    <tr>\n",
       "      <td>3</td>\n",
       "      <td>4</td>\n",
       "      <td>porto, v.n.gaia, portugal</td>\n",
       "      <td>17.0</td>\n",
       "    </tr>\n",
       "    <tr>\n",
       "      <td>4</td>\n",
       "      <td>5</td>\n",
       "      <td>farnborough, hants, united kingdom</td>\n",
       "      <td>NaN</td>\n",
       "    </tr>\n",
       "  </tbody>\n",
       "</table>\n",
       "</div>"
      ],
      "text/plain": [
       "   User-ID                            Location   Age\n",
       "0        1                  nyc, new york, usa   NaN\n",
       "1        2           stockton, california, usa  18.0\n",
       "2        3     moscow, yukon territory, russia   NaN\n",
       "3        4           porto, v.n.gaia, portugal  17.0\n",
       "4        5  farnborough, hants, united kingdom   NaN"
      ]
     },
     "execution_count": 19,
     "metadata": {},
     "output_type": "execute_result"
    }
   ],
   "source": [
    "book_users.head()"
   ]
  },
  {
   "cell_type": "code",
   "execution_count": 20,
   "metadata": {
    "execution": {
     "iopub.execute_input": "2021-01-01T06:57:37.981021Z",
     "iopub.status.busy": "2021-01-01T06:57:37.980219Z",
     "iopub.status.idle": "2021-01-01T06:57:37.988036Z",
     "shell.execute_reply": "2021-01-01T06:57:37.988548Z"
    },
    "papermill": {
     "duration": 0.075642,
     "end_time": "2021-01-01T06:57:37.988708",
     "exception": false,
     "start_time": "2021-01-01T06:57:37.913066",
     "status": "completed"
    },
    "tags": []
   },
   "outputs": [
    {
     "data": {
      "text/plain": [
       "User-ID         0\n",
       "Location        0\n",
       "Age         39731\n",
       "dtype: int64"
      ]
     },
     "execution_count": 20,
     "metadata": {},
     "output_type": "execute_result"
    }
   ],
   "source": [
    "book_users.isnull().sum()"
   ]
  },
  {
   "cell_type": "code",
   "execution_count": 21,
   "metadata": {
    "execution": {
     "iopub.execute_input": "2021-01-01T06:57:38.099402Z",
     "iopub.status.busy": "2021-01-01T06:57:38.098331Z",
     "iopub.status.idle": "2021-01-01T06:57:38.103271Z",
     "shell.execute_reply": "2021-01-01T06:57:38.102665Z"
    },
    "papermill": {
     "duration": 0.065261,
     "end_time": "2021-01-01T06:57:38.103403",
     "exception": false,
     "start_time": "2021-01-01T06:57:38.038142",
     "status": "completed"
    },
    "tags": []
   },
   "outputs": [
    {
     "data": {
      "text/html": [
       "<div>\n",
       "<style scoped>\n",
       "    .dataframe tbody tr th:only-of-type {\n",
       "        vertical-align: middle;\n",
       "    }\n",
       "\n",
       "    .dataframe tbody tr th {\n",
       "        vertical-align: top;\n",
       "    }\n",
       "\n",
       "    .dataframe thead th {\n",
       "        text-align: right;\n",
       "    }\n",
       "</style>\n",
       "<table border=\"1\" class=\"dataframe\">\n",
       "  <thead>\n",
       "    <tr style=\"text-align: right;\">\n",
       "      <th></th>\n",
       "      <th>User-ID</th>\n",
       "      <th>ISBN</th>\n",
       "      <th>Book-Rating</th>\n",
       "    </tr>\n",
       "  </thead>\n",
       "  <tbody>\n",
       "    <tr>\n",
       "      <td>0</td>\n",
       "      <td>276725</td>\n",
       "      <td>034545104X</td>\n",
       "      <td>0</td>\n",
       "    </tr>\n",
       "    <tr>\n",
       "      <td>1</td>\n",
       "      <td>276726</td>\n",
       "      <td>0155061224</td>\n",
       "      <td>5</td>\n",
       "    </tr>\n",
       "    <tr>\n",
       "      <td>2</td>\n",
       "      <td>276727</td>\n",
       "      <td>0446520802</td>\n",
       "      <td>0</td>\n",
       "    </tr>\n",
       "    <tr>\n",
       "      <td>3</td>\n",
       "      <td>276729</td>\n",
       "      <td>052165615X</td>\n",
       "      <td>3</td>\n",
       "    </tr>\n",
       "    <tr>\n",
       "      <td>4</td>\n",
       "      <td>276729</td>\n",
       "      <td>0521795028</td>\n",
       "      <td>6</td>\n",
       "    </tr>\n",
       "  </tbody>\n",
       "</table>\n",
       "</div>"
      ],
      "text/plain": [
       "   User-ID        ISBN  Book-Rating\n",
       "0   276725  034545104X            0\n",
       "1   276726  0155061224            5\n",
       "2   276727  0446520802            0\n",
       "3   276729  052165615X            3\n",
       "4   276729  0521795028            6"
      ]
     },
     "execution_count": 21,
     "metadata": {},
     "output_type": "execute_result"
    }
   ],
   "source": [
    "book_rating.head()"
   ]
  },
  {
   "cell_type": "code",
   "execution_count": 22,
   "metadata": {
    "execution": {
     "iopub.execute_input": "2021-01-01T06:57:38.208159Z",
     "iopub.status.busy": "2021-01-01T06:57:38.207127Z",
     "iopub.status.idle": "2021-01-01T06:57:38.214992Z",
     "shell.execute_reply": "2021-01-01T06:57:38.215593Z"
    },
    "papermill": {
     "duration": 0.06191,
     "end_time": "2021-01-01T06:57:38.215744",
     "exception": false,
     "start_time": "2021-01-01T06:57:38.153834",
     "status": "completed"
    },
    "tags": []
   },
   "outputs": [],
   "source": [
    "book_ratings = book_rating.iloc[:, 0:3]"
   ]
  },
  {
   "cell_type": "code",
   "execution_count": 23,
   "metadata": {
    "execution": {
     "iopub.execute_input": "2021-01-01T06:57:38.335249Z",
     "iopub.status.busy": "2021-01-01T06:57:38.334101Z",
     "iopub.status.idle": "2021-01-01T06:57:38.338986Z",
     "shell.execute_reply": "2021-01-01T06:57:38.339501Z"
    },
    "papermill": {
     "duration": 0.072457,
     "end_time": "2021-01-01T06:57:38.339656",
     "exception": false,
     "start_time": "2021-01-01T06:57:38.267199",
     "status": "completed"
    },
    "tags": []
   },
   "outputs": [
    {
     "data": {
      "text/html": [
       "<div>\n",
       "<style scoped>\n",
       "    .dataframe tbody tr th:only-of-type {\n",
       "        vertical-align: middle;\n",
       "    }\n",
       "\n",
       "    .dataframe tbody tr th {\n",
       "        vertical-align: top;\n",
       "    }\n",
       "\n",
       "    .dataframe thead th {\n",
       "        text-align: right;\n",
       "    }\n",
       "</style>\n",
       "<table border=\"1\" class=\"dataframe\">\n",
       "  <thead>\n",
       "    <tr style=\"text-align: right;\">\n",
       "      <th></th>\n",
       "      <th>User-ID</th>\n",
       "      <th>ISBN</th>\n",
       "      <th>Book-Rating</th>\n",
       "    </tr>\n",
       "  </thead>\n",
       "  <tbody>\n",
       "    <tr>\n",
       "      <td>0</td>\n",
       "      <td>276725</td>\n",
       "      <td>034545104X</td>\n",
       "      <td>0</td>\n",
       "    </tr>\n",
       "    <tr>\n",
       "      <td>1</td>\n",
       "      <td>276726</td>\n",
       "      <td>0155061224</td>\n",
       "      <td>5</td>\n",
       "    </tr>\n",
       "    <tr>\n",
       "      <td>2</td>\n",
       "      <td>276727</td>\n",
       "      <td>0446520802</td>\n",
       "      <td>0</td>\n",
       "    </tr>\n",
       "    <tr>\n",
       "      <td>3</td>\n",
       "      <td>276729</td>\n",
       "      <td>052165615X</td>\n",
       "      <td>3</td>\n",
       "    </tr>\n",
       "    <tr>\n",
       "      <td>4</td>\n",
       "      <td>276729</td>\n",
       "      <td>0521795028</td>\n",
       "      <td>6</td>\n",
       "    </tr>\n",
       "    <tr>\n",
       "      <td>...</td>\n",
       "      <td>...</td>\n",
       "      <td>...</td>\n",
       "      <td>...</td>\n",
       "    </tr>\n",
       "    <tr>\n",
       "      <td>99995</td>\n",
       "      <td>23288</td>\n",
       "      <td>0802448089</td>\n",
       "      <td>0</td>\n",
       "    </tr>\n",
       "    <tr>\n",
       "      <td>99996</td>\n",
       "      <td>23288</td>\n",
       "      <td>0802448151</td>\n",
       "      <td>0</td>\n",
       "    </tr>\n",
       "    <tr>\n",
       "      <td>99997</td>\n",
       "      <td>23288</td>\n",
       "      <td>0802448267</td>\n",
       "      <td>0</td>\n",
       "    </tr>\n",
       "    <tr>\n",
       "      <td>99998</td>\n",
       "      <td>23288</td>\n",
       "      <td>0802457010</td>\n",
       "      <td>0</td>\n",
       "    </tr>\n",
       "    <tr>\n",
       "      <td>99999</td>\n",
       "      <td>23288</td>\n",
       "      <td>0802730019</td>\n",
       "      <td>0</td>\n",
       "    </tr>\n",
       "  </tbody>\n",
       "</table>\n",
       "<p>100000 rows × 3 columns</p>\n",
       "</div>"
      ],
      "text/plain": [
       "       User-ID        ISBN  Book-Rating\n",
       "0       276725  034545104X            0\n",
       "1       276726  0155061224            5\n",
       "2       276727  0446520802            0\n",
       "3       276729  052165615X            3\n",
       "4       276729  0521795028            6\n",
       "...        ...         ...          ...\n",
       "99995    23288  0802448089            0\n",
       "99996    23288  0802448151            0\n",
       "99997    23288  0802448267            0\n",
       "99998    23288  0802457010            0\n",
       "99999    23288  0802730019            0\n",
       "\n",
       "[100000 rows x 3 columns]"
      ]
     },
     "execution_count": 23,
     "metadata": {},
     "output_type": "execute_result"
    }
   ],
   "source": [
    "book_ratings"
   ]
  },
  {
   "cell_type": "code",
   "execution_count": 24,
   "metadata": {
    "execution": {
     "iopub.execute_input": "2021-01-01T06:57:38.457269Z",
     "iopub.status.busy": "2021-01-01T06:57:38.456250Z",
     "iopub.status.idle": "2021-01-01T06:57:38.461958Z",
     "shell.execute_reply": "2021-01-01T06:57:38.461245Z"
    },
    "papermill": {
     "duration": 0.071086,
     "end_time": "2021-01-01T06:57:38.462089",
     "exception": false,
     "start_time": "2021-01-01T06:57:38.391003",
     "status": "completed"
    },
    "tags": []
   },
   "outputs": [
    {
     "data": {
      "text/html": [
       "<div>\n",
       "<style scoped>\n",
       "    .dataframe tbody tr th:only-of-type {\n",
       "        vertical-align: middle;\n",
       "    }\n",
       "\n",
       "    .dataframe tbody tr th {\n",
       "        vertical-align: top;\n",
       "    }\n",
       "\n",
       "    .dataframe thead th {\n",
       "        text-align: right;\n",
       "    }\n",
       "</style>\n",
       "<table border=\"1\" class=\"dataframe\">\n",
       "  <thead>\n",
       "    <tr style=\"text-align: right;\">\n",
       "      <th></th>\n",
       "      <th>ISBN</th>\n",
       "      <th>Book-Title</th>\n",
       "      <th>Book-Author</th>\n",
       "      <th>Year-Of-Publication</th>\n",
       "      <th>Publisher</th>\n",
       "      <th>Image-URL-S</th>\n",
       "      <th>Image-URL-M</th>\n",
       "      <th>Image-URL-L</th>\n",
       "    </tr>\n",
       "  </thead>\n",
       "  <tbody>\n",
       "    <tr>\n",
       "      <td>0</td>\n",
       "      <td>0195153448</td>\n",
       "      <td>Classical Mythology</td>\n",
       "      <td>Mark P. O. Morford</td>\n",
       "      <td>2002</td>\n",
       "      <td>Oxford University Press</td>\n",
       "      <td>http://images.amazon.com/images/P/0195153448.0...</td>\n",
       "      <td>http://images.amazon.com/images/P/0195153448.0...</td>\n",
       "      <td>http://images.amazon.com/images/P/0195153448.0...</td>\n",
       "    </tr>\n",
       "    <tr>\n",
       "      <td>1</td>\n",
       "      <td>0002005018</td>\n",
       "      <td>Clara Callan</td>\n",
       "      <td>Richard Bruce Wright</td>\n",
       "      <td>2001</td>\n",
       "      <td>HarperFlamingo Canada</td>\n",
       "      <td>http://images.amazon.com/images/P/0002005018.0...</td>\n",
       "      <td>http://images.amazon.com/images/P/0002005018.0...</td>\n",
       "      <td>http://images.amazon.com/images/P/0002005018.0...</td>\n",
       "    </tr>\n",
       "  </tbody>\n",
       "</table>\n",
       "</div>"
      ],
      "text/plain": [
       "         ISBN           Book-Title           Book-Author Year-Of-Publication  \\\n",
       "0  0195153448  Classical Mythology    Mark P. O. Morford                2002   \n",
       "1  0002005018         Clara Callan  Richard Bruce Wright                2001   \n",
       "\n",
       "                 Publisher                                        Image-URL-S  \\\n",
       "0  Oxford University Press  http://images.amazon.com/images/P/0195153448.0...   \n",
       "1    HarperFlamingo Canada  http://images.amazon.com/images/P/0002005018.0...   \n",
       "\n",
       "                                         Image-URL-M  \\\n",
       "0  http://images.amazon.com/images/P/0195153448.0...   \n",
       "1  http://images.amazon.com/images/P/0002005018.0...   \n",
       "\n",
       "                                         Image-URL-L  \n",
       "0  http://images.amazon.com/images/P/0195153448.0...  \n",
       "1  http://images.amazon.com/images/P/0002005018.0...  "
      ]
     },
     "execution_count": 24,
     "metadata": {},
     "output_type": "execute_result"
    }
   ],
   "source": [
    "df.head(2)"
   ]
  },
  {
   "cell_type": "code",
   "execution_count": 25,
   "metadata": {
    "execution": {
     "iopub.execute_input": "2021-01-01T06:57:38.573182Z",
     "iopub.status.busy": "2021-01-01T06:57:38.572451Z",
     "iopub.status.idle": "2021-01-01T06:57:38.575550Z",
     "shell.execute_reply": "2021-01-01T06:57:38.576068Z"
    },
    "papermill": {
     "duration": 0.061807,
     "end_time": "2021-01-01T06:57:38.576216",
     "exception": false,
     "start_time": "2021-01-01T06:57:38.514409",
     "status": "completed"
    },
    "tags": []
   },
   "outputs": [],
   "source": [
    "book_ratings.rename(columns={\"User-ID\" : \"user_id\", \"Book-Rating\" : \"book_rating\"}, inplace=True)"
   ]
  },
  {
   "cell_type": "code",
   "execution_count": 26,
   "metadata": {
    "execution": {
     "iopub.execute_input": "2021-01-01T06:57:38.689812Z",
     "iopub.status.busy": "2021-01-01T06:57:38.689060Z",
     "iopub.status.idle": "2021-01-01T06:57:38.693541Z",
     "shell.execute_reply": "2021-01-01T06:57:38.692965Z"
    },
    "papermill": {
     "duration": 0.065562,
     "end_time": "2021-01-01T06:57:38.693663",
     "exception": false,
     "start_time": "2021-01-01T06:57:38.628101",
     "status": "completed"
    },
    "tags": []
   },
   "outputs": [
    {
     "data": {
      "text/html": [
       "<div>\n",
       "<style scoped>\n",
       "    .dataframe tbody tr th:only-of-type {\n",
       "        vertical-align: middle;\n",
       "    }\n",
       "\n",
       "    .dataframe tbody tr th {\n",
       "        vertical-align: top;\n",
       "    }\n",
       "\n",
       "    .dataframe thead th {\n",
       "        text-align: right;\n",
       "    }\n",
       "</style>\n",
       "<table border=\"1\" class=\"dataframe\">\n",
       "  <thead>\n",
       "    <tr style=\"text-align: right;\">\n",
       "      <th></th>\n",
       "      <th>user_id</th>\n",
       "      <th>ISBN</th>\n",
       "      <th>book_rating</th>\n",
       "    </tr>\n",
       "  </thead>\n",
       "  <tbody>\n",
       "    <tr>\n",
       "      <td>0</td>\n",
       "      <td>276725</td>\n",
       "      <td>034545104X</td>\n",
       "      <td>0</td>\n",
       "    </tr>\n",
       "    <tr>\n",
       "      <td>1</td>\n",
       "      <td>276726</td>\n",
       "      <td>0155061224</td>\n",
       "      <td>5</td>\n",
       "    </tr>\n",
       "    <tr>\n",
       "      <td>2</td>\n",
       "      <td>276727</td>\n",
       "      <td>0446520802</td>\n",
       "      <td>0</td>\n",
       "    </tr>\n",
       "    <tr>\n",
       "      <td>3</td>\n",
       "      <td>276729</td>\n",
       "      <td>052165615X</td>\n",
       "      <td>3</td>\n",
       "    </tr>\n",
       "    <tr>\n",
       "      <td>4</td>\n",
       "      <td>276729</td>\n",
       "      <td>0521795028</td>\n",
       "      <td>6</td>\n",
       "    </tr>\n",
       "  </tbody>\n",
       "</table>\n",
       "</div>"
      ],
      "text/plain": [
       "   user_id        ISBN  book_rating\n",
       "0   276725  034545104X            0\n",
       "1   276726  0155061224            5\n",
       "2   276727  0446520802            0\n",
       "3   276729  052165615X            3\n",
       "4   276729  0521795028            6"
      ]
     },
     "execution_count": 26,
     "metadata": {},
     "output_type": "execute_result"
    }
   ],
   "source": [
    "book_ratings.head()"
   ]
  },
  {
   "cell_type": "code",
   "execution_count": 27,
   "metadata": {
    "execution": {
     "iopub.execute_input": "2021-01-01T06:57:38.805612Z",
     "iopub.status.busy": "2021-01-01T06:57:38.804969Z",
     "iopub.status.idle": "2021-01-01T06:57:38.950213Z",
     "shell.execute_reply": "2021-01-01T06:57:38.949503Z"
    },
    "papermill": {
     "duration": 0.204029,
     "end_time": "2021-01-01T06:57:38.950324",
     "exception": false,
     "start_time": "2021-01-01T06:57:38.746295",
     "status": "completed"
    },
    "tags": []
   },
   "outputs": [],
   "source": [
    "df = pd.merge(df, book_ratings, on=\"ISBN\")"
   ]
  },
  {
   "cell_type": "code",
   "execution_count": 28,
   "metadata": {
    "execution": {
     "iopub.execute_input": "2021-01-01T06:57:39.073688Z",
     "iopub.status.busy": "2021-01-01T06:57:39.072912Z",
     "iopub.status.idle": "2021-01-01T06:57:39.077039Z",
     "shell.execute_reply": "2021-01-01T06:57:39.076393Z"
    },
    "papermill": {
     "duration": 0.073063,
     "end_time": "2021-01-01T06:57:39.077161",
     "exception": false,
     "start_time": "2021-01-01T06:57:39.004098",
     "status": "completed"
    },
    "tags": []
   },
   "outputs": [
    {
     "data": {
      "text/html": [
       "<div>\n",
       "<style scoped>\n",
       "    .dataframe tbody tr th:only-of-type {\n",
       "        vertical-align: middle;\n",
       "    }\n",
       "\n",
       "    .dataframe tbody tr th {\n",
       "        vertical-align: top;\n",
       "    }\n",
       "\n",
       "    .dataframe thead th {\n",
       "        text-align: right;\n",
       "    }\n",
       "</style>\n",
       "<table border=\"1\" class=\"dataframe\">\n",
       "  <thead>\n",
       "    <tr style=\"text-align: right;\">\n",
       "      <th></th>\n",
       "      <th>ISBN</th>\n",
       "      <th>Book-Title</th>\n",
       "      <th>Book-Author</th>\n",
       "      <th>Year-Of-Publication</th>\n",
       "      <th>Publisher</th>\n",
       "      <th>Image-URL-S</th>\n",
       "      <th>Image-URL-M</th>\n",
       "      <th>Image-URL-L</th>\n",
       "      <th>user_id</th>\n",
       "      <th>book_rating</th>\n",
       "    </tr>\n",
       "  </thead>\n",
       "  <tbody>\n",
       "    <tr>\n",
       "      <td>0</td>\n",
       "      <td>0195153448</td>\n",
       "      <td>Classical Mythology</td>\n",
       "      <td>Mark P. O. Morford</td>\n",
       "      <td>2002</td>\n",
       "      <td>Oxford University Press</td>\n",
       "      <td>http://images.amazon.com/images/P/0195153448.0...</td>\n",
       "      <td>http://images.amazon.com/images/P/0195153448.0...</td>\n",
       "      <td>http://images.amazon.com/images/P/0195153448.0...</td>\n",
       "      <td>2</td>\n",
       "      <td>0</td>\n",
       "    </tr>\n",
       "    <tr>\n",
       "      <td>1</td>\n",
       "      <td>0002005018</td>\n",
       "      <td>Clara Callan</td>\n",
       "      <td>Richard Bruce Wright</td>\n",
       "      <td>2001</td>\n",
       "      <td>HarperFlamingo Canada</td>\n",
       "      <td>http://images.amazon.com/images/P/0002005018.0...</td>\n",
       "      <td>http://images.amazon.com/images/P/0002005018.0...</td>\n",
       "      <td>http://images.amazon.com/images/P/0002005018.0...</td>\n",
       "      <td>8</td>\n",
       "      <td>5</td>\n",
       "    </tr>\n",
       "    <tr>\n",
       "      <td>2</td>\n",
       "      <td>0002005018</td>\n",
       "      <td>Clara Callan</td>\n",
       "      <td>Richard Bruce Wright</td>\n",
       "      <td>2001</td>\n",
       "      <td>HarperFlamingo Canada</td>\n",
       "      <td>http://images.amazon.com/images/P/0002005018.0...</td>\n",
       "      <td>http://images.amazon.com/images/P/0002005018.0...</td>\n",
       "      <td>http://images.amazon.com/images/P/0002005018.0...</td>\n",
       "      <td>11400</td>\n",
       "      <td>0</td>\n",
       "    </tr>\n",
       "    <tr>\n",
       "      <td>3</td>\n",
       "      <td>0002005018</td>\n",
       "      <td>Clara Callan</td>\n",
       "      <td>Richard Bruce Wright</td>\n",
       "      <td>2001</td>\n",
       "      <td>HarperFlamingo Canada</td>\n",
       "      <td>http://images.amazon.com/images/P/0002005018.0...</td>\n",
       "      <td>http://images.amazon.com/images/P/0002005018.0...</td>\n",
       "      <td>http://images.amazon.com/images/P/0002005018.0...</td>\n",
       "      <td>11676</td>\n",
       "      <td>8</td>\n",
       "    </tr>\n",
       "    <tr>\n",
       "      <td>4</td>\n",
       "      <td>0060973129</td>\n",
       "      <td>Decision in Normandy</td>\n",
       "      <td>Carlo D'Este</td>\n",
       "      <td>1991</td>\n",
       "      <td>HarperPerennial</td>\n",
       "      <td>http://images.amazon.com/images/P/0060973129.0...</td>\n",
       "      <td>http://images.amazon.com/images/P/0060973129.0...</td>\n",
       "      <td>http://images.amazon.com/images/P/0060973129.0...</td>\n",
       "      <td>8</td>\n",
       "      <td>0</td>\n",
       "    </tr>\n",
       "  </tbody>\n",
       "</table>\n",
       "</div>"
      ],
      "text/plain": [
       "         ISBN            Book-Title           Book-Author Year-Of-Publication  \\\n",
       "0  0195153448   Classical Mythology    Mark P. O. Morford                2002   \n",
       "1  0002005018          Clara Callan  Richard Bruce Wright                2001   \n",
       "2  0002005018          Clara Callan  Richard Bruce Wright                2001   \n",
       "3  0002005018          Clara Callan  Richard Bruce Wright                2001   \n",
       "4  0060973129  Decision in Normandy          Carlo D'Este                1991   \n",
       "\n",
       "                 Publisher                                        Image-URL-S  \\\n",
       "0  Oxford University Press  http://images.amazon.com/images/P/0195153448.0...   \n",
       "1    HarperFlamingo Canada  http://images.amazon.com/images/P/0002005018.0...   \n",
       "2    HarperFlamingo Canada  http://images.amazon.com/images/P/0002005018.0...   \n",
       "3    HarperFlamingo Canada  http://images.amazon.com/images/P/0002005018.0...   \n",
       "4          HarperPerennial  http://images.amazon.com/images/P/0060973129.0...   \n",
       "\n",
       "                                         Image-URL-M  \\\n",
       "0  http://images.amazon.com/images/P/0195153448.0...   \n",
       "1  http://images.amazon.com/images/P/0002005018.0...   \n",
       "2  http://images.amazon.com/images/P/0002005018.0...   \n",
       "3  http://images.amazon.com/images/P/0002005018.0...   \n",
       "4  http://images.amazon.com/images/P/0060973129.0...   \n",
       "\n",
       "                                         Image-URL-L  user_id  book_rating  \n",
       "0  http://images.amazon.com/images/P/0195153448.0...        2            0  \n",
       "1  http://images.amazon.com/images/P/0002005018.0...        8            5  \n",
       "2  http://images.amazon.com/images/P/0002005018.0...    11400            0  \n",
       "3  http://images.amazon.com/images/P/0002005018.0...    11676            8  \n",
       "4  http://images.amazon.com/images/P/0060973129.0...        8            0  "
      ]
     },
     "execution_count": 28,
     "metadata": {},
     "output_type": "execute_result"
    }
   ],
   "source": [
    "df.head()"
   ]
  },
  {
   "cell_type": "code",
   "execution_count": 29,
   "metadata": {
    "execution": {
     "iopub.execute_input": "2021-01-01T06:57:39.192476Z",
     "iopub.status.busy": "2021-01-01T06:57:39.191781Z",
     "iopub.status.idle": "2021-01-01T06:57:39.203917Z",
     "shell.execute_reply": "2021-01-01T06:57:39.203333Z"
    },
    "papermill": {
     "duration": 0.072757,
     "end_time": "2021-01-01T06:57:39.204061",
     "exception": false,
     "start_time": "2021-01-01T06:57:39.131304",
     "status": "completed"
    },
    "tags": []
   },
   "outputs": [],
   "source": [
    "df = df.reindex(columns=[\"ISBN\", \"user_id\", \"Book-Title\", \"Book-Author\", \"Year-Of-Publication\", \"Publisher\", \"book_rating\", \"Image-URL-S\", \"Image-URL-M\", \"Image-URL-L\"])"
   ]
  },
  {
   "cell_type": "code",
   "execution_count": 30,
   "metadata": {
    "execution": {
     "iopub.execute_input": "2021-01-01T06:57:39.329442Z",
     "iopub.status.busy": "2021-01-01T06:57:39.328639Z",
     "iopub.status.idle": "2021-01-01T06:57:39.332338Z",
     "shell.execute_reply": "2021-01-01T06:57:39.332812Z"
    },
    "papermill": {
     "duration": 0.074701,
     "end_time": "2021-01-01T06:57:39.332978",
     "exception": false,
     "start_time": "2021-01-01T06:57:39.258277",
     "status": "completed"
    },
    "tags": []
   },
   "outputs": [
    {
     "data": {
      "text/html": [
       "<div>\n",
       "<style scoped>\n",
       "    .dataframe tbody tr th:only-of-type {\n",
       "        vertical-align: middle;\n",
       "    }\n",
       "\n",
       "    .dataframe tbody tr th {\n",
       "        vertical-align: top;\n",
       "    }\n",
       "\n",
       "    .dataframe thead th {\n",
       "        text-align: right;\n",
       "    }\n",
       "</style>\n",
       "<table border=\"1\" class=\"dataframe\">\n",
       "  <thead>\n",
       "    <tr style=\"text-align: right;\">\n",
       "      <th></th>\n",
       "      <th>ISBN</th>\n",
       "      <th>user_id</th>\n",
       "      <th>Book-Title</th>\n",
       "      <th>Book-Author</th>\n",
       "      <th>Year-Of-Publication</th>\n",
       "      <th>Publisher</th>\n",
       "      <th>book_rating</th>\n",
       "      <th>Image-URL-S</th>\n",
       "      <th>Image-URL-M</th>\n",
       "      <th>Image-URL-L</th>\n",
       "    </tr>\n",
       "  </thead>\n",
       "  <tbody>\n",
       "    <tr>\n",
       "      <td>0</td>\n",
       "      <td>0195153448</td>\n",
       "      <td>2</td>\n",
       "      <td>Classical Mythology</td>\n",
       "      <td>Mark P. O. Morford</td>\n",
       "      <td>2002</td>\n",
       "      <td>Oxford University Press</td>\n",
       "      <td>0</td>\n",
       "      <td>http://images.amazon.com/images/P/0195153448.0...</td>\n",
       "      <td>http://images.amazon.com/images/P/0195153448.0...</td>\n",
       "      <td>http://images.amazon.com/images/P/0195153448.0...</td>\n",
       "    </tr>\n",
       "    <tr>\n",
       "      <td>1</td>\n",
       "      <td>0002005018</td>\n",
       "      <td>8</td>\n",
       "      <td>Clara Callan</td>\n",
       "      <td>Richard Bruce Wright</td>\n",
       "      <td>2001</td>\n",
       "      <td>HarperFlamingo Canada</td>\n",
       "      <td>5</td>\n",
       "      <td>http://images.amazon.com/images/P/0002005018.0...</td>\n",
       "      <td>http://images.amazon.com/images/P/0002005018.0...</td>\n",
       "      <td>http://images.amazon.com/images/P/0002005018.0...</td>\n",
       "    </tr>\n",
       "    <tr>\n",
       "      <td>2</td>\n",
       "      <td>0002005018</td>\n",
       "      <td>11400</td>\n",
       "      <td>Clara Callan</td>\n",
       "      <td>Richard Bruce Wright</td>\n",
       "      <td>2001</td>\n",
       "      <td>HarperFlamingo Canada</td>\n",
       "      <td>0</td>\n",
       "      <td>http://images.amazon.com/images/P/0002005018.0...</td>\n",
       "      <td>http://images.amazon.com/images/P/0002005018.0...</td>\n",
       "      <td>http://images.amazon.com/images/P/0002005018.0...</td>\n",
       "    </tr>\n",
       "    <tr>\n",
       "      <td>3</td>\n",
       "      <td>0002005018</td>\n",
       "      <td>11676</td>\n",
       "      <td>Clara Callan</td>\n",
       "      <td>Richard Bruce Wright</td>\n",
       "      <td>2001</td>\n",
       "      <td>HarperFlamingo Canada</td>\n",
       "      <td>8</td>\n",
       "      <td>http://images.amazon.com/images/P/0002005018.0...</td>\n",
       "      <td>http://images.amazon.com/images/P/0002005018.0...</td>\n",
       "      <td>http://images.amazon.com/images/P/0002005018.0...</td>\n",
       "    </tr>\n",
       "    <tr>\n",
       "      <td>4</td>\n",
       "      <td>0060973129</td>\n",
       "      <td>8</td>\n",
       "      <td>Decision in Normandy</td>\n",
       "      <td>Carlo D'Este</td>\n",
       "      <td>1991</td>\n",
       "      <td>HarperPerennial</td>\n",
       "      <td>0</td>\n",
       "      <td>http://images.amazon.com/images/P/0060973129.0...</td>\n",
       "      <td>http://images.amazon.com/images/P/0060973129.0...</td>\n",
       "      <td>http://images.amazon.com/images/P/0060973129.0...</td>\n",
       "    </tr>\n",
       "  </tbody>\n",
       "</table>\n",
       "</div>"
      ],
      "text/plain": [
       "         ISBN  user_id            Book-Title           Book-Author  \\\n",
       "0  0195153448        2   Classical Mythology    Mark P. O. Morford   \n",
       "1  0002005018        8          Clara Callan  Richard Bruce Wright   \n",
       "2  0002005018    11400          Clara Callan  Richard Bruce Wright   \n",
       "3  0002005018    11676          Clara Callan  Richard Bruce Wright   \n",
       "4  0060973129        8  Decision in Normandy          Carlo D'Este   \n",
       "\n",
       "  Year-Of-Publication                Publisher  book_rating  \\\n",
       "0                2002  Oxford University Press            0   \n",
       "1                2001    HarperFlamingo Canada            5   \n",
       "2                2001    HarperFlamingo Canada            0   \n",
       "3                2001    HarperFlamingo Canada            8   \n",
       "4                1991          HarperPerennial            0   \n",
       "\n",
       "                                         Image-URL-S  \\\n",
       "0  http://images.amazon.com/images/P/0195153448.0...   \n",
       "1  http://images.amazon.com/images/P/0002005018.0...   \n",
       "2  http://images.amazon.com/images/P/0002005018.0...   \n",
       "3  http://images.amazon.com/images/P/0002005018.0...   \n",
       "4  http://images.amazon.com/images/P/0060973129.0...   \n",
       "\n",
       "                                         Image-URL-M  \\\n",
       "0  http://images.amazon.com/images/P/0195153448.0...   \n",
       "1  http://images.amazon.com/images/P/0002005018.0...   \n",
       "2  http://images.amazon.com/images/P/0002005018.0...   \n",
       "3  http://images.amazon.com/images/P/0002005018.0...   \n",
       "4  http://images.amazon.com/images/P/0060973129.0...   \n",
       "\n",
       "                                         Image-URL-L  \n",
       "0  http://images.amazon.com/images/P/0195153448.0...  \n",
       "1  http://images.amazon.com/images/P/0002005018.0...  \n",
       "2  http://images.amazon.com/images/P/0002005018.0...  \n",
       "3  http://images.amazon.com/images/P/0002005018.0...  \n",
       "4  http://images.amazon.com/images/P/0060973129.0...  "
      ]
     },
     "execution_count": 30,
     "metadata": {},
     "output_type": "execute_result"
    }
   ],
   "source": [
    "df.head()"
   ]
  },
  {
   "cell_type": "code",
   "execution_count": 31,
   "metadata": {
    "execution": {
     "iopub.execute_input": "2021-01-01T06:57:39.445158Z",
     "iopub.status.busy": "2021-01-01T06:57:39.444480Z",
     "iopub.status.idle": "2021-01-01T06:57:39.582009Z",
     "shell.execute_reply": "2021-01-01T06:57:39.581425Z"
    },
    "papermill": {
     "duration": 0.194833,
     "end_time": "2021-01-01T06:57:39.582134",
     "exception": false,
     "start_time": "2021-01-01T06:57:39.387301",
     "status": "completed"
    },
    "tags": []
   },
   "outputs": [
    {
     "data": {
      "text/plain": [
       "Book-Title\n",
       "Daughters of Copper Woman                                                                                     10.0\n",
       "The Howling                                                                                                   10.0\n",
       "Messages from the Masters : Tapping into the Power of Love                                                    10.0\n",
       "Errors in English and Ways to Correct Them : Fourth Edition                                                   10.0\n",
       "Idiot Letters: One Man's Relentless Assault on Corporate America                                              10.0\n",
       "                                                                                                              ... \n",
       "Only in Your Arms                                                                                              0.0\n",
       "Only the Beginning                                                                                             0.0\n",
       "Only the Heart (Uqp)                                                                                           0.0\n",
       "Oogie Boogie Central                                                                                           0.0\n",
       " A Light in the Storm: The Civil War Diary of Amelia Martin, Fenwick Island, Delaware, 1861 (Dear America)     0.0\n",
       "Name: book_rating, Length: 41435, dtype: float64"
      ]
     },
     "execution_count": 31,
     "metadata": {},
     "output_type": "execute_result"
    }
   ],
   "source": [
    "df.groupby(\"Book-Title\").mean()[\"book_rating\"].sort_values(ascending=False)"
   ]
  },
  {
   "cell_type": "code",
   "execution_count": 32,
   "metadata": {
    "execution": {
     "iopub.execute_input": "2021-01-01T06:57:39.699481Z",
     "iopub.status.busy": "2021-01-01T06:57:39.698737Z",
     "iopub.status.idle": "2021-01-01T06:57:39.897037Z",
     "shell.execute_reply": "2021-01-01T06:57:39.896364Z"
    },
    "papermill": {
     "duration": 0.259543,
     "end_time": "2021-01-01T06:57:39.897150",
     "exception": false,
     "start_time": "2021-01-01T06:57:39.637607",
     "status": "completed"
    },
    "tags": []
   },
   "outputs": [
    {
     "data": {
      "text/plain": [
       "Book-Title\n",
       "Wild Animus                                                                                                   197\n",
       "The Lovely Bones: A Novel                                                                                     107\n",
       "The Secret Life of Bees                                                                                        78\n",
       "The Da Vinci Code                                                                                              76\n",
       "Life of Pi                                                                                                     71\n",
       "                                                                                                             ... \n",
       "Reflections on Diabetes (Diabetes Forecast Book)                                                                1\n",
       "Reflections on a Marine Venus: A Companion to the Landscape of Rhodes                                           1\n",
       "Reforming a Rake : With This Ring (With This Ring, 1)                                                           1\n",
       "Refuge (Mira)                                                                                                   1\n",
       " A Light in the Storm: The Civil War Diary of Amelia Martin, Fenwick Island, Delaware, 1861 (Dear America)      1\n",
       "Name: book_rating, Length: 41435, dtype: int64"
      ]
     },
     "execution_count": 32,
     "metadata": {},
     "output_type": "execute_result"
    }
   ],
   "source": [
    "df.groupby(\"Book-Title\").count()[\"book_rating\"].sort_values(ascending=False)"
   ]
  },
  {
   "cell_type": "code",
   "execution_count": 33,
   "metadata": {
    "execution": {
     "iopub.execute_input": "2021-01-01T06:57:40.018182Z",
     "iopub.status.busy": "2021-01-01T06:57:40.017457Z",
     "iopub.status.idle": "2021-01-01T06:57:40.132260Z",
     "shell.execute_reply": "2021-01-01T06:57:40.131676Z"
    },
    "papermill": {
     "duration": 0.178787,
     "end_time": "2021-01-01T06:57:40.132388",
     "exception": false,
     "start_time": "2021-01-01T06:57:39.953601",
     "status": "completed"
    },
    "tags": []
   },
   "outputs": [],
   "source": [
    "ratings = pd.DataFrame(df.groupby(\"Book-Title\").mean()[\"book_rating\"])"
   ]
  },
  {
   "cell_type": "code",
   "execution_count": 34,
   "metadata": {
    "execution": {
     "iopub.execute_input": "2021-01-01T06:57:40.253598Z",
     "iopub.status.busy": "2021-01-01T06:57:40.252645Z",
     "iopub.status.idle": "2021-01-01T06:57:40.257084Z",
     "shell.execute_reply": "2021-01-01T06:57:40.257545Z"
    },
    "papermill": {
     "duration": 0.069579,
     "end_time": "2021-01-01T06:57:40.257699",
     "exception": false,
     "start_time": "2021-01-01T06:57:40.188120",
     "status": "completed"
    },
    "tags": []
   },
   "outputs": [
    {
     "data": {
      "text/html": [
       "<div>\n",
       "<style scoped>\n",
       "    .dataframe tbody tr th:only-of-type {\n",
       "        vertical-align: middle;\n",
       "    }\n",
       "\n",
       "    .dataframe tbody tr th {\n",
       "        vertical-align: top;\n",
       "    }\n",
       "\n",
       "    .dataframe thead th {\n",
       "        text-align: right;\n",
       "    }\n",
       "</style>\n",
       "<table border=\"1\" class=\"dataframe\">\n",
       "  <thead>\n",
       "    <tr style=\"text-align: right;\">\n",
       "      <th></th>\n",
       "      <th>book_rating</th>\n",
       "    </tr>\n",
       "    <tr>\n",
       "      <th>Book-Title</th>\n",
       "      <th></th>\n",
       "    </tr>\n",
       "  </thead>\n",
       "  <tbody>\n",
       "    <tr>\n",
       "      <td>A Light in the Storm: The Civil War Diary of Amelia Martin, Fenwick Island, Delaware, 1861 (Dear America)</td>\n",
       "      <td>0.0</td>\n",
       "    </tr>\n",
       "    <tr>\n",
       "      <td>Beyond IBM: Leadership Marketing and Finance for the 1990s</td>\n",
       "      <td>0.0</td>\n",
       "    </tr>\n",
       "    <tr>\n",
       "      <td>It Takes Two</td>\n",
       "      <td>0.0</td>\n",
       "    </tr>\n",
       "    <tr>\n",
       "      <td>Little Comic Shop of Horrors (Give Yourself Goosebumps, Book 17)</td>\n",
       "      <td>0.0</td>\n",
       "    </tr>\n",
       "    <tr>\n",
       "      <td>Murder of a Sleeping Beauty (Scumble River Mysteries (Paperback))</td>\n",
       "      <td>0.0</td>\n",
       "    </tr>\n",
       "  </tbody>\n",
       "</table>\n",
       "</div>"
      ],
      "text/plain": [
       "                                                    book_rating\n",
       "Book-Title                                                     \n",
       " A Light in the Storm: The Civil War Diary of A...          0.0\n",
       " Beyond IBM: Leadership Marketing and Finance f...          0.0\n",
       " It Takes Two                                               0.0\n",
       " Little Comic Shop of Horrors (Give Yourself Go...          0.0\n",
       " Murder of a Sleeping Beauty (Scumble River Mys...          0.0"
      ]
     },
     "execution_count": 34,
     "metadata": {},
     "output_type": "execute_result"
    }
   ],
   "source": [
    "ratings.head()"
   ]
  },
  {
   "cell_type": "code",
   "execution_count": 35,
   "metadata": {
    "execution": {
     "iopub.execute_input": "2021-01-01T06:57:40.373501Z",
     "iopub.status.busy": "2021-01-01T06:57:40.372652Z",
     "iopub.status.idle": "2021-01-01T06:57:40.380622Z",
     "shell.execute_reply": "2021-01-01T06:57:40.379903Z"
    },
    "papermill": {
     "duration": 0.06684,
     "end_time": "2021-01-01T06:57:40.380742",
     "exception": false,
     "start_time": "2021-01-01T06:57:40.313902",
     "status": "completed"
    },
    "tags": []
   },
   "outputs": [
    {
     "data": {
      "text/plain": [
       "(41435, 1)"
      ]
     },
     "execution_count": 35,
     "metadata": {},
     "output_type": "execute_result"
    }
   ],
   "source": [
    "ratings.shape"
   ]
  },
  {
   "cell_type": "code",
   "execution_count": 36,
   "metadata": {
    "execution": {
     "iopub.execute_input": "2021-01-01T06:57:40.504892Z",
     "iopub.status.busy": "2021-01-01T06:57:40.504248Z",
     "iopub.status.idle": "2021-01-01T06:57:40.518719Z",
     "shell.execute_reply": "2021-01-01T06:57:40.519245Z"
    },
    "papermill": {
     "duration": 0.079896,
     "end_time": "2021-01-01T06:57:40.519386",
     "exception": false,
     "start_time": "2021-01-01T06:57:40.439490",
     "status": "completed"
    },
    "tags": []
   },
   "outputs": [
    {
     "data": {
      "text/html": [
       "<div>\n",
       "<style scoped>\n",
       "    .dataframe tbody tr th:only-of-type {\n",
       "        vertical-align: middle;\n",
       "    }\n",
       "\n",
       "    .dataframe tbody tr th {\n",
       "        vertical-align: top;\n",
       "    }\n",
       "\n",
       "    .dataframe thead th {\n",
       "        text-align: right;\n",
       "    }\n",
       "</style>\n",
       "<table border=\"1\" class=\"dataframe\">\n",
       "  <thead>\n",
       "    <tr style=\"text-align: right;\">\n",
       "      <th></th>\n",
       "      <th>book_rating</th>\n",
       "    </tr>\n",
       "  </thead>\n",
       "  <tbody>\n",
       "    <tr>\n",
       "      <td>count</td>\n",
       "      <td>41435.000000</td>\n",
       "    </tr>\n",
       "    <tr>\n",
       "      <td>mean</td>\n",
       "      <td>3.069386</td>\n",
       "    </tr>\n",
       "    <tr>\n",
       "      <td>std</td>\n",
       "      <td>3.509478</td>\n",
       "    </tr>\n",
       "    <tr>\n",
       "      <td>min</td>\n",
       "      <td>0.000000</td>\n",
       "    </tr>\n",
       "    <tr>\n",
       "      <td>25%</td>\n",
       "      <td>0.000000</td>\n",
       "    </tr>\n",
       "    <tr>\n",
       "      <td>50%</td>\n",
       "      <td>1.333333</td>\n",
       "    </tr>\n",
       "    <tr>\n",
       "      <td>75%</td>\n",
       "      <td>6.000000</td>\n",
       "    </tr>\n",
       "    <tr>\n",
       "      <td>max</td>\n",
       "      <td>10.000000</td>\n",
       "    </tr>\n",
       "  </tbody>\n",
       "</table>\n",
       "</div>"
      ],
      "text/plain": [
       "        book_rating\n",
       "count  41435.000000\n",
       "mean       3.069386\n",
       "std        3.509478\n",
       "min        0.000000\n",
       "25%        0.000000\n",
       "50%        1.333333\n",
       "75%        6.000000\n",
       "max       10.000000"
      ]
     },
     "execution_count": 36,
     "metadata": {},
     "output_type": "execute_result"
    }
   ],
   "source": [
    "ratings.describe()"
   ]
  },
  {
   "cell_type": "code",
   "execution_count": 37,
   "metadata": {
    "execution": {
     "iopub.execute_input": "2021-01-01T06:57:40.714739Z",
     "iopub.status.busy": "2021-01-01T06:57:40.713323Z",
     "iopub.status.idle": "2021-01-01T06:57:40.936969Z",
     "shell.execute_reply": "2021-01-01T06:57:40.937870Z"
    },
    "papermill": {
     "duration": 0.326254,
     "end_time": "2021-01-01T06:57:40.938112",
     "exception": false,
     "start_time": "2021-01-01T06:57:40.611858",
     "status": "completed"
    },
    "tags": []
   },
   "outputs": [],
   "source": [
    "ratings[\"num_of_ratings\"] = pd.DataFrame(df.groupby(\"Book-Title\").count()[\"book_rating\"])"
   ]
  },
  {
   "cell_type": "code",
   "execution_count": 38,
   "metadata": {
    "execution": {
     "iopub.execute_input": "2021-01-01T06:57:41.101572Z",
     "iopub.status.busy": "2021-01-01T06:57:41.100329Z",
     "iopub.status.idle": "2021-01-01T06:57:41.104864Z",
     "shell.execute_reply": "2021-01-01T06:57:41.105755Z"
    },
    "papermill": {
     "duration": 0.082833,
     "end_time": "2021-01-01T06:57:41.105996",
     "exception": false,
     "start_time": "2021-01-01T06:57:41.023163",
     "status": "completed"
    },
    "tags": []
   },
   "outputs": [
    {
     "data": {
      "text/html": [
       "<div>\n",
       "<style scoped>\n",
       "    .dataframe tbody tr th:only-of-type {\n",
       "        vertical-align: middle;\n",
       "    }\n",
       "\n",
       "    .dataframe tbody tr th {\n",
       "        vertical-align: top;\n",
       "    }\n",
       "\n",
       "    .dataframe thead th {\n",
       "        text-align: right;\n",
       "    }\n",
       "</style>\n",
       "<table border=\"1\" class=\"dataframe\">\n",
       "  <thead>\n",
       "    <tr style=\"text-align: right;\">\n",
       "      <th></th>\n",
       "      <th>book_rating</th>\n",
       "      <th>num_of_ratings</th>\n",
       "    </tr>\n",
       "    <tr>\n",
       "      <th>Book-Title</th>\n",
       "      <th></th>\n",
       "      <th></th>\n",
       "    </tr>\n",
       "  </thead>\n",
       "  <tbody>\n",
       "    <tr>\n",
       "      <td>A Light in the Storm: The Civil War Diary of Amelia Martin, Fenwick Island, Delaware, 1861 (Dear America)</td>\n",
       "      <td>0.0</td>\n",
       "      <td>1</td>\n",
       "    </tr>\n",
       "    <tr>\n",
       "      <td>Beyond IBM: Leadership Marketing and Finance for the 1990s</td>\n",
       "      <td>0.0</td>\n",
       "      <td>1</td>\n",
       "    </tr>\n",
       "    <tr>\n",
       "      <td>It Takes Two</td>\n",
       "      <td>0.0</td>\n",
       "      <td>1</td>\n",
       "    </tr>\n",
       "    <tr>\n",
       "      <td>Little Comic Shop of Horrors (Give Yourself Goosebumps, Book 17)</td>\n",
       "      <td>0.0</td>\n",
       "      <td>1</td>\n",
       "    </tr>\n",
       "    <tr>\n",
       "      <td>Murder of a Sleeping Beauty (Scumble River Mysteries (Paperback))</td>\n",
       "      <td>0.0</td>\n",
       "      <td>1</td>\n",
       "    </tr>\n",
       "  </tbody>\n",
       "</table>\n",
       "</div>"
      ],
      "text/plain": [
       "                                                    book_rating  \\\n",
       "Book-Title                                                        \n",
       " A Light in the Storm: The Civil War Diary of A...          0.0   \n",
       " Beyond IBM: Leadership Marketing and Finance f...          0.0   \n",
       " It Takes Two                                               0.0   \n",
       " Little Comic Shop of Horrors (Give Yourself Go...          0.0   \n",
       " Murder of a Sleeping Beauty (Scumble River Mys...          0.0   \n",
       "\n",
       "                                                    num_of_ratings  \n",
       "Book-Title                                                          \n",
       " A Light in the Storm: The Civil War Diary of A...               1  \n",
       " Beyond IBM: Leadership Marketing and Finance f...               1  \n",
       " It Takes Two                                                    1  \n",
       " Little Comic Shop of Horrors (Give Yourself Go...               1  \n",
       " Murder of a Sleeping Beauty (Scumble River Mys...               1  "
      ]
     },
     "execution_count": 38,
     "metadata": {},
     "output_type": "execute_result"
    }
   ],
   "source": [
    "ratings.head()"
   ]
  },
  {
   "cell_type": "code",
   "execution_count": 39,
   "metadata": {
    "execution": {
     "iopub.execute_input": "2021-01-01T06:57:41.308853Z",
     "iopub.status.busy": "2021-01-01T06:57:41.308148Z",
     "iopub.status.idle": "2021-01-01T06:57:41.329763Z",
     "shell.execute_reply": "2021-01-01T06:57:41.330601Z"
    },
    "papermill": {
     "duration": 0.125284,
     "end_time": "2021-01-01T06:57:41.330799",
     "exception": false,
     "start_time": "2021-01-01T06:57:41.205515",
     "status": "completed"
    },
    "tags": []
   },
   "outputs": [
    {
     "data": {
      "text/html": [
       "<div>\n",
       "<style scoped>\n",
       "    .dataframe tbody tr th:only-of-type {\n",
       "        vertical-align: middle;\n",
       "    }\n",
       "\n",
       "    .dataframe tbody tr th {\n",
       "        vertical-align: top;\n",
       "    }\n",
       "\n",
       "    .dataframe thead th {\n",
       "        text-align: right;\n",
       "    }\n",
       "</style>\n",
       "<table border=\"1\" class=\"dataframe\">\n",
       "  <thead>\n",
       "    <tr style=\"text-align: right;\">\n",
       "      <th></th>\n",
       "      <th>book_rating</th>\n",
       "      <th>num_of_ratings</th>\n",
       "    </tr>\n",
       "    <tr>\n",
       "      <th>Book-Title</th>\n",
       "      <th></th>\n",
       "      <th></th>\n",
       "    </tr>\n",
       "  </thead>\n",
       "  <tbody>\n",
       "    <tr>\n",
       "      <td>A Light in the Storm: The Civil War Diary of Amelia Martin, Fenwick Island, Delaware, 1861 (Dear America)</td>\n",
       "      <td>0.0</td>\n",
       "      <td>1</td>\n",
       "    </tr>\n",
       "    <tr>\n",
       "      <td>Oogie Boogie Central</td>\n",
       "      <td>0.0</td>\n",
       "      <td>1</td>\n",
       "    </tr>\n",
       "    <tr>\n",
       "      <td>Only the Heart (Uqp)</td>\n",
       "      <td>0.0</td>\n",
       "      <td>1</td>\n",
       "    </tr>\n",
       "    <tr>\n",
       "      <td>Only the Beginning</td>\n",
       "      <td>0.0</td>\n",
       "      <td>1</td>\n",
       "    </tr>\n",
       "    <tr>\n",
       "      <td>Only in Your Arms</td>\n",
       "      <td>0.0</td>\n",
       "      <td>1</td>\n",
       "    </tr>\n",
       "    <tr>\n",
       "      <td>...</td>\n",
       "      <td>...</td>\n",
       "      <td>...</td>\n",
       "    </tr>\n",
       "    <tr>\n",
       "      <td>Idiot Letters: One Man's Relentless Assault on Corporate America</td>\n",
       "      <td>10.0</td>\n",
       "      <td>1</td>\n",
       "    </tr>\n",
       "    <tr>\n",
       "      <td>Errors in English and Ways to Correct Them : Fourth Edition</td>\n",
       "      <td>10.0</td>\n",
       "      <td>1</td>\n",
       "    </tr>\n",
       "    <tr>\n",
       "      <td>Messages from the Masters : Tapping into the Power of Love</td>\n",
       "      <td>10.0</td>\n",
       "      <td>1</td>\n",
       "    </tr>\n",
       "    <tr>\n",
       "      <td>The Howling</td>\n",
       "      <td>10.0</td>\n",
       "      <td>1</td>\n",
       "    </tr>\n",
       "    <tr>\n",
       "      <td>Daughters of Copper Woman</td>\n",
       "      <td>10.0</td>\n",
       "      <td>1</td>\n",
       "    </tr>\n",
       "  </tbody>\n",
       "</table>\n",
       "<p>41435 rows × 2 columns</p>\n",
       "</div>"
      ],
      "text/plain": [
       "                                                    book_rating  \\\n",
       "Book-Title                                                        \n",
       " A Light in the Storm: The Civil War Diary of A...          0.0   \n",
       "Oogie Boogie Central                                        0.0   \n",
       "Only the Heart (Uqp)                                        0.0   \n",
       "Only the Beginning                                          0.0   \n",
       "Only in Your Arms                                           0.0   \n",
       "...                                                         ...   \n",
       "Idiot Letters: One Man's Relentless Assault on ...         10.0   \n",
       "Errors in English and Ways to Correct Them : Fo...         10.0   \n",
       "Messages from the Masters : Tapping into the Po...         10.0   \n",
       "The Howling                                                10.0   \n",
       "Daughters of Copper Woman                                  10.0   \n",
       "\n",
       "                                                    num_of_ratings  \n",
       "Book-Title                                                          \n",
       " A Light in the Storm: The Civil War Diary of A...               1  \n",
       "Oogie Boogie Central                                             1  \n",
       "Only the Heart (Uqp)                                             1  \n",
       "Only the Beginning                                               1  \n",
       "Only in Your Arms                                                1  \n",
       "...                                                            ...  \n",
       "Idiot Letters: One Man's Relentless Assault on ...               1  \n",
       "Errors in English and Ways to Correct Them : Fo...               1  \n",
       "Messages from the Masters : Tapping into the Po...               1  \n",
       "The Howling                                                      1  \n",
       "Daughters of Copper Woman                                        1  \n",
       "\n",
       "[41435 rows x 2 columns]"
      ]
     },
     "execution_count": 39,
     "metadata": {},
     "output_type": "execute_result"
    }
   ],
   "source": [
    "ratings.sort_values(by=\"book_rating\")"
   ]
  },
  {
   "cell_type": "code",
   "execution_count": 40,
   "metadata": {
    "execution": {
     "iopub.execute_input": "2021-01-01T06:57:41.461681Z",
     "iopub.status.busy": "2021-01-01T06:57:41.460658Z",
     "iopub.status.idle": "2021-01-01T06:57:41.478964Z",
     "shell.execute_reply": "2021-01-01T06:57:41.479431Z"
    },
    "papermill": {
     "duration": 0.083702,
     "end_time": "2021-01-01T06:57:41.479577",
     "exception": false,
     "start_time": "2021-01-01T06:57:41.395875",
     "status": "completed"
    },
    "tags": []
   },
   "outputs": [
    {
     "data": {
      "text/html": [
       "<div>\n",
       "<style scoped>\n",
       "    .dataframe tbody tr th:only-of-type {\n",
       "        vertical-align: middle;\n",
       "    }\n",
       "\n",
       "    .dataframe tbody tr th {\n",
       "        vertical-align: top;\n",
       "    }\n",
       "\n",
       "    .dataframe thead th {\n",
       "        text-align: right;\n",
       "    }\n",
       "</style>\n",
       "<table border=\"1\" class=\"dataframe\">\n",
       "  <thead>\n",
       "    <tr style=\"text-align: right;\">\n",
       "      <th></th>\n",
       "      <th>book_rating</th>\n",
       "      <th>num_of_ratings</th>\n",
       "    </tr>\n",
       "    <tr>\n",
       "      <th>Book-Title</th>\n",
       "      <th></th>\n",
       "      <th></th>\n",
       "    </tr>\n",
       "  </thead>\n",
       "  <tbody>\n",
       "    <tr>\n",
       "      <td>Lake Powell: A Different Light</td>\n",
       "      <td>10.0</td>\n",
       "      <td>1</td>\n",
       "    </tr>\n",
       "    <tr>\n",
       "      <td>Cardcaptor Sakura: Master of the Clow (Cardcaptor Sakura, 3)</td>\n",
       "      <td>10.0</td>\n",
       "      <td>1</td>\n",
       "    </tr>\n",
       "    <tr>\n",
       "      <td>Cardcaptor Sakura: Master of the Clow, Book 4</td>\n",
       "      <td>10.0</td>\n",
       "      <td>1</td>\n",
       "    </tr>\n",
       "    <tr>\n",
       "      <td>Cardcaptor Sakura: Master of the Clow, Book 5</td>\n",
       "      <td>10.0</td>\n",
       "      <td>1</td>\n",
       "    </tr>\n",
       "    <tr>\n",
       "      <td>Uncle John's All-Purpose Extra-Strength Bathroom Reader (Uncle John's Bathroom Reader #13)</td>\n",
       "      <td>10.0</td>\n",
       "      <td>1</td>\n",
       "    </tr>\n",
       "    <tr>\n",
       "      <td>...</td>\n",
       "      <td>...</td>\n",
       "      <td>...</td>\n",
       "    </tr>\n",
       "    <tr>\n",
       "      <td>Lonely On the Mountain</td>\n",
       "      <td>0.0</td>\n",
       "      <td>1</td>\n",
       "    </tr>\n",
       "    <tr>\n",
       "      <td>Lonely Girls With Burning Eyes: A Wife Recalls Her Husband's Journey Home from Vietnam</td>\n",
       "      <td>0.0</td>\n",
       "      <td>1</td>\n",
       "    </tr>\n",
       "    <tr>\n",
       "      <td>Lone Wolf (Stocking Stuffers) (Stolen Moments)</td>\n",
       "      <td>0.0</td>\n",
       "      <td>2</td>\n",
       "    </tr>\n",
       "    <tr>\n",
       "      <td>Lone Star Christmas ... And Other Gifts</td>\n",
       "      <td>0.0</td>\n",
       "      <td>1</td>\n",
       "    </tr>\n",
       "    <tr>\n",
       "      <td>Ã?Â?bermorgen.</td>\n",
       "      <td>0.0</td>\n",
       "      <td>1</td>\n",
       "    </tr>\n",
       "  </tbody>\n",
       "</table>\n",
       "<p>41435 rows × 2 columns</p>\n",
       "</div>"
      ],
      "text/plain": [
       "                                                    book_rating  \\\n",
       "Book-Title                                                        \n",
       "Lake Powell: A Different Light                             10.0   \n",
       "Cardcaptor Sakura: Master of the Clow (Cardcapt...         10.0   \n",
       "Cardcaptor Sakura: Master of the Clow, Book 4              10.0   \n",
       "Cardcaptor Sakura: Master of the Clow, Book 5              10.0   \n",
       "Uncle John's All-Purpose Extra-Strength Bathroo...         10.0   \n",
       "...                                                         ...   \n",
       "Lonely On the Mountain                                      0.0   \n",
       "Lonely Girls With Burning Eyes: A Wife Recalls ...          0.0   \n",
       "Lone Wolf (Stocking Stuffers) (Stolen Moments)              0.0   \n",
       "Lone Star Christmas ... And Other Gifts                     0.0   \n",
       "Ã?Â?bermorgen.                                              0.0   \n",
       "\n",
       "                                                    num_of_ratings  \n",
       "Book-Title                                                          \n",
       "Lake Powell: A Different Light                                   1  \n",
       "Cardcaptor Sakura: Master of the Clow (Cardcapt...               1  \n",
       "Cardcaptor Sakura: Master of the Clow, Book 4                    1  \n",
       "Cardcaptor Sakura: Master of the Clow, Book 5                    1  \n",
       "Uncle John's All-Purpose Extra-Strength Bathroo...               1  \n",
       "...                                                            ...  \n",
       "Lonely On the Mountain                                           1  \n",
       "Lonely Girls With Burning Eyes: A Wife Recalls ...               1  \n",
       "Lone Wolf (Stocking Stuffers) (Stolen Moments)                   2  \n",
       "Lone Star Christmas ... And Other Gifts                          1  \n",
       "Ã?Â?bermorgen.                                                   1  \n",
       "\n",
       "[41435 rows x 2 columns]"
      ]
     },
     "execution_count": 40,
     "metadata": {},
     "output_type": "execute_result"
    }
   ],
   "source": [
    "ratings.sort_values(by=\"book_rating\", ascending=False)"
   ]
  },
  {
   "cell_type": "code",
   "execution_count": 41,
   "metadata": {
    "execution": {
     "iopub.execute_input": "2021-01-01T06:57:41.615577Z",
     "iopub.status.busy": "2021-01-01T06:57:41.614534Z",
     "iopub.status.idle": "2021-01-01T06:57:41.986230Z",
     "shell.execute_reply": "2021-01-01T06:57:41.986697Z"
    },
    "papermill": {
     "duration": 0.443034,
     "end_time": "2021-01-01T06:57:41.986839",
     "exception": false,
     "start_time": "2021-01-01T06:57:41.543805",
     "status": "completed"
    },
    "tags": []
   },
   "outputs": [
    {
     "data": {
      "image/png": "[encoded data removed]",
      "text/plain": [
       "<Figure size 720x432 with 1 Axes>"
      ]
     },
     "metadata": {
      "needs_background": "light"
     },
     "output_type": "display_data"
    }
   ],
   "source": [
    "plt.figure(figsize=(10, 6))\n",
    "\n",
    "plt.hist(ratings.num_of_ratings, bins=80)\n",
    "plt.show()"
   ]
  },
  {
   "cell_type": "code",
   "execution_count": 42,
   "metadata": {
    "execution": {
     "iopub.execute_input": "2021-01-01T06:57:42.112535Z",
     "iopub.status.busy": "2021-01-01T06:57:42.111418Z",
     "iopub.status.idle": "2021-01-01T06:57:42.377991Z",
     "shell.execute_reply": "2021-01-01T06:57:42.378590Z"
    },
    "papermill": {
     "duration": 0.331415,
     "end_time": "2021-01-01T06:57:42.378755",
     "exception": false,
     "start_time": "2021-01-01T06:57:42.047340",
     "status": "completed"
    },
    "tags": []
   },
   "outputs": [
    {
     "data": {
      "image/png": "[encoded data removed]",
      "text/plain": [
       "<Figure size 720x432 with 1 Axes>"
      ]
     },
     "metadata": {
      "needs_background": "light"
     },
     "output_type": "display_data"
    }
   ],
   "source": [
    "plt.figure(figsize=(10,6))\n",
    "plt.hist(ratings.book_rating, bins=60)\n",
    "plt.show()"
   ]
  },
  {
   "cell_type": "code",
   "execution_count": 43,
   "metadata": {
    "execution": {
     "iopub.execute_input": "2021-01-01T06:57:42.507321Z",
     "iopub.status.busy": "2021-01-01T06:57:42.506310Z",
     "iopub.status.idle": "2021-01-01T06:57:43.520153Z",
     "shell.execute_reply": "2021-01-01T06:57:43.520717Z"
    },
    "papermill": {
     "duration": 1.079382,
     "end_time": "2021-01-01T06:57:43.520854",
     "exception": false,
     "start_time": "2021-01-01T06:57:42.441472",
     "status": "completed"
    },
    "tags": []
   },
   "outputs": [
    {
     "data": {
      "image/png": "[encoded data removed]",
      "text/plain": [
       "<Figure size 432x432 with 3 Axes>"
      ]
     },
     "metadata": {
      "needs_background": "light"
     },
     "output_type": "display_data"
    }
   ],
   "source": [
    "sns.jointplot(x=\"book_rating\", y=\"num_of_ratings\", data=ratings, alpha=0.5)\n",
    "plt.show()"
   ]
  },
  {
   "cell_type": "code",
   "execution_count": 44,
   "metadata": {
    "execution": {
     "iopub.execute_input": "2021-01-01T06:57:43.703720Z",
     "iopub.status.busy": "2021-01-01T06:57:43.702632Z",
     "iopub.status.idle": "2021-01-01T06:57:43.713158Z",
     "shell.execute_reply": "2021-01-01T06:57:43.712575Z"
    },
    "papermill": {
     "duration": 0.127832,
     "end_time": "2021-01-01T06:57:43.713284",
     "exception": false,
     "start_time": "2021-01-01T06:57:43.585452",
     "status": "completed"
    },
    "tags": []
   },
   "outputs": [
    {
     "data": {
      "text/html": [
       "<div>\n",
       "<style scoped>\n",
       "    .dataframe tbody tr th:only-of-type {\n",
       "        vertical-align: middle;\n",
       "    }\n",
       "\n",
       "    .dataframe tbody tr th {\n",
       "        vertical-align: top;\n",
       "    }\n",
       "\n",
       "    .dataframe thead th {\n",
       "        text-align: right;\n",
       "    }\n",
       "</style>\n",
       "<table border=\"1\" class=\"dataframe\">\n",
       "  <thead>\n",
       "    <tr style=\"text-align: right;\">\n",
       "      <th></th>\n",
       "      <th>ISBN</th>\n",
       "      <th>user_id</th>\n",
       "      <th>Book-Title</th>\n",
       "      <th>Book-Author</th>\n",
       "      <th>Year-Of-Publication</th>\n",
       "      <th>Publisher</th>\n",
       "      <th>book_rating</th>\n",
       "      <th>Image-URL-S</th>\n",
       "      <th>Image-URL-M</th>\n",
       "      <th>Image-URL-L</th>\n",
       "    </tr>\n",
       "  </thead>\n",
       "  <tbody>\n",
       "    <tr>\n",
       "      <td>0</td>\n",
       "      <td>0195153448</td>\n",
       "      <td>2</td>\n",
       "      <td>Classical Mythology</td>\n",
       "      <td>Mark P. O. Morford</td>\n",
       "      <td>2002</td>\n",
       "      <td>Oxford University Press</td>\n",
       "      <td>0</td>\n",
       "      <td>http://images.amazon.com/images/P/0195153448.0...</td>\n",
       "      <td>http://images.amazon.com/images/P/0195153448.0...</td>\n",
       "      <td>http://images.amazon.com/images/P/0195153448.0...</td>\n",
       "    </tr>\n",
       "    <tr>\n",
       "      <td>1</td>\n",
       "      <td>0002005018</td>\n",
       "      <td>8</td>\n",
       "      <td>Clara Callan</td>\n",
       "      <td>Richard Bruce Wright</td>\n",
       "      <td>2001</td>\n",
       "      <td>HarperFlamingo Canada</td>\n",
       "      <td>5</td>\n",
       "      <td>http://images.amazon.com/images/P/0002005018.0...</td>\n",
       "      <td>http://images.amazon.com/images/P/0002005018.0...</td>\n",
       "      <td>http://images.amazon.com/images/P/0002005018.0...</td>\n",
       "    </tr>\n",
       "    <tr>\n",
       "      <td>2</td>\n",
       "      <td>0002005018</td>\n",
       "      <td>11400</td>\n",
       "      <td>Clara Callan</td>\n",
       "      <td>Richard Bruce Wright</td>\n",
       "      <td>2001</td>\n",
       "      <td>HarperFlamingo Canada</td>\n",
       "      <td>0</td>\n",
       "      <td>http://images.amazon.com/images/P/0002005018.0...</td>\n",
       "      <td>http://images.amazon.com/images/P/0002005018.0...</td>\n",
       "      <td>http://images.amazon.com/images/P/0002005018.0...</td>\n",
       "    </tr>\n",
       "    <tr>\n",
       "      <td>3</td>\n",
       "      <td>0002005018</td>\n",
       "      <td>11676</td>\n",
       "      <td>Clara Callan</td>\n",
       "      <td>Richard Bruce Wright</td>\n",
       "      <td>2001</td>\n",
       "      <td>HarperFlamingo Canada</td>\n",
       "      <td>8</td>\n",
       "      <td>http://images.amazon.com/images/P/0002005018.0...</td>\n",
       "      <td>http://images.amazon.com/images/P/0002005018.0...</td>\n",
       "      <td>http://images.amazon.com/images/P/0002005018.0...</td>\n",
       "    </tr>\n",
       "    <tr>\n",
       "      <td>4</td>\n",
       "      <td>0060973129</td>\n",
       "      <td>8</td>\n",
       "      <td>Decision in Normandy</td>\n",
       "      <td>Carlo D'Este</td>\n",
       "      <td>1991</td>\n",
       "      <td>HarperPerennial</td>\n",
       "      <td>0</td>\n",
       "      <td>http://images.amazon.com/images/P/0060973129.0...</td>\n",
       "      <td>http://images.amazon.com/images/P/0060973129.0...</td>\n",
       "      <td>http://images.amazon.com/images/P/0060973129.0...</td>\n",
       "    </tr>\n",
       "  </tbody>\n",
       "</table>\n",
       "</div>"
      ],
      "text/plain": [
       "         ISBN  user_id            Book-Title           Book-Author  \\\n",
       "0  0195153448        2   Classical Mythology    Mark P. O. Morford   \n",
       "1  0002005018        8          Clara Callan  Richard Bruce Wright   \n",
       "2  0002005018    11400          Clara Callan  Richard Bruce Wright   \n",
       "3  0002005018    11676          Clara Callan  Richard Bruce Wright   \n",
       "4  0060973129        8  Decision in Normandy          Carlo D'Este   \n",
       "\n",
       "  Year-Of-Publication                Publisher  book_rating  \\\n",
       "0                2002  Oxford University Press            0   \n",
       "1                2001    HarperFlamingo Canada            5   \n",
       "2                2001    HarperFlamingo Canada            0   \n",
       "3                2001    HarperFlamingo Canada            8   \n",
       "4                1991          HarperPerennial            0   \n",
       "\n",
       "                                         Image-URL-S  \\\n",
       "0  http://images.amazon.com/images/P/0195153448.0...   \n",
       "1  http://images.amazon.com/images/P/0002005018.0...   \n",
       "2  http://images.amazon.com/images/P/0002005018.0...   \n",
       "3  http://images.amazon.com/images/P/0002005018.0...   \n",
       "4  http://images.amazon.com/images/P/0060973129.0...   \n",
       "\n",
       "                                         Image-URL-M  \\\n",
       "0  http://images.amazon.com/images/P/0195153448.0...   \n",
       "1  http://images.amazon.com/images/P/0002005018.0...   \n",
       "2  http://images.amazon.com/images/P/0002005018.0...   \n",
       "3  http://images.amazon.com/images/P/0002005018.0...   \n",
       "4  http://images.amazon.com/images/P/0060973129.0...   \n",
       "\n",
       "                                         Image-URL-L  \n",
       "0  http://images.amazon.com/images/P/0195153448.0...  \n",
       "1  http://images.amazon.com/images/P/0002005018.0...  \n",
       "2  http://images.amazon.com/images/P/0002005018.0...  \n",
       "3  http://images.amazon.com/images/P/0002005018.0...  \n",
       "4  http://images.amazon.com/images/P/0060973129.0...  "
      ]
     },
     "execution_count": 44,
     "metadata": {},
     "output_type": "execute_result"
    }
   ],
   "source": [
    "df.head()"
   ]
  },
  {
   "cell_type": "code",
   "execution_count": 45,
   "metadata": {
    "execution": {
     "iopub.execute_input": "2021-01-01T06:57:43.854415Z",
     "iopub.status.busy": "2021-01-01T06:57:43.853747Z",
     "iopub.status.idle": "2021-01-01T06:57:49.141330Z",
     "shell.execute_reply": "2021-01-01T06:57:49.140768Z"
    },
    "papermill": {
     "duration": 5.355142,
     "end_time": "2021-01-01T06:57:49.141451",
     "exception": false,
     "start_time": "2021-01-01T06:57:43.786309",
     "status": "completed"
    },
    "tags": []
   },
   "outputs": [],
   "source": [
    "book_matrix = df.pivot_table(index=\"user_id\", columns=\"Book-Title\", values=\"book_rating\")"
   ]
  },
  {
   "cell_type": "code",
   "execution_count": 46,
   "metadata": {
    "execution": {
     "iopub.execute_input": "2021-01-01T06:57:49.279896Z",
     "iopub.status.busy": "2021-01-01T06:57:49.279174Z",
     "iopub.status.idle": "2021-01-01T06:57:49.313947Z",
     "shell.execute_reply": "2021-01-01T06:57:49.314494Z"
    },
    "papermill": {
     "duration": 0.110098,
     "end_time": "2021-01-01T06:57:49.314646",
     "exception": false,
     "start_time": "2021-01-01T06:57:49.204548",
     "status": "completed"
    },
    "tags": []
   },
   "outputs": [
    {
     "data": {
      "text/html": [
       "<div>\n",
       "<style scoped>\n",
       "    .dataframe tbody tr th:only-of-type {\n",
       "        vertical-align: middle;\n",
       "    }\n",
       "\n",
       "    .dataframe tbody tr th {\n",
       "        vertical-align: top;\n",
       "    }\n",
       "\n",
       "    .dataframe thead th {\n",
       "        text-align: right;\n",
       "    }\n",
       "</style>\n",
       "<table border=\"1\" class=\"dataframe\">\n",
       "  <thead>\n",
       "    <tr style=\"text-align: right;\">\n",
       "      <th>Book-Title</th>\n",
       "      <th>A Light in the Storm: The Civil War Diary of Amelia Martin, Fenwick Island, Delaware, 1861 (Dear America)</th>\n",
       "      <th>Beyond IBM: Leadership Marketing and Finance for the 1990s</th>\n",
       "      <th>It Takes Two</th>\n",
       "      <th>Little Comic Shop of Horrors (Give Yourself Goosebumps, Book 17)</th>\n",
       "      <th>Murder of a Sleeping Beauty (Scumble River Mysteries (Paperback))</th>\n",
       "      <th>Q-Space (Star Trek The Next Generation, Book 47)</th>\n",
       "      <th>Tales of Terror and Suspense</th>\n",
       "      <th>$oft Money: The True Power in Our Nation's Capital</th>\n",
       "      <th>' Sie belieben wohl zu scherzen, Mr. Feynman.'. Abenteuer eines neugierigen Physikers.</th>\n",
       "      <th>' Small g'. Eine Sommeridylle.</th>\n",
       "      <th>...</th>\n",
       "      <th>seaQuest 2</th>\n",
       "      <th>stardust</th>\n",
       "      <th>the Heiress Bride  (sister brides)</th>\n",
       "      <th>wet sand, raven tracks</th>\n",
       "      <th>why I'm like this : True Stories</th>\n",
       "      <th>Â¡Corre, perro, corre!</th>\n",
       "      <th>Â¿QuiÃ©n se ha llevado mi queso?</th>\n",
       "      <th>Â¿QuÃ© me quieres, amor?</th>\n",
       "      <th>Ã?Â?ber die Freiheit.</th>\n",
       "      <th>Ã?Â?bermorgen.</th>\n",
       "    </tr>\n",
       "    <tr>\n",
       "      <th>user_id</th>\n",
       "      <th></th>\n",
       "      <th></th>\n",
       "      <th></th>\n",
       "      <th></th>\n",
       "      <th></th>\n",
       "      <th></th>\n",
       "      <th></th>\n",
       "      <th></th>\n",
       "      <th></th>\n",
       "      <th></th>\n",
       "      <th></th>\n",
       "      <th></th>\n",
       "      <th></th>\n",
       "      <th></th>\n",
       "      <th></th>\n",
       "      <th></th>\n",
       "      <th></th>\n",
       "      <th></th>\n",
       "      <th></th>\n",
       "      <th></th>\n",
       "      <th></th>\n",
       "    </tr>\n",
       "  </thead>\n",
       "  <tbody>\n",
       "    <tr>\n",
       "      <td>2</td>\n",
       "      <td>NaN</td>\n",
       "      <td>NaN</td>\n",
       "      <td>NaN</td>\n",
       "      <td>NaN</td>\n",
       "      <td>NaN</td>\n",
       "      <td>NaN</td>\n",
       "      <td>NaN</td>\n",
       "      <td>NaN</td>\n",
       "      <td>NaN</td>\n",
       "      <td>NaN</td>\n",
       "      <td>...</td>\n",
       "      <td>NaN</td>\n",
       "      <td>NaN</td>\n",
       "      <td>NaN</td>\n",
       "      <td>NaN</td>\n",
       "      <td>NaN</td>\n",
       "      <td>NaN</td>\n",
       "      <td>NaN</td>\n",
       "      <td>NaN</td>\n",
       "      <td>NaN</td>\n",
       "      <td>NaN</td>\n",
       "    </tr>\n",
       "    <tr>\n",
       "      <td>8</td>\n",
       "      <td>NaN</td>\n",
       "      <td>NaN</td>\n",
       "      <td>NaN</td>\n",
       "      <td>NaN</td>\n",
       "      <td>NaN</td>\n",
       "      <td>NaN</td>\n",
       "      <td>NaN</td>\n",
       "      <td>NaN</td>\n",
       "      <td>NaN</td>\n",
       "      <td>NaN</td>\n",
       "      <td>...</td>\n",
       "      <td>NaN</td>\n",
       "      <td>NaN</td>\n",
       "      <td>NaN</td>\n",
       "      <td>NaN</td>\n",
       "      <td>NaN</td>\n",
       "      <td>NaN</td>\n",
       "      <td>NaN</td>\n",
       "      <td>NaN</td>\n",
       "      <td>NaN</td>\n",
       "      <td>NaN</td>\n",
       "    </tr>\n",
       "    <tr>\n",
       "      <td>9</td>\n",
       "      <td>NaN</td>\n",
       "      <td>NaN</td>\n",
       "      <td>NaN</td>\n",
       "      <td>NaN</td>\n",
       "      <td>NaN</td>\n",
       "      <td>NaN</td>\n",
       "      <td>NaN</td>\n",
       "      <td>NaN</td>\n",
       "      <td>NaN</td>\n",
       "      <td>NaN</td>\n",
       "      <td>...</td>\n",
       "      <td>NaN</td>\n",
       "      <td>NaN</td>\n",
       "      <td>NaN</td>\n",
       "      <td>NaN</td>\n",
       "      <td>NaN</td>\n",
       "      <td>NaN</td>\n",
       "      <td>NaN</td>\n",
       "      <td>NaN</td>\n",
       "      <td>NaN</td>\n",
       "      <td>NaN</td>\n",
       "    </tr>\n",
       "    <tr>\n",
       "      <td>10</td>\n",
       "      <td>NaN</td>\n",
       "      <td>NaN</td>\n",
       "      <td>NaN</td>\n",
       "      <td>NaN</td>\n",
       "      <td>NaN</td>\n",
       "      <td>NaN</td>\n",
       "      <td>NaN</td>\n",
       "      <td>NaN</td>\n",
       "      <td>NaN</td>\n",
       "      <td>NaN</td>\n",
       "      <td>...</td>\n",
       "      <td>NaN</td>\n",
       "      <td>NaN</td>\n",
       "      <td>NaN</td>\n",
       "      <td>NaN</td>\n",
       "      <td>NaN</td>\n",
       "      <td>NaN</td>\n",
       "      <td>NaN</td>\n",
       "      <td>NaN</td>\n",
       "      <td>NaN</td>\n",
       "      <td>NaN</td>\n",
       "    </tr>\n",
       "    <tr>\n",
       "      <td>12</td>\n",
       "      <td>NaN</td>\n",
       "      <td>NaN</td>\n",
       "      <td>NaN</td>\n",
       "      <td>NaN</td>\n",
       "      <td>NaN</td>\n",
       "      <td>NaN</td>\n",
       "      <td>NaN</td>\n",
       "      <td>NaN</td>\n",
       "      <td>NaN</td>\n",
       "      <td>NaN</td>\n",
       "      <td>...</td>\n",
       "      <td>NaN</td>\n",
       "      <td>NaN</td>\n",
       "      <td>NaN</td>\n",
       "      <td>NaN</td>\n",
       "      <td>NaN</td>\n",
       "      <td>NaN</td>\n",
       "      <td>NaN</td>\n",
       "      <td>NaN</td>\n",
       "      <td>NaN</td>\n",
       "      <td>NaN</td>\n",
       "    </tr>\n",
       "    <tr>\n",
       "      <td>...</td>\n",
       "      <td>...</td>\n",
       "      <td>...</td>\n",
       "      <td>...</td>\n",
       "      <td>...</td>\n",
       "      <td>...</td>\n",
       "      <td>...</td>\n",
       "      <td>...</td>\n",
       "      <td>...</td>\n",
       "      <td>...</td>\n",
       "      <td>...</td>\n",
       "      <td>...</td>\n",
       "      <td>...</td>\n",
       "      <td>...</td>\n",
       "      <td>...</td>\n",
       "      <td>...</td>\n",
       "      <td>...</td>\n",
       "      <td>...</td>\n",
       "      <td>...</td>\n",
       "      <td>...</td>\n",
       "      <td>...</td>\n",
       "      <td>...</td>\n",
       "    </tr>\n",
       "    <tr>\n",
       "      <td>278846</td>\n",
       "      <td>NaN</td>\n",
       "      <td>NaN</td>\n",
       "      <td>NaN</td>\n",
       "      <td>NaN</td>\n",
       "      <td>NaN</td>\n",
       "      <td>NaN</td>\n",
       "      <td>NaN</td>\n",
       "      <td>NaN</td>\n",
       "      <td>NaN</td>\n",
       "      <td>NaN</td>\n",
       "      <td>...</td>\n",
       "      <td>NaN</td>\n",
       "      <td>NaN</td>\n",
       "      <td>NaN</td>\n",
       "      <td>NaN</td>\n",
       "      <td>NaN</td>\n",
       "      <td>NaN</td>\n",
       "      <td>NaN</td>\n",
       "      <td>NaN</td>\n",
       "      <td>NaN</td>\n",
       "      <td>NaN</td>\n",
       "    </tr>\n",
       "    <tr>\n",
       "      <td>278849</td>\n",
       "      <td>NaN</td>\n",
       "      <td>NaN</td>\n",
       "      <td>NaN</td>\n",
       "      <td>NaN</td>\n",
       "      <td>NaN</td>\n",
       "      <td>NaN</td>\n",
       "      <td>NaN</td>\n",
       "      <td>NaN</td>\n",
       "      <td>NaN</td>\n",
       "      <td>NaN</td>\n",
       "      <td>...</td>\n",
       "      <td>NaN</td>\n",
       "      <td>NaN</td>\n",
       "      <td>NaN</td>\n",
       "      <td>NaN</td>\n",
       "      <td>NaN</td>\n",
       "      <td>NaN</td>\n",
       "      <td>NaN</td>\n",
       "      <td>NaN</td>\n",
       "      <td>NaN</td>\n",
       "      <td>NaN</td>\n",
       "    </tr>\n",
       "    <tr>\n",
       "      <td>278851</td>\n",
       "      <td>NaN</td>\n",
       "      <td>NaN</td>\n",
       "      <td>NaN</td>\n",
       "      <td>NaN</td>\n",
       "      <td>NaN</td>\n",
       "      <td>NaN</td>\n",
       "      <td>NaN</td>\n",
       "      <td>NaN</td>\n",
       "      <td>NaN</td>\n",
       "      <td>NaN</td>\n",
       "      <td>...</td>\n",
       "      <td>NaN</td>\n",
       "      <td>NaN</td>\n",
       "      <td>NaN</td>\n",
       "      <td>NaN</td>\n",
       "      <td>NaN</td>\n",
       "      <td>NaN</td>\n",
       "      <td>NaN</td>\n",
       "      <td>NaN</td>\n",
       "      <td>NaN</td>\n",
       "      <td>NaN</td>\n",
       "    </tr>\n",
       "    <tr>\n",
       "      <td>278852</td>\n",
       "      <td>NaN</td>\n",
       "      <td>NaN</td>\n",
       "      <td>NaN</td>\n",
       "      <td>NaN</td>\n",
       "      <td>NaN</td>\n",
       "      <td>NaN</td>\n",
       "      <td>NaN</td>\n",
       "      <td>NaN</td>\n",
       "      <td>NaN</td>\n",
       "      <td>NaN</td>\n",
       "      <td>...</td>\n",
       "      <td>NaN</td>\n",
       "      <td>NaN</td>\n",
       "      <td>NaN</td>\n",
       "      <td>NaN</td>\n",
       "      <td>NaN</td>\n",
       "      <td>NaN</td>\n",
       "      <td>NaN</td>\n",
       "      <td>NaN</td>\n",
       "      <td>NaN</td>\n",
       "      <td>NaN</td>\n",
       "    </tr>\n",
       "    <tr>\n",
       "      <td>278854</td>\n",
       "      <td>NaN</td>\n",
       "      <td>NaN</td>\n",
       "      <td>NaN</td>\n",
       "      <td>NaN</td>\n",
       "      <td>NaN</td>\n",
       "      <td>NaN</td>\n",
       "      <td>NaN</td>\n",
       "      <td>NaN</td>\n",
       "      <td>NaN</td>\n",
       "      <td>NaN</td>\n",
       "      <td>...</td>\n",
       "      <td>NaN</td>\n",
       "      <td>NaN</td>\n",
       "      <td>NaN</td>\n",
       "      <td>NaN</td>\n",
       "      <td>NaN</td>\n",
       "      <td>NaN</td>\n",
       "      <td>NaN</td>\n",
       "      <td>NaN</td>\n",
       "      <td>NaN</td>\n",
       "      <td>NaN</td>\n",
       "    </tr>\n",
       "  </tbody>\n",
       "</table>\n",
       "<p>8008 rows × 41435 columns</p>\n",
       "</div>"
      ],
      "text/plain": [
       "Book-Title   A Light in the Storm: The Civil War Diary of Amelia Martin, Fenwick Island, Delaware, 1861 (Dear America)  \\\n",
       "user_id                                                                                                                  \n",
       "2                                                         NaN                                                            \n",
       "8                                                         NaN                                                            \n",
       "9                                                         NaN                                                            \n",
       "10                                                        NaN                                                            \n",
       "12                                                        NaN                                                            \n",
       "...                                                       ...                                                            \n",
       "278846                                                    NaN                                                            \n",
       "278849                                                    NaN                                                            \n",
       "278851                                                    NaN                                                            \n",
       "278852                                                    NaN                                                            \n",
       "278854                                                    NaN                                                            \n",
       "\n",
       "Book-Title   Beyond IBM: Leadership Marketing and Finance for the 1990s  \\\n",
       "user_id                                                                   \n",
       "2                                                         NaN             \n",
       "8                                                         NaN             \n",
       "9                                                         NaN             \n",
       "10                                                        NaN             \n",
       "12                                                        NaN             \n",
       "...                                                       ...             \n",
       "278846                                                    NaN             \n",
       "278849                                                    NaN             \n",
       "278851                                                    NaN             \n",
       "278852                                                    NaN             \n",
       "278854                                                    NaN             \n",
       "\n",
       "Book-Title   It Takes Two  \\\n",
       "user_id                     \n",
       "2                     NaN   \n",
       "8                     NaN   \n",
       "9                     NaN   \n",
       "10                    NaN   \n",
       "12                    NaN   \n",
       "...                   ...   \n",
       "278846                NaN   \n",
       "278849                NaN   \n",
       "278851                NaN   \n",
       "278852                NaN   \n",
       "278854                NaN   \n",
       "\n",
       "Book-Title   Little Comic Shop of Horrors (Give Yourself Goosebumps, Book 17)  \\\n",
       "user_id                                                                         \n",
       "2                                                         NaN                   \n",
       "8                                                         NaN                   \n",
       "9                                                         NaN                   \n",
       "10                                                        NaN                   \n",
       "12                                                        NaN                   \n",
       "...                                                       ...                   \n",
       "278846                                                    NaN                   \n",
       "278849                                                    NaN                   \n",
       "278851                                                    NaN                   \n",
       "278852                                                    NaN                   \n",
       "278854                                                    NaN                   \n",
       "\n",
       "Book-Title   Murder of a Sleeping Beauty (Scumble River Mysteries (Paperback))  \\\n",
       "user_id                                                                          \n",
       "2                                                         NaN                    \n",
       "8                                                         NaN                    \n",
       "9                                                         NaN                    \n",
       "10                                                        NaN                    \n",
       "12                                                        NaN                    \n",
       "...                                                       ...                    \n",
       "278846                                                    NaN                    \n",
       "278849                                                    NaN                    \n",
       "278851                                                    NaN                    \n",
       "278852                                                    NaN                    \n",
       "278854                                                    NaN                    \n",
       "\n",
       "Book-Title   Q-Space (Star Trek The Next Generation, Book 47)  \\\n",
       "user_id                                                         \n",
       "2                                                         NaN   \n",
       "8                                                         NaN   \n",
       "9                                                         NaN   \n",
       "10                                                        NaN   \n",
       "12                                                        NaN   \n",
       "...                                                       ...   \n",
       "278846                                                    NaN   \n",
       "278849                                                    NaN   \n",
       "278851                                                    NaN   \n",
       "278852                                                    NaN   \n",
       "278854                                                    NaN   \n",
       "\n",
       "Book-Title   Tales of Terror and Suspense  \\\n",
       "user_id                                     \n",
       "2                                     NaN   \n",
       "8                                     NaN   \n",
       "9                                     NaN   \n",
       "10                                    NaN   \n",
       "12                                    NaN   \n",
       "...                                   ...   \n",
       "278846                                NaN   \n",
       "278849                                NaN   \n",
       "278851                                NaN   \n",
       "278852                                NaN   \n",
       "278854                                NaN   \n",
       "\n",
       "Book-Title  $oft Money: The True Power in Our Nation's Capital  \\\n",
       "user_id                                                          \n",
       "2                                                         NaN    \n",
       "8                                                         NaN    \n",
       "9                                                         NaN    \n",
       "10                                                        NaN    \n",
       "12                                                        NaN    \n",
       "...                                                       ...    \n",
       "278846                                                    NaN    \n",
       "278849                                                    NaN    \n",
       "278851                                                    NaN    \n",
       "278852                                                    NaN    \n",
       "278854                                                    NaN    \n",
       "\n",
       "Book-Title  ' Sie belieben wohl zu scherzen, Mr. Feynman.'. Abenteuer eines neugierigen Physikers.  \\\n",
       "user_id                                                                                              \n",
       "2                                                         NaN                                        \n",
       "8                                                         NaN                                        \n",
       "9                                                         NaN                                        \n",
       "10                                                        NaN                                        \n",
       "12                                                        NaN                                        \n",
       "...                                                       ...                                        \n",
       "278846                                                    NaN                                        \n",
       "278849                                                    NaN                                        \n",
       "278851                                                    NaN                                        \n",
       "278852                                                    NaN                                        \n",
       "278854                                                    NaN                                        \n",
       "\n",
       "Book-Title  ' Small g'. Eine Sommeridylle.  ...  seaQuest 2  stardust  \\\n",
       "user_id                                     ...                         \n",
       "2                                      NaN  ...         NaN       NaN   \n",
       "8                                      NaN  ...         NaN       NaN   \n",
       "9                                      NaN  ...         NaN       NaN   \n",
       "10                                     NaN  ...         NaN       NaN   \n",
       "12                                     NaN  ...         NaN       NaN   \n",
       "...                                    ...  ...         ...       ...   \n",
       "278846                                 NaN  ...         NaN       NaN   \n",
       "278849                                 NaN  ...         NaN       NaN   \n",
       "278851                                 NaN  ...         NaN       NaN   \n",
       "278852                                 NaN  ...         NaN       NaN   \n",
       "278854                                 NaN  ...         NaN       NaN   \n",
       "\n",
       "Book-Title  the Heiress Bride  (sister brides)  wet sand, raven tracks  \\\n",
       "user_id                                                                  \n",
       "2                                          NaN                     NaN   \n",
       "8                                          NaN                     NaN   \n",
       "9                                          NaN                     NaN   \n",
       "10                                         NaN                     NaN   \n",
       "12                                         NaN                     NaN   \n",
       "...                                        ...                     ...   \n",
       "278846                                     NaN                     NaN   \n",
       "278849                                     NaN                     NaN   \n",
       "278851                                     NaN                     NaN   \n",
       "278852                                     NaN                     NaN   \n",
       "278854                                     NaN                     NaN   \n",
       "\n",
       "Book-Title  why I'm like this : True Stories  Â¡Corre, perro, corre!  \\\n",
       "user_id                                                                \n",
       "2                                        NaN                     NaN   \n",
       "8                                        NaN                     NaN   \n",
       "9                                        NaN                     NaN   \n",
       "10                                       NaN                     NaN   \n",
       "12                                       NaN                     NaN   \n",
       "...                                      ...                     ...   \n",
       "278846                                   NaN                     NaN   \n",
       "278849                                   NaN                     NaN   \n",
       "278851                                   NaN                     NaN   \n",
       "278852                                   NaN                     NaN   \n",
       "278854                                   NaN                     NaN   \n",
       "\n",
       "Book-Title  Â¿QuiÃ©n se ha llevado mi queso?  Â¿QuÃ© me quieres, amor?  \\\n",
       "user_id                                                                  \n",
       "2                                        NaN                       NaN   \n",
       "8                                        NaN                       NaN   \n",
       "9                                        NaN                       NaN   \n",
       "10                                       NaN                       NaN   \n",
       "12                                       NaN                       NaN   \n",
       "...                                      ...                       ...   \n",
       "278846                                   NaN                       NaN   \n",
       "278849                                   NaN                       NaN   \n",
       "278851                                   NaN                       NaN   \n",
       "278852                                   NaN                       NaN   \n",
       "278854                                   NaN                       NaN   \n",
       "\n",
       "Book-Title  Ã?Â?ber die Freiheit.  Ã?Â?bermorgen.  \n",
       "user_id                                            \n",
       "2                             NaN             NaN  \n",
       "8                             NaN             NaN  \n",
       "9                             NaN             NaN  \n",
       "10                            NaN             NaN  \n",
       "12                            NaN             NaN  \n",
       "...                           ...             ...  \n",
       "278846                        NaN             NaN  \n",
       "278849                        NaN             NaN  \n",
       "278851                        NaN             NaN  \n",
       "278852                        NaN             NaN  \n",
       "278854                        NaN             NaN  \n",
       "\n",
       "[8008 rows x 41435 columns]"
      ]
     },
     "execution_count": 46,
     "metadata": {},
     "output_type": "execute_result"
    }
   ],
   "source": [
    "book_matrix"
   ]
  },
  {
   "cell_type": "code",
   "execution_count": 47,
   "metadata": {
    "execution": {
     "iopub.execute_input": "2021-01-01T06:57:49.449846Z",
     "iopub.status.busy": "2021-01-01T06:57:49.449164Z",
     "iopub.status.idle": "2021-01-01T06:57:49.453326Z",
     "shell.execute_reply": "2021-01-01T06:57:49.453791Z"
    },
    "papermill": {
     "duration": 0.07421,
     "end_time": "2021-01-01T06:57:49.453950",
     "exception": false,
     "start_time": "2021-01-01T06:57:49.379740",
     "status": "completed"
    },
    "tags": []
   },
   "outputs": [
    {
     "data": {
      "text/plain": [
       "(8008, 41435)"
      ]
     },
     "execution_count": 47,
     "metadata": {},
     "output_type": "execute_result"
    }
   ],
   "source": [
    "book_matrix.shape"
   ]
  },
  {
   "cell_type": "code",
   "execution_count": 48,
   "metadata": {
    "execution": {
     "iopub.execute_input": "2021-01-01T06:57:49.598499Z",
     "iopub.status.busy": "2021-01-01T06:57:49.597558Z",
     "iopub.status.idle": "2021-01-01T06:57:49.602347Z",
     "shell.execute_reply": "2021-01-01T06:57:49.602834Z"
    },
    "papermill": {
     "duration": 0.084,
     "end_time": "2021-01-01T06:57:49.603000",
     "exception": false,
     "start_time": "2021-01-01T06:57:49.519000",
     "status": "completed"
    },
    "tags": []
   },
   "outputs": [
    {
     "data": {
      "text/html": [
       "<div>\n",
       "<style scoped>\n",
       "    .dataframe tbody tr th:only-of-type {\n",
       "        vertical-align: middle;\n",
       "    }\n",
       "\n",
       "    .dataframe tbody tr th {\n",
       "        vertical-align: top;\n",
       "    }\n",
       "\n",
       "    .dataframe thead th {\n",
       "        text-align: right;\n",
       "    }\n",
       "</style>\n",
       "<table border=\"1\" class=\"dataframe\">\n",
       "  <thead>\n",
       "    <tr style=\"text-align: right;\">\n",
       "      <th></th>\n",
       "      <th>book_rating</th>\n",
       "      <th>num_of_ratings</th>\n",
       "    </tr>\n",
       "    <tr>\n",
       "      <th>Book-Title</th>\n",
       "      <th></th>\n",
       "      <th></th>\n",
       "    </tr>\n",
       "  </thead>\n",
       "  <tbody>\n",
       "    <tr>\n",
       "      <td>A Light in the Storm: The Civil War Diary of Amelia Martin, Fenwick Island, Delaware, 1861 (Dear America)</td>\n",
       "      <td>0.0</td>\n",
       "      <td>1</td>\n",
       "    </tr>\n",
       "    <tr>\n",
       "      <td>Beyond IBM: Leadership Marketing and Finance for the 1990s</td>\n",
       "      <td>0.0</td>\n",
       "      <td>1</td>\n",
       "    </tr>\n",
       "    <tr>\n",
       "      <td>It Takes Two</td>\n",
       "      <td>0.0</td>\n",
       "      <td>1</td>\n",
       "    </tr>\n",
       "    <tr>\n",
       "      <td>Little Comic Shop of Horrors (Give Yourself Goosebumps, Book 17)</td>\n",
       "      <td>0.0</td>\n",
       "      <td>1</td>\n",
       "    </tr>\n",
       "    <tr>\n",
       "      <td>Murder of a Sleeping Beauty (Scumble River Mysteries (Paperback))</td>\n",
       "      <td>0.0</td>\n",
       "      <td>1</td>\n",
       "    </tr>\n",
       "    <tr>\n",
       "      <td>...</td>\n",
       "      <td>...</td>\n",
       "      <td>...</td>\n",
       "    </tr>\n",
       "    <tr>\n",
       "      <td>Â¡Corre, perro, corre!</td>\n",
       "      <td>10.0</td>\n",
       "      <td>1</td>\n",
       "    </tr>\n",
       "    <tr>\n",
       "      <td>Â¿QuiÃ©n se ha llevado mi queso?</td>\n",
       "      <td>7.0</td>\n",
       "      <td>1</td>\n",
       "    </tr>\n",
       "    <tr>\n",
       "      <td>Â¿QuÃ© me quieres, amor?</td>\n",
       "      <td>3.0</td>\n",
       "      <td>2</td>\n",
       "    </tr>\n",
       "    <tr>\n",
       "      <td>Ã?Â?ber die Freiheit.</td>\n",
       "      <td>7.0</td>\n",
       "      <td>1</td>\n",
       "    </tr>\n",
       "    <tr>\n",
       "      <td>Ã?Â?bermorgen.</td>\n",
       "      <td>0.0</td>\n",
       "      <td>1</td>\n",
       "    </tr>\n",
       "  </tbody>\n",
       "</table>\n",
       "<p>41435 rows × 2 columns</p>\n",
       "</div>"
      ],
      "text/plain": [
       "                                                    book_rating  \\\n",
       "Book-Title                                                        \n",
       " A Light in the Storm: The Civil War Diary of A...          0.0   \n",
       " Beyond IBM: Leadership Marketing and Finance f...          0.0   \n",
       " It Takes Two                                               0.0   \n",
       " Little Comic Shop of Horrors (Give Yourself Go...          0.0   \n",
       " Murder of a Sleeping Beauty (Scumble River Mys...          0.0   \n",
       "...                                                         ...   \n",
       "Â¡Corre, perro, corre!                                     10.0   \n",
       "Â¿QuiÃ©n se ha llevado mi queso?                            7.0   \n",
       "Â¿QuÃ© me quieres, amor?                                    3.0   \n",
       "Ã?Â?ber die Freiheit.                                       7.0   \n",
       "Ã?Â?bermorgen.                                              0.0   \n",
       "\n",
       "                                                    num_of_ratings  \n",
       "Book-Title                                                          \n",
       " A Light in the Storm: The Civil War Diary of A...               1  \n",
       " Beyond IBM: Leadership Marketing and Finance f...               1  \n",
       " It Takes Two                                                    1  \n",
       " Little Comic Shop of Horrors (Give Yourself Go...               1  \n",
       " Murder of a Sleeping Beauty (Scumble River Mys...               1  \n",
       "...                                                            ...  \n",
       "Â¡Corre, perro, corre!                                           1  \n",
       "Â¿QuiÃ©n se ha llevado mi queso?                                 1  \n",
       "Â¿QuÃ© me quieres, amor?                                         2  \n",
       "Ã?Â?ber die Freiheit.                                            1  \n",
       "Ã?Â?bermorgen.                                                   1  \n",
       "\n",
       "[41435 rows x 2 columns]"
      ]
     },
     "execution_count": 48,
     "metadata": {},
     "output_type": "execute_result"
    }
   ],
   "source": [
    "ratings"
   ]
  },
  {
   "cell_type": "code",
   "execution_count": 49,
   "metadata": {
    "execution": {
     "iopub.execute_input": "2021-01-01T06:57:49.748501Z",
     "iopub.status.busy": "2021-01-01T06:57:49.747757Z",
     "iopub.status.idle": "2021-01-01T06:57:49.766172Z",
     "shell.execute_reply": "2021-01-01T06:57:49.765509Z"
    },
    "papermill": {
     "duration": 0.089838,
     "end_time": "2021-01-01T06:57:49.766392",
     "exception": false,
     "start_time": "2021-01-01T06:57:49.676554",
     "status": "completed"
    },
    "tags": []
   },
   "outputs": [
    {
     "data": {
      "text/html": [
       "<div>\n",
       "<style scoped>\n",
       "    .dataframe tbody tr th:only-of-type {\n",
       "        vertical-align: middle;\n",
       "    }\n",
       "\n",
       "    .dataframe tbody tr th {\n",
       "        vertical-align: top;\n",
       "    }\n",
       "\n",
       "    .dataframe thead th {\n",
       "        text-align: right;\n",
       "    }\n",
       "</style>\n",
       "<table border=\"1\" class=\"dataframe\">\n",
       "  <thead>\n",
       "    <tr style=\"text-align: right;\">\n",
       "      <th></th>\n",
       "      <th>book_rating</th>\n",
       "      <th>num_of_ratings</th>\n",
       "    </tr>\n",
       "    <tr>\n",
       "      <th>Book-Title</th>\n",
       "      <th></th>\n",
       "      <th></th>\n",
       "    </tr>\n",
       "  </thead>\n",
       "  <tbody>\n",
       "    <tr>\n",
       "      <td>Wild Animus</td>\n",
       "      <td>0.954315</td>\n",
       "      <td>197</td>\n",
       "    </tr>\n",
       "    <tr>\n",
       "      <td>The Lovely Bones: A Novel</td>\n",
       "      <td>4.504673</td>\n",
       "      <td>107</td>\n",
       "    </tr>\n",
       "    <tr>\n",
       "      <td>The Secret Life of Bees</td>\n",
       "      <td>5.294872</td>\n",
       "      <td>78</td>\n",
       "    </tr>\n",
       "    <tr>\n",
       "      <td>The Da Vinci Code</td>\n",
       "      <td>5.078947</td>\n",
       "      <td>76</td>\n",
       "    </tr>\n",
       "    <tr>\n",
       "      <td>Life of Pi</td>\n",
       "      <td>3.985915</td>\n",
       "      <td>71</td>\n",
       "    </tr>\n",
       "    <tr>\n",
       "      <td>...</td>\n",
       "      <td>...</td>\n",
       "      <td>...</td>\n",
       "    </tr>\n",
       "    <tr>\n",
       "      <td>Jennie</td>\n",
       "      <td>9.000000</td>\n",
       "      <td>1</td>\n",
       "    </tr>\n",
       "    <tr>\n",
       "      <td>Jenetta</td>\n",
       "      <td>0.000000</td>\n",
       "      <td>1</td>\n",
       "    </tr>\n",
       "    <tr>\n",
       "      <td>Jemima J.</td>\n",
       "      <td>0.000000</td>\n",
       "      <td>1</td>\n",
       "    </tr>\n",
       "    <tr>\n",
       "      <td>Jelly Belly</td>\n",
       "      <td>0.000000</td>\n",
       "      <td>1</td>\n",
       "    </tr>\n",
       "    <tr>\n",
       "      <td>Ã?Â?bermorgen.</td>\n",
       "      <td>0.000000</td>\n",
       "      <td>1</td>\n",
       "    </tr>\n",
       "  </tbody>\n",
       "</table>\n",
       "<p>41435 rows × 2 columns</p>\n",
       "</div>"
      ],
      "text/plain": [
       "                           book_rating  num_of_ratings\n",
       "Book-Title                                            \n",
       "Wild Animus                   0.954315             197\n",
       "The Lovely Bones: A Novel     4.504673             107\n",
       "The Secret Life of Bees       5.294872              78\n",
       "The Da Vinci Code             5.078947              76\n",
       "Life of Pi                    3.985915              71\n",
       "...                                ...             ...\n",
       "Jennie                        9.000000               1\n",
       "Jenetta                       0.000000               1\n",
       "Jemima J.                     0.000000               1\n",
       "Jelly Belly                   0.000000               1\n",
       "Ã?Â?bermorgen.                0.000000               1\n",
       "\n",
       "[41435 rows x 2 columns]"
      ]
     },
     "execution_count": 49,
     "metadata": {},
     "output_type": "execute_result"
    }
   ],
   "source": [
    "ratings.sort_values(\"num_of_ratings\", ascending=False)"
   ]
  },
  {
   "cell_type": "code",
   "execution_count": 50,
   "metadata": {
    "execution": {
     "iopub.execute_input": "2021-01-01T06:57:49.919580Z",
     "iopub.status.busy": "2021-01-01T06:57:49.918721Z",
     "iopub.status.idle": "2021-01-01T06:57:49.922832Z",
     "shell.execute_reply": "2021-01-01T06:57:49.921910Z"
    },
    "papermill": {
     "duration": 0.081581,
     "end_time": "2021-01-01T06:57:49.922968",
     "exception": false,
     "start_time": "2021-01-01T06:57:49.841387",
     "status": "completed"
    },
    "tags": []
   },
   "outputs": [],
   "source": [
    "davinci_code_ratings = book_matrix[\"The Da Vinci Code\"]"
   ]
  },
  {
   "cell_type": "code",
   "execution_count": 51,
   "metadata": {
    "execution": {
     "iopub.execute_input": "2021-01-01T06:57:50.064483Z",
     "iopub.status.busy": "2021-01-01T06:57:50.063778Z",
     "iopub.status.idle": "2021-01-01T06:57:50.068394Z",
     "shell.execute_reply": "2021-01-01T06:57:50.067719Z"
    },
    "papermill": {
     "duration": 0.077858,
     "end_time": "2021-01-01T06:57:50.068504",
     "exception": false,
     "start_time": "2021-01-01T06:57:49.990646",
     "status": "completed"
    },
    "tags": []
   },
   "outputs": [
    {
     "data": {
      "text/plain": [
       "user_id\n",
       "2    NaN\n",
       "8    NaN\n",
       "9    NaN\n",
       "10   NaN\n",
       "12   NaN\n",
       "Name: The Da Vinci Code, dtype: float64"
      ]
     },
     "execution_count": 51,
     "metadata": {},
     "output_type": "execute_result"
    }
   ],
   "source": [
    "davinci_code_ratings.head()"
   ]
  },
  {
   "cell_type": "code",
   "execution_count": 52,
   "metadata": {
    "execution": {
     "iopub.execute_input": "2021-01-01T06:57:50.209818Z",
     "iopub.status.busy": "2021-01-01T06:57:50.208892Z",
     "iopub.status.idle": "2021-01-01T06:58:03.328729Z",
     "shell.execute_reply": "2021-01-01T06:58:03.328112Z"
    },
    "papermill": {
     "duration": 13.192343,
     "end_time": "2021-01-01T06:58:03.328873",
     "exception": false,
     "start_time": "2021-01-01T06:57:50.136530",
     "status": "completed"
    },
    "tags": []
   },
   "outputs": [],
   "source": [
    "similar_to_davinci = book_matrix.corrwith(davinci_code_ratings)"
   ]
  },
  {
   "cell_type": "code",
   "execution_count": 53,
   "metadata": {
    "execution": {
     "iopub.execute_input": "2021-01-01T06:58:03.477824Z",
     "iopub.status.busy": "2021-01-01T06:58:03.477083Z",
     "iopub.status.idle": "2021-01-01T06:58:03.482596Z",
     "shell.execute_reply": "2021-01-01T06:58:03.483094Z"
    },
    "papermill": {
     "duration": 0.08501,
     "end_time": "2021-01-01T06:58:03.483246",
     "exception": false,
     "start_time": "2021-01-01T06:58:03.398236",
     "status": "completed"
    },
    "tags": []
   },
   "outputs": [
    {
     "data": {
      "text/plain": [
       "Book-Title\n",
       " A Light in the Storm: The Civil War Diary of Amelia Martin, Fenwick Island, Delaware, 1861 (Dear America)   NaN\n",
       " Beyond IBM: Leadership Marketing and Finance for the 1990s                                                  NaN\n",
       " It Takes Two                                                                                                NaN\n",
       " Little Comic Shop of Horrors (Give Yourself Goosebumps, Book 17)                                            NaN\n",
       " Murder of a Sleeping Beauty (Scumble River Mysteries (Paperback))                                           NaN\n",
       "                                                                                                              ..\n",
       "Â¡Corre, perro, corre!                                                                                       NaN\n",
       "Â¿QuiÃ©n se ha llevado mi queso?                                                                             NaN\n",
       "Â¿QuÃ© me quieres, amor?                                                                                     NaN\n",
       "Ã?Â?ber die Freiheit.                                                                                        NaN\n",
       "Ã?Â?bermorgen.                                                                                               NaN\n",
       "Length: 41435, dtype: float64"
      ]
     },
     "execution_count": 53,
     "metadata": {},
     "output_type": "execute_result"
    }
   ],
   "source": [
    "similar_to_davinci"
   ]
  },
  {
   "cell_type": "code",
   "execution_count": 54,
   "metadata": {
    "execution": {
     "iopub.execute_input": "2021-01-01T06:58:03.625669Z",
     "iopub.status.busy": "2021-01-01T06:58:03.624905Z",
     "iopub.status.idle": "2021-01-01T06:58:03.630455Z",
     "shell.execute_reply": "2021-01-01T06:58:03.631125Z"
    },
    "papermill": {
     "duration": 0.079421,
     "end_time": "2021-01-01T06:58:03.631294",
     "exception": false,
     "start_time": "2021-01-01T06:58:03.551873",
     "status": "completed"
    },
    "tags": []
   },
   "outputs": [],
   "source": [
    "corr_of_davinci = pd.DataFrame(similar_to_davinci, columns=[\"Correlation\"])"
   ]
  },
  {
   "cell_type": "code",
   "execution_count": 55,
   "metadata": {
    "execution": {
     "iopub.execute_input": "2021-01-01T06:58:03.782944Z",
     "iopub.status.busy": "2021-01-01T06:58:03.782147Z",
     "iopub.status.idle": "2021-01-01T06:58:03.787461Z",
     "shell.execute_reply": "2021-01-01T06:58:03.787993Z"
    },
    "papermill": {
     "duration": 0.087057,
     "end_time": "2021-01-01T06:58:03.788153",
     "exception": false,
     "start_time": "2021-01-01T06:58:03.701096",
     "status": "completed"
    },
    "tags": []
   },
   "outputs": [
    {
     "data": {
      "text/html": [
       "<div>\n",
       "<style scoped>\n",
       "    .dataframe tbody tr th:only-of-type {\n",
       "        vertical-align: middle;\n",
       "    }\n",
       "\n",
       "    .dataframe tbody tr th {\n",
       "        vertical-align: top;\n",
       "    }\n",
       "\n",
       "    .dataframe thead th {\n",
       "        text-align: right;\n",
       "    }\n",
       "</style>\n",
       "<table border=\"1\" class=\"dataframe\">\n",
       "  <thead>\n",
       "    <tr style=\"text-align: right;\">\n",
       "      <th></th>\n",
       "      <th>Correlation</th>\n",
       "    </tr>\n",
       "    <tr>\n",
       "      <th>Book-Title</th>\n",
       "      <th></th>\n",
       "    </tr>\n",
       "  </thead>\n",
       "  <tbody>\n",
       "    <tr>\n",
       "      <td>A Light in the Storm: The Civil War Diary of Amelia Martin, Fenwick Island, Delaware, 1861 (Dear America)</td>\n",
       "      <td>NaN</td>\n",
       "    </tr>\n",
       "    <tr>\n",
       "      <td>Beyond IBM: Leadership Marketing and Finance for the 1990s</td>\n",
       "      <td>NaN</td>\n",
       "    </tr>\n",
       "    <tr>\n",
       "      <td>It Takes Two</td>\n",
       "      <td>NaN</td>\n",
       "    </tr>\n",
       "    <tr>\n",
       "      <td>Little Comic Shop of Horrors (Give Yourself Goosebumps, Book 17)</td>\n",
       "      <td>NaN</td>\n",
       "    </tr>\n",
       "    <tr>\n",
       "      <td>Murder of a Sleeping Beauty (Scumble River Mysteries (Paperback))</td>\n",
       "      <td>NaN</td>\n",
       "    </tr>\n",
       "  </tbody>\n",
       "</table>\n",
       "</div>"
      ],
      "text/plain": [
       "                                                    Correlation\n",
       "Book-Title                                                     \n",
       " A Light in the Storm: The Civil War Diary of A...          NaN\n",
       " Beyond IBM: Leadership Marketing and Finance f...          NaN\n",
       " It Takes Two                                               NaN\n",
       " Little Comic Shop of Horrors (Give Yourself Go...          NaN\n",
       " Murder of a Sleeping Beauty (Scumble River Mys...          NaN"
      ]
     },
     "execution_count": 55,
     "metadata": {},
     "output_type": "execute_result"
    }
   ],
   "source": [
    "corr_of_davinci.head()"
   ]
  },
  {
   "cell_type": "code",
   "execution_count": 56,
   "metadata": {
    "execution": {
     "iopub.execute_input": "2021-01-01T06:58:03.940627Z",
     "iopub.status.busy": "2021-01-01T06:58:03.939823Z",
     "iopub.status.idle": "2021-01-01T06:58:03.948609Z",
     "shell.execute_reply": "2021-01-01T06:58:03.948051Z"
    },
    "papermill": {
     "duration": 0.086424,
     "end_time": "2021-01-01T06:58:03.948731",
     "exception": false,
     "start_time": "2021-01-01T06:58:03.862307",
     "status": "completed"
    },
    "tags": []
   },
   "outputs": [
    {
     "data": {
      "text/plain": [
       "Correlation    39579\n",
       "dtype: int64"
      ]
     },
     "execution_count": 56,
     "metadata": {},
     "output_type": "execute_result"
    }
   ],
   "source": [
    "corr_of_davinci.isnull().sum()"
   ]
  },
  {
   "cell_type": "code",
   "execution_count": 57,
   "metadata": {
    "execution": {
     "iopub.execute_input": "2021-01-01T06:58:04.103529Z",
     "iopub.status.busy": "2021-01-01T06:58:04.102808Z",
     "iopub.status.idle": "2021-01-01T06:58:04.107841Z",
     "shell.execute_reply": "2021-01-01T06:58:04.108417Z"
    },
    "papermill": {
     "duration": 0.085991,
     "end_time": "2021-01-01T06:58:04.108593",
     "exception": false,
     "start_time": "2021-01-01T06:58:04.022602",
     "status": "completed"
    },
    "tags": []
   },
   "outputs": [],
   "source": [
    "corr_of_davinci.dropna(inplace=True)"
   ]
  },
  {
   "cell_type": "code",
   "execution_count": 58,
   "metadata": {
    "execution": {
     "iopub.execute_input": "2021-01-01T06:58:04.256869Z",
     "iopub.status.busy": "2021-01-01T06:58:04.256166Z",
     "iopub.status.idle": "2021-01-01T06:58:04.265316Z",
     "shell.execute_reply": "2021-01-01T06:58:04.264613Z"
    },
    "papermill": {
     "duration": 0.087066,
     "end_time": "2021-01-01T06:58:04.265438",
     "exception": false,
     "start_time": "2021-01-01T06:58:04.178372",
     "status": "completed"
    },
    "tags": []
   },
   "outputs": [
    {
     "data": {
      "text/plain": [
       "Correlation    0\n",
       "dtype: int64"
      ]
     },
     "execution_count": 58,
     "metadata": {},
     "output_type": "execute_result"
    }
   ],
   "source": [
    "corr_of_davinci.isnull().sum()"
   ]
  },
  {
   "cell_type": "code",
   "execution_count": 59,
   "metadata": {
    "execution": {
     "iopub.execute_input": "2021-01-01T06:58:04.418842Z",
     "iopub.status.busy": "2021-01-01T06:58:04.417712Z",
     "iopub.status.idle": "2021-01-01T06:58:04.422444Z",
     "shell.execute_reply": "2021-01-01T06:58:04.422993Z"
    },
    "papermill": {
     "duration": 0.085851,
     "end_time": "2021-01-01T06:58:04.423138",
     "exception": false,
     "start_time": "2021-01-01T06:58:04.337287",
     "status": "completed"
    },
    "tags": []
   },
   "outputs": [
    {
     "data": {
      "text/html": [
       "<div>\n",
       "<style scoped>\n",
       "    .dataframe tbody tr th:only-of-type {\n",
       "        vertical-align: middle;\n",
       "    }\n",
       "\n",
       "    .dataframe tbody tr th {\n",
       "        vertical-align: top;\n",
       "    }\n",
       "\n",
       "    .dataframe thead th {\n",
       "        text-align: right;\n",
       "    }\n",
       "</style>\n",
       "<table border=\"1\" class=\"dataframe\">\n",
       "  <thead>\n",
       "    <tr style=\"text-align: right;\">\n",
       "      <th></th>\n",
       "      <th>Correlation</th>\n",
       "    </tr>\n",
       "    <tr>\n",
       "      <th>Book-Title</th>\n",
       "      <th></th>\n",
       "    </tr>\n",
       "  </thead>\n",
       "  <tbody>\n",
       "    <tr>\n",
       "      <td>...AND THE HORSE HE RODE IN ON : THE PEOPLE V. KENNETH STARR</td>\n",
       "      <td>1.000000</td>\n",
       "    </tr>\n",
       "    <tr>\n",
       "      <td>1,401 More Things That P*Ss Me Off</td>\n",
       "      <td>1.000000</td>\n",
       "    </tr>\n",
       "    <tr>\n",
       "      <td>1984</td>\n",
       "      <td>1.000000</td>\n",
       "    </tr>\n",
       "    <tr>\n",
       "      <td>1st to Die: A Novel</td>\n",
       "      <td>0.500342</td>\n",
       "    </tr>\n",
       "    <tr>\n",
       "      <td>24 Hours</td>\n",
       "      <td>-1.000000</td>\n",
       "    </tr>\n",
       "  </tbody>\n",
       "</table>\n",
       "</div>"
      ],
      "text/plain": [
       "                                                    Correlation\n",
       "Book-Title                                                     \n",
       "...AND THE HORSE HE RODE IN ON : THE PEOPLE V. ...     1.000000\n",
       "1,401 More Things That P*Ss Me Off                     1.000000\n",
       "1984                                                   1.000000\n",
       "1st to Die: A Novel                                    0.500342\n",
       "24 Hours                                              -1.000000"
      ]
     },
     "execution_count": 59,
     "metadata": {},
     "output_type": "execute_result"
    }
   ],
   "source": [
    "corr_of_davinci.head()"
   ]
  },
  {
   "cell_type": "code",
   "execution_count": 60,
   "metadata": {
    "execution": {
     "iopub.execute_input": "2021-01-01T06:58:04.570979Z",
     "iopub.status.busy": "2021-01-01T06:58:04.569901Z",
     "iopub.status.idle": "2021-01-01T06:58:04.581399Z",
     "shell.execute_reply": "2021-01-01T06:58:04.581885Z"
    },
    "papermill": {
     "duration": 0.087385,
     "end_time": "2021-01-01T06:58:04.582063",
     "exception": false,
     "start_time": "2021-01-01T06:58:04.494678",
     "status": "completed"
    },
    "tags": []
   },
   "outputs": [
    {
     "data": {
      "text/html": [
       "<div>\n",
       "<style scoped>\n",
       "    .dataframe tbody tr th:only-of-type {\n",
       "        vertical-align: middle;\n",
       "    }\n",
       "\n",
       "    .dataframe tbody tr th {\n",
       "        vertical-align: top;\n",
       "    }\n",
       "\n",
       "    .dataframe thead th {\n",
       "        text-align: right;\n",
       "    }\n",
       "</style>\n",
       "<table border=\"1\" class=\"dataframe\">\n",
       "  <thead>\n",
       "    <tr style=\"text-align: right;\">\n",
       "      <th></th>\n",
       "      <th>Correlation</th>\n",
       "    </tr>\n",
       "    <tr>\n",
       "      <th>Book-Title</th>\n",
       "      <th></th>\n",
       "    </tr>\n",
       "  </thead>\n",
       "  <tbody>\n",
       "    <tr>\n",
       "      <td>Sons of Fortune (Ay Adult - Archer)</td>\n",
       "      <td>1.0</td>\n",
       "    </tr>\n",
       "    <tr>\n",
       "      <td>City of Bones</td>\n",
       "      <td>1.0</td>\n",
       "    </tr>\n",
       "    <tr>\n",
       "      <td>One Thousand Paper Cranes: The Story of Sadako and the Children's Peace Statue</td>\n",
       "      <td>1.0</td>\n",
       "    </tr>\n",
       "    <tr>\n",
       "      <td>Out of Sight</td>\n",
       "      <td>1.0</td>\n",
       "    </tr>\n",
       "    <tr>\n",
       "      <td>Outsider</td>\n",
       "      <td>1.0</td>\n",
       "    </tr>\n",
       "  </tbody>\n",
       "</table>\n",
       "</div>"
      ],
      "text/plain": [
       "                                                    Correlation\n",
       "Book-Title                                                     \n",
       "Sons of Fortune (Ay Adult - Archer)                         1.0\n",
       "City of Bones                                               1.0\n",
       "One Thousand Paper Cranes: The Story of Sadako ...          1.0\n",
       "Out of Sight                                                1.0\n",
       "Outsider                                                    1.0"
      ]
     },
     "execution_count": 60,
     "metadata": {},
     "output_type": "execute_result"
    }
   ],
   "source": [
    "corr_of_davinci.sort_values(\"Correlation\", ascending=False).head()"
   ]
  },
  {
   "cell_type": "code",
   "execution_count": 61,
   "metadata": {
    "execution": {
     "iopub.execute_input": "2021-01-01T06:58:04.731272Z",
     "iopub.status.busy": "2021-01-01T06:58:04.730566Z",
     "iopub.status.idle": "2021-01-01T06:58:04.758976Z",
     "shell.execute_reply": "2021-01-01T06:58:04.758405Z"
    },
    "papermill": {
     "duration": 0.106012,
     "end_time": "2021-01-01T06:58:04.759112",
     "exception": false,
     "start_time": "2021-01-01T06:58:04.653100",
     "status": "completed"
    },
    "tags": []
   },
   "outputs": [],
   "source": [
    "corr_davinci = corr_of_davinci.join(ratings[\"num_of_ratings\"])"
   ]
  },
  {
   "cell_type": "code",
   "execution_count": 62,
   "metadata": {
    "execution": {
     "iopub.execute_input": "2021-01-01T06:58:04.947734Z",
     "iopub.status.busy": "2021-01-01T06:58:04.946916Z",
     "iopub.status.idle": "2021-01-01T06:58:04.954050Z",
     "shell.execute_reply": "2021-01-01T06:58:04.953296Z"
    },
    "papermill": {
     "duration": 0.107946,
     "end_time": "2021-01-01T06:58:04.954184",
     "exception": false,
     "start_time": "2021-01-01T06:58:04.846238",
     "status": "completed"
    },
    "tags": []
   },
   "outputs": [
    {
     "data": {
      "text/html": [
       "<div>\n",
       "<style scoped>\n",
       "    .dataframe tbody tr th:only-of-type {\n",
       "        vertical-align: middle;\n",
       "    }\n",
       "\n",
       "    .dataframe tbody tr th {\n",
       "        vertical-align: top;\n",
       "    }\n",
       "\n",
       "    .dataframe thead th {\n",
       "        text-align: right;\n",
       "    }\n",
       "</style>\n",
       "<table border=\"1\" class=\"dataframe\">\n",
       "  <thead>\n",
       "    <tr style=\"text-align: right;\">\n",
       "      <th></th>\n",
       "      <th>Correlation</th>\n",
       "      <th>num_of_ratings</th>\n",
       "    </tr>\n",
       "    <tr>\n",
       "      <th>Book-Title</th>\n",
       "      <th></th>\n",
       "      <th></th>\n",
       "    </tr>\n",
       "  </thead>\n",
       "  <tbody>\n",
       "    <tr>\n",
       "      <td>...AND THE HORSE HE RODE IN ON : THE PEOPLE V. KENNETH STARR</td>\n",
       "      <td>1.000000</td>\n",
       "      <td>2</td>\n",
       "    </tr>\n",
       "    <tr>\n",
       "      <td>1,401 More Things That P*Ss Me Off</td>\n",
       "      <td>1.000000</td>\n",
       "      <td>2</td>\n",
       "    </tr>\n",
       "    <tr>\n",
       "      <td>1984</td>\n",
       "      <td>1.000000</td>\n",
       "      <td>25</td>\n",
       "    </tr>\n",
       "    <tr>\n",
       "      <td>1st to Die: A Novel</td>\n",
       "      <td>0.500342</td>\n",
       "      <td>37</td>\n",
       "    </tr>\n",
       "    <tr>\n",
       "      <td>24 Hours</td>\n",
       "      <td>-1.000000</td>\n",
       "      <td>8</td>\n",
       "    </tr>\n",
       "  </tbody>\n",
       "</table>\n",
       "</div>"
      ],
      "text/plain": [
       "                                                    Correlation  \\\n",
       "Book-Title                                                        \n",
       "...AND THE HORSE HE RODE IN ON : THE PEOPLE V. ...     1.000000   \n",
       "1,401 More Things That P*Ss Me Off                     1.000000   \n",
       "1984                                                   1.000000   \n",
       "1st to Die: A Novel                                    0.500342   \n",
       "24 Hours                                              -1.000000   \n",
       "\n",
       "                                                    num_of_ratings  \n",
       "Book-Title                                                          \n",
       "...AND THE HORSE HE RODE IN ON : THE PEOPLE V. ...               2  \n",
       "1,401 More Things That P*Ss Me Off                               2  \n",
       "1984                                                            25  \n",
       "1st to Die: A Novel                                             37  \n",
       "24 Hours                                                         8  "
      ]
     },
     "execution_count": 62,
     "metadata": {},
     "output_type": "execute_result"
    }
   ],
   "source": [
    "corr_davinci.head()"
   ]
  },
  {
   "cell_type": "code",
   "execution_count": 63,
   "metadata": {
    "execution": {
     "iopub.execute_input": "2021-01-01T06:58:05.120510Z",
     "iopub.status.busy": "2021-01-01T06:58:05.119699Z",
     "iopub.status.idle": "2021-01-01T06:58:05.125804Z",
     "shell.execute_reply": "2021-01-01T06:58:05.125128Z"
    },
    "papermill": {
     "duration": 0.093675,
     "end_time": "2021-01-01T06:58:05.125917",
     "exception": false,
     "start_time": "2021-01-01T06:58:05.032242",
     "status": "completed"
    },
    "tags": []
   },
   "outputs": [
    {
     "data": {
      "text/html": [
       "<div>\n",
       "<style scoped>\n",
       "    .dataframe tbody tr th:only-of-type {\n",
       "        vertical-align: middle;\n",
       "    }\n",
       "\n",
       "    .dataframe tbody tr th {\n",
       "        vertical-align: top;\n",
       "    }\n",
       "\n",
       "    .dataframe thead th {\n",
       "        text-align: right;\n",
       "    }\n",
       "</style>\n",
       "<table border=\"1\" class=\"dataframe\">\n",
       "  <thead>\n",
       "    <tr style=\"text-align: right;\">\n",
       "      <th></th>\n",
       "      <th>Correlation</th>\n",
       "      <th>num_of_ratings</th>\n",
       "    </tr>\n",
       "    <tr>\n",
       "      <th>Book-Title</th>\n",
       "      <th></th>\n",
       "      <th></th>\n",
       "    </tr>\n",
       "  </thead>\n",
       "  <tbody>\n",
       "    <tr>\n",
       "      <td>The Da Vinci Code</td>\n",
       "      <td>1.000000</td>\n",
       "      <td>76</td>\n",
       "    </tr>\n",
       "    <tr>\n",
       "      <td>The Client</td>\n",
       "      <td>0.739153</td>\n",
       "      <td>51</td>\n",
       "    </tr>\n",
       "    <tr>\n",
       "      <td>The Pelican Brief</td>\n",
       "      <td>0.702524</td>\n",
       "      <td>60</td>\n",
       "    </tr>\n",
       "    <tr>\n",
       "      <td>The Nanny Diaries: A Novel</td>\n",
       "      <td>0.633792</td>\n",
       "      <td>70</td>\n",
       "    </tr>\n",
       "    <tr>\n",
       "      <td>Harry Potter and the Sorcerer's Stone (Harry Potter (Paperback))</td>\n",
       "      <td>0.575758</td>\n",
       "      <td>53</td>\n",
       "    </tr>\n",
       "    <tr>\n",
       "      <td>House of Sand and Fog</td>\n",
       "      <td>0.505445</td>\n",
       "      <td>53</td>\n",
       "    </tr>\n",
       "    <tr>\n",
       "      <td>The Testament</td>\n",
       "      <td>0.495832</td>\n",
       "      <td>52</td>\n",
       "    </tr>\n",
       "    <tr>\n",
       "      <td>Bridget Jones's Diary</td>\n",
       "      <td>0.468948</td>\n",
       "      <td>63</td>\n",
       "    </tr>\n",
       "    <tr>\n",
       "      <td>The Red Tent (Bestselling Backlist)</td>\n",
       "      <td>0.363681</td>\n",
       "      <td>64</td>\n",
       "    </tr>\n",
       "    <tr>\n",
       "      <td>Summer Sisters</td>\n",
       "      <td>0.318036</td>\n",
       "      <td>52</td>\n",
       "    </tr>\n",
       "    <tr>\n",
       "      <td>Wild Animus</td>\n",
       "      <td>0.298259</td>\n",
       "      <td>197</td>\n",
       "    </tr>\n",
       "    <tr>\n",
       "      <td>The Lovely Bones: A Novel</td>\n",
       "      <td>0.257703</td>\n",
       "      <td>107</td>\n",
       "    </tr>\n",
       "    <tr>\n",
       "      <td>Life of Pi</td>\n",
       "      <td>0.041350</td>\n",
       "      <td>71</td>\n",
       "    </tr>\n",
       "    <tr>\n",
       "      <td>Where the Heart Is (Oprah's Book Club (Paperback))</td>\n",
       "      <td>0.027104</td>\n",
       "      <td>54</td>\n",
       "    </tr>\n",
       "    <tr>\n",
       "      <td>Snow Falling on Cedars</td>\n",
       "      <td>-0.071904</td>\n",
       "      <td>57</td>\n",
       "    </tr>\n",
       "    <tr>\n",
       "      <td>White Oleander : A Novel</td>\n",
       "      <td>-0.126391</td>\n",
       "      <td>53</td>\n",
       "    </tr>\n",
       "    <tr>\n",
       "      <td>The Secret Life of Bees</td>\n",
       "      <td>-0.191660</td>\n",
       "      <td>78</td>\n",
       "    </tr>\n",
       "    <tr>\n",
       "      <td>A Painted House</td>\n",
       "      <td>-0.204593</td>\n",
       "      <td>64</td>\n",
       "    </tr>\n",
       "    <tr>\n",
       "      <td>Divine Secrets of the Ya-Ya Sisterhood: A Novel</td>\n",
       "      <td>-0.660648</td>\n",
       "      <td>70</td>\n",
       "    </tr>\n",
       "  </tbody>\n",
       "</table>\n",
       "</div>"
      ],
      "text/plain": [
       "                                                    Correlation  \\\n",
       "Book-Title                                                        \n",
       "The Da Vinci Code                                      1.000000   \n",
       "The Client                                             0.739153   \n",
       "The Pelican Brief                                      0.702524   \n",
       "The Nanny Diaries: A Novel                             0.633792   \n",
       "Harry Potter and the Sorcerer's Stone (Harry Po...     0.575758   \n",
       "House of Sand and Fog                                  0.505445   \n",
       "The Testament                                          0.495832   \n",
       "Bridget Jones's Diary                                  0.468948   \n",
       "The Red Tent (Bestselling Backlist)                    0.363681   \n",
       "Summer Sisters                                         0.318036   \n",
       "Wild Animus                                            0.298259   \n",
       "The Lovely Bones: A Novel                              0.257703   \n",
       "Life of Pi                                             0.041350   \n",
       "Where the Heart Is (Oprah's Book Club (Paperback))     0.027104   \n",
       "Snow Falling on Cedars                                -0.071904   \n",
       "White Oleander : A Novel                              -0.126391   \n",
       "The Secret Life of Bees                               -0.191660   \n",
       "A Painted House                                       -0.204593   \n",
       "Divine Secrets of the Ya-Ya Sisterhood: A Novel       -0.660648   \n",
       "\n",
       "                                                    num_of_ratings  \n",
       "Book-Title                                                          \n",
       "The Da Vinci Code                                               76  \n",
       "The Client                                                      51  \n",
       "The Pelican Brief                                               60  \n",
       "The Nanny Diaries: A Novel                                      70  \n",
       "Harry Potter and the Sorcerer's Stone (Harry Po...              53  \n",
       "House of Sand and Fog                                           53  \n",
       "The Testament                                                   52  \n",
       "Bridget Jones's Diary                                           63  \n",
       "The Red Tent (Bestselling Backlist)                             64  \n",
       "Summer Sisters                                                  52  \n",
       "Wild Animus                                                    197  \n",
       "The Lovely Bones: A Novel                                      107  \n",
       "Life of Pi                                                      71  \n",
       "Where the Heart Is (Oprah's Book Club (Paperback))              54  \n",
       "Snow Falling on Cedars                                          57  \n",
       "White Oleander : A Novel                                        53  \n",
       "The Secret Life of Bees                                         78  \n",
       "A Painted House                                                 64  \n",
       "Divine Secrets of the Ya-Ya Sisterhood: A Novel                 70  "
      ]
     },
     "execution_count": 63,
     "metadata": {},
     "output_type": "execute_result"
    }
   ],
   "source": [
    "corr_davinci[corr_davinci.num_of_ratings > 50].sort_values(\"Correlation\", ascending=False)"
   ]
  },
  {
   "cell_type": "code",
   "execution_count": null,
   "metadata": {
    "papermill": {
     "duration": 0.076542,
     "end_time": "2021-01-01T06:58:05.275512",
     "exception": false,
     "start_time": "2021-01-01T06:58:05.198970",
     "status": "completed"
    },
    "tags": []
   },
   "outputs": [],
   "source": []
  },
  {
   "cell_type": "markdown",
   "metadata": {
    "papermill": {
     "duration": 0.086068,
     "end_time": "2021-01-01T06:58:05.436953",
     "exception": false,
     "start_time": "2021-01-01T06:58:05.350885",
     "status": "completed"
    },
    "tags": []
   },
   "source": [
    "## Predict Books"
   ]
  },
  {
   "cell_type": "code",
   "execution_count": 64,
   "metadata": {
    "execution": {
     "iopub.execute_input": "2021-01-01T06:58:05.592271Z",
     "iopub.status.busy": "2021-01-01T06:58:05.591479Z",
     "iopub.status.idle": "2021-01-01T06:58:05.594955Z",
     "shell.execute_reply": "2021-01-01T06:58:05.594263Z"
    },
    "papermill": {
     "duration": 0.08489,
     "end_time": "2021-01-01T06:58:05.595214",
     "exception": false,
     "start_time": "2021-01-01T06:58:05.510324",
     "status": "completed"
    },
    "tags": []
   },
   "outputs": [],
   "source": [
    "def predictBooks(book_name):\n",
    "    book_user_ratings = book_matrix[book_name]\n",
    "    similar_to_book_name = book_matrix.corrwith(book_user_ratings)\n",
    "    \n",
    "    corr_book_name = pd.DataFrame(similar_to_book_name, columns=[\"Correlation\"])\n",
    "    corr_book_name.dropna(inplace=True)\n",
    "    \n",
    "    corr_user_book = corr_book_name.join(ratings[\"num_of_ratings\"])\n",
    "    predictions = corr_user_book[corr_user_book.num_of_ratings > 50].sort_values(\"Correlation\", ascending=False)\n",
    "    \n",
    "    return predictions"
   ]
  },
  {
   "cell_type": "code",
   "execution_count": 65,
   "metadata": {
    "execution": {
     "iopub.execute_input": "2021-01-01T06:58:05.749173Z",
     "iopub.status.busy": "2021-01-01T06:58:05.748465Z",
     "iopub.status.idle": "2021-01-01T06:58:18.636638Z",
     "shell.execute_reply": "2021-01-01T06:58:18.636083Z"
    },
    "papermill": {
     "duration": 12.967268,
     "end_time": "2021-01-01T06:58:18.636770",
     "exception": false,
     "start_time": "2021-01-01T06:58:05.669502",
     "status": "completed"
    },
    "tags": []
   },
   "outputs": [
    {
     "data": {
      "text/html": [
       "<div>\n",
       "<style scoped>\n",
       "    .dataframe tbody tr th:only-of-type {\n",
       "        vertical-align: middle;\n",
       "    }\n",
       "\n",
       "    .dataframe tbody tr th {\n",
       "        vertical-align: top;\n",
       "    }\n",
       "\n",
       "    .dataframe thead th {\n",
       "        text-align: right;\n",
       "    }\n",
       "</style>\n",
       "<table border=\"1\" class=\"dataframe\">\n",
       "  <thead>\n",
       "    <tr style=\"text-align: right;\">\n",
       "      <th></th>\n",
       "      <th>Correlation</th>\n",
       "      <th>num_of_ratings</th>\n",
       "    </tr>\n",
       "    <tr>\n",
       "      <th>Book-Title</th>\n",
       "      <th></th>\n",
       "      <th></th>\n",
       "    </tr>\n",
       "  </thead>\n",
       "  <tbody>\n",
       "    <tr>\n",
       "      <td>Life of Pi</td>\n",
       "      <td>1.000000</td>\n",
       "      <td>71</td>\n",
       "    </tr>\n",
       "    <tr>\n",
       "      <td>Harry Potter and the Sorcerer's Stone (Harry Potter (Paperback))</td>\n",
       "      <td>0.987878</td>\n",
       "      <td>53</td>\n",
       "    </tr>\n",
       "    <tr>\n",
       "      <td>The Client</td>\n",
       "      <td>0.726184</td>\n",
       "      <td>51</td>\n",
       "    </tr>\n",
       "    <tr>\n",
       "      <td>Summer Sisters</td>\n",
       "      <td>0.705996</td>\n",
       "      <td>52</td>\n",
       "    </tr>\n",
       "    <tr>\n",
       "      <td>The Secret Life of Bees</td>\n",
       "      <td>0.559739</td>\n",
       "      <td>78</td>\n",
       "    </tr>\n",
       "    <tr>\n",
       "      <td>White Oleander : A Novel</td>\n",
       "      <td>0.554736</td>\n",
       "      <td>53</td>\n",
       "    </tr>\n",
       "    <tr>\n",
       "      <td>The Nanny Diaries: A Novel</td>\n",
       "      <td>0.523808</td>\n",
       "      <td>70</td>\n",
       "    </tr>\n",
       "    <tr>\n",
       "      <td>The Lovely Bones: A Novel</td>\n",
       "      <td>0.454988</td>\n",
       "      <td>107</td>\n",
       "    </tr>\n",
       "    <tr>\n",
       "      <td>Where the Heart Is (Oprah's Book Club (Paperback))</td>\n",
       "      <td>0.396642</td>\n",
       "      <td>54</td>\n",
       "    </tr>\n",
       "    <tr>\n",
       "      <td>A Painted House</td>\n",
       "      <td>0.355842</td>\n",
       "      <td>64</td>\n",
       "    </tr>\n",
       "    <tr>\n",
       "      <td>Bridget Jones's Diary</td>\n",
       "      <td>0.329698</td>\n",
       "      <td>63</td>\n",
       "    </tr>\n",
       "    <tr>\n",
       "      <td>The Red Tent (Bestselling Backlist)</td>\n",
       "      <td>0.312254</td>\n",
       "      <td>64</td>\n",
       "    </tr>\n",
       "    <tr>\n",
       "      <td>Wild Animus</td>\n",
       "      <td>0.191487</td>\n",
       "      <td>197</td>\n",
       "    </tr>\n",
       "    <tr>\n",
       "      <td>House of Sand and Fog</td>\n",
       "      <td>0.111657</td>\n",
       "      <td>53</td>\n",
       "    </tr>\n",
       "    <tr>\n",
       "      <td>Divine Secrets of the Ya-Ya Sisterhood: A Novel</td>\n",
       "      <td>0.050816</td>\n",
       "      <td>70</td>\n",
       "    </tr>\n",
       "    <tr>\n",
       "      <td>The Da Vinci Code</td>\n",
       "      <td>0.041350</td>\n",
       "      <td>76</td>\n",
       "    </tr>\n",
       "    <tr>\n",
       "      <td>The Pelican Brief</td>\n",
       "      <td>-0.066027</td>\n",
       "      <td>60</td>\n",
       "    </tr>\n",
       "    <tr>\n",
       "      <td>Snow Falling on Cedars</td>\n",
       "      <td>-0.130579</td>\n",
       "      <td>57</td>\n",
       "    </tr>\n",
       "    <tr>\n",
       "      <td>The Testament</td>\n",
       "      <td>-0.397325</td>\n",
       "      <td>52</td>\n",
       "    </tr>\n",
       "  </tbody>\n",
       "</table>\n",
       "</div>"
      ],
      "text/plain": [
       "                                                    Correlation  \\\n",
       "Book-Title                                                        \n",
       "Life of Pi                                             1.000000   \n",
       "Harry Potter and the Sorcerer's Stone (Harry Po...     0.987878   \n",
       "The Client                                             0.726184   \n",
       "Summer Sisters                                         0.705996   \n",
       "The Secret Life of Bees                                0.559739   \n",
       "White Oleander : A Novel                               0.554736   \n",
       "The Nanny Diaries: A Novel                             0.523808   \n",
       "The Lovely Bones: A Novel                              0.454988   \n",
       "Where the Heart Is (Oprah's Book Club (Paperback))     0.396642   \n",
       "A Painted House                                        0.355842   \n",
       "Bridget Jones's Diary                                  0.329698   \n",
       "The Red Tent (Bestselling Backlist)                    0.312254   \n",
       "Wild Animus                                            0.191487   \n",
       "House of Sand and Fog                                  0.111657   \n",
       "Divine Secrets of the Ya-Ya Sisterhood: A Novel        0.050816   \n",
       "The Da Vinci Code                                      0.041350   \n",
       "The Pelican Brief                                     -0.066027   \n",
       "Snow Falling on Cedars                                -0.130579   \n",
       "The Testament                                         -0.397325   \n",
       "\n",
       "                                                    num_of_ratings  \n",
       "Book-Title                                                          \n",
       "Life of Pi                                                      71  \n",
       "Harry Potter and the Sorcerer's Stone (Harry Po...              53  \n",
       "The Client                                                      51  \n",
       "Summer Sisters                                                  52  \n",
       "The Secret Life of Bees                                         78  \n",
       "White Oleander : A Novel                                        53  \n",
       "The Nanny Diaries: A Novel                                      70  \n",
       "The Lovely Bones: A Novel                                      107  \n",
       "Where the Heart Is (Oprah's Book Club (Paperback))              54  \n",
       "A Painted House                                                 64  \n",
       "Bridget Jones's Diary                                           63  \n",
       "The Red Tent (Bestselling Backlist)                             64  \n",
       "Wild Animus                                                    197  \n",
       "House of Sand and Fog                                           53  \n",
       "Divine Secrets of the Ya-Ya Sisterhood: A Novel                 70  \n",
       "The Da Vinci Code                                               76  \n",
       "The Pelican Brief                                               60  \n",
       "Snow Falling on Cedars                                          57  \n",
       "The Testament                                                   52  "
      ]
     },
     "execution_count": 65,
     "metadata": {},
     "output_type": "execute_result"
    }
   ],
   "source": [
    "predictBooks(\"Life of Pi\")"
   ]
  },
  {
   "cell_type": "code",
   "execution_count": null,
   "metadata": {
    "papermill": {
     "duration": 0.075649,
     "end_time": "2021-01-01T06:58:18.787301",
     "exception": false,
     "start_time": "2021-01-01T06:58:18.711652",
     "status": "completed"
    },
    "tags": []
   },
   "outputs": [],
   "source": []
  }
 ],
 "metadata": {
  "kernelspec": {
   "display_name": "Python 3",
   "language": "python",
   "name": "python3"
  },
  "language_info": {
   "codemirror_mode": {
    "name": "ipython",
    "version": 3
   },
   "file_extension": ".py",
   "mimetype": "text/x-python",
   "name": "python",
   "nbconvert_exporter": "python",
   "pygments_lexer": "ipython3",
   "version": "3.7.4"
  },
  "papermill": {
   "duration": 56.1943,
   "end_time": "2021-01-01T06:58:19.914757",
   "environment_variables": {},
   "exception": null,
   "input_path": "__notebook__.ipynb",
   "output_path": "__notebook__.ipynb",
   "parameters": {},
   "start_time": "2021-01-01T06:57:23.720457",
   "version": "2.1.0"
  }
 },
 "nbformat": 4,
 "nbformat_minor": 4
}
